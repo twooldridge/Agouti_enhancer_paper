{
 "cells": [
  {
   "cell_type": "markdown",
   "metadata": {},
   "source": [
    "## Info"
   ]
  },
  {
   "cell_type": "markdown",
   "metadata": {},
   "source": [
    "This notebook has code for performing GWAS with EMMAX"
   ]
  },
  {
   "cell_type": "markdown",
   "metadata": {},
   "source": [
    "## Set up env"
   ]
  },
  {
   "cell_type": "markdown",
   "metadata": {},
   "source": [
    "### Load modules"
   ]
  },
  {
   "cell_type": "code",
   "execution_count": 3,
   "metadata": {
    "ExecuteTime": {
     "end_time": "2022-05-13T17:47:02.684815Z",
     "start_time": "2022-05-13T17:46:35.838907Z"
    }
   },
   "outputs": [],
   "source": [
    "import sys,os,re,fnmatch,glob,shutil\n",
    "import subprocess,itertools\n",
    "import numpy as np\n",
    "import pandas as pd\n",
    "import limix\n",
    "import pandas_plink\n",
    "import pylab as pl\n",
    "import allel\n",
    "import h5py\n",
    "import matplotlib.pyplot as plt\n",
    "import time,gzip"
   ]
  },
  {
   "cell_type": "code",
   "execution_count": 2,
   "metadata": {
    "ExecuteTime": {
     "end_time": "2020-11-11T16:41:10.419599Z",
     "start_time": "2020-11-11T16:41:10.380355Z"
    },
    "deletable": false,
    "editable": false,
    "run_control": {
     "frozen": true
    }
   },
   "outputs": [],
   "source": [
    "%matplotlib inline"
   ]
  },
  {
   "cell_type": "code",
   "execution_count": 2,
   "metadata": {
    "ExecuteTime": {
     "end_time": "2022-05-13T16:59:54.548629Z",
     "start_time": "2022-05-13T16:59:46.096696Z"
    }
   },
   "outputs": [],
   "source": [
    "%load_ext rpy2.ipython"
   ]
  },
  {
   "cell_type": "code",
   "execution_count": 8,
   "metadata": {
    "ExecuteTime": {
     "end_time": "2022-05-13T18:14:12.921361Z",
     "start_time": "2022-05-13T18:14:12.867574Z"
    },
    "scrolled": true
   },
   "outputs": [
    {
     "name": "stderr",
     "output_type": "stream",
     "text": [
      "R[write to console]: Error in library(\"vcfR\") : there is no package called ‘vcfR’\n",
      "\n"
     ]
    },
    {
     "name": "stdout",
     "output_type": "stream",
     "text": [
      "\n",
      "Error in library(\"vcfR\") : there is no package called ‘vcfR’\n"
     ]
    },
    {
     "ename": "RInterpreterError",
     "evalue": "Failed to parse and evaluate line 'library(\"corrplot\")\\nlibrary(\"FactoMineR\")\\nlibrary(\"factoextra\")\\nlibrary(\"missMDA\")\\nlibrary(\"qqman\")\\nlibrary(\"snpStats\")\\nlibrary(\"IntAssoPlot\")\\nlibrary(\"tidyverse\")\\nlibrary(\"vcfR\")\\nlibrary(\"ggforce\")\\n'.\nR error message: 'Error in library(\"vcfR\") : there is no package called ‘vcfR’'",
     "output_type": "error",
     "traceback": [
      "\u001b[0;31m---------------------------------------------------------------------------\u001b[0m",
      "\u001b[0;31mRRuntimeError\u001b[0m                             Traceback (most recent call last)",
      "\u001b[0;32m~/.conda/envs/doom/lib/python3.7/site-packages/rpy2/ipython/rmagic.py\u001b[0m in \u001b[0;36meval\u001b[0;34m(self, code)\u001b[0m\n\u001b[1;32m    267\u001b[0m                 \u001b[0;31m# Need the newline in case the last line in code is a comment.\u001b[0m\u001b[0;34m\u001b[0m\u001b[0;34m\u001b[0m\u001b[0;34m\u001b[0m\u001b[0m\n\u001b[0;32m--> 268\u001b[0;31m                 \u001b[0mvalue\u001b[0m\u001b[0;34m,\u001b[0m \u001b[0mvisible\u001b[0m \u001b[0;34m=\u001b[0m \u001b[0mro\u001b[0m\u001b[0;34m.\u001b[0m\u001b[0mr\u001b[0m\u001b[0;34m(\u001b[0m\u001b[0;34m\"withVisible({%s\\n})\"\u001b[0m \u001b[0;34m%\u001b[0m \u001b[0mcode\u001b[0m\u001b[0;34m)\u001b[0m\u001b[0;34m\u001b[0m\u001b[0;34m\u001b[0m\u001b[0m\n\u001b[0m\u001b[1;32m    269\u001b[0m             \u001b[0;32mexcept\u001b[0m \u001b[0;34m(\u001b[0m\u001b[0mri\u001b[0m\u001b[0;34m.\u001b[0m\u001b[0membedded\u001b[0m\u001b[0;34m.\u001b[0m\u001b[0mRRuntimeError\u001b[0m\u001b[0;34m,\u001b[0m \u001b[0mValueError\u001b[0m\u001b[0;34m)\u001b[0m \u001b[0;32mas\u001b[0m \u001b[0mexception\u001b[0m\u001b[0;34m:\u001b[0m\u001b[0;34m\u001b[0m\u001b[0;34m\u001b[0m\u001b[0m\n",
      "\u001b[0;32m~/.conda/envs/doom/lib/python3.7/site-packages/rpy2/robjects/__init__.py\u001b[0m in \u001b[0;36m__call__\u001b[0;34m(self, string)\u001b[0m\n\u001b[1;32m    437\u001b[0m         \u001b[0mp\u001b[0m \u001b[0;34m=\u001b[0m \u001b[0mrinterface\u001b[0m\u001b[0;34m.\u001b[0m\u001b[0mparse\u001b[0m\u001b[0;34m(\u001b[0m\u001b[0mstring\u001b[0m\u001b[0;34m)\u001b[0m\u001b[0;34m\u001b[0m\u001b[0;34m\u001b[0m\u001b[0m\n\u001b[0;32m--> 438\u001b[0;31m         \u001b[0mres\u001b[0m \u001b[0;34m=\u001b[0m \u001b[0mself\u001b[0m\u001b[0;34m.\u001b[0m\u001b[0meval\u001b[0m\u001b[0;34m(\u001b[0m\u001b[0mp\u001b[0m\u001b[0;34m)\u001b[0m\u001b[0;34m\u001b[0m\u001b[0;34m\u001b[0m\u001b[0m\n\u001b[0m\u001b[1;32m    439\u001b[0m         \u001b[0;32mreturn\u001b[0m \u001b[0mconversion\u001b[0m\u001b[0;34m.\u001b[0m\u001b[0mrpy2py\u001b[0m\u001b[0;34m(\u001b[0m\u001b[0mres\u001b[0m\u001b[0;34m)\u001b[0m\u001b[0;34m\u001b[0m\u001b[0;34m\u001b[0m\u001b[0m\n",
      "\u001b[0;32m~/.conda/envs/doom/lib/python3.7/site-packages/rpy2/robjects/functions.py\u001b[0m in \u001b[0;36m__call__\u001b[0;34m(self, *args, **kwargs)\u001b[0m\n\u001b[1;32m    198\u001b[0m         return (super(SignatureTranslatedFunction, self)\n\u001b[0;32m--> 199\u001b[0;31m                 .__call__(*args, **kwargs))\n\u001b[0m\u001b[1;32m    200\u001b[0m \u001b[0;34m\u001b[0m\u001b[0m\n",
      "\u001b[0;32m~/.conda/envs/doom/lib/python3.7/site-packages/rpy2/robjects/functions.py\u001b[0m in \u001b[0;36m__call__\u001b[0;34m(self, *args, **kwargs)\u001b[0m\n\u001b[1;32m    124\u001b[0m                 \u001b[0mnew_kwargs\u001b[0m\u001b[0;34m[\u001b[0m\u001b[0mk\u001b[0m\u001b[0;34m]\u001b[0m \u001b[0;34m=\u001b[0m \u001b[0mconversion\u001b[0m\u001b[0;34m.\u001b[0m\u001b[0mpy2rpy\u001b[0m\u001b[0;34m(\u001b[0m\u001b[0mv\u001b[0m\u001b[0;34m)\u001b[0m\u001b[0;34m\u001b[0m\u001b[0;34m\u001b[0m\u001b[0m\n\u001b[0;32m--> 125\u001b[0;31m         \u001b[0mres\u001b[0m \u001b[0;34m=\u001b[0m \u001b[0msuper\u001b[0m\u001b[0;34m(\u001b[0m\u001b[0mFunction\u001b[0m\u001b[0;34m,\u001b[0m \u001b[0mself\u001b[0m\u001b[0;34m)\u001b[0m\u001b[0;34m.\u001b[0m\u001b[0m__call__\u001b[0m\u001b[0;34m(\u001b[0m\u001b[0;34m*\u001b[0m\u001b[0mnew_args\u001b[0m\u001b[0;34m,\u001b[0m \u001b[0;34m**\u001b[0m\u001b[0mnew_kwargs\u001b[0m\u001b[0;34m)\u001b[0m\u001b[0;34m\u001b[0m\u001b[0;34m\u001b[0m\u001b[0m\n\u001b[0m\u001b[1;32m    126\u001b[0m         \u001b[0mres\u001b[0m \u001b[0;34m=\u001b[0m \u001b[0mconversion\u001b[0m\u001b[0;34m.\u001b[0m\u001b[0mrpy2py\u001b[0m\u001b[0;34m(\u001b[0m\u001b[0mres\u001b[0m\u001b[0;34m)\u001b[0m\u001b[0;34m\u001b[0m\u001b[0;34m\u001b[0m\u001b[0m\n",
      "\u001b[0;32m~/.conda/envs/doom/lib/python3.7/site-packages/rpy2/rinterface_lib/conversion.py\u001b[0m in \u001b[0;36m_\u001b[0;34m(*args, **kwargs)\u001b[0m\n\u001b[1;32m     44\u001b[0m     \u001b[0;32mdef\u001b[0m \u001b[0m_\u001b[0m\u001b[0;34m(\u001b[0m\u001b[0;34m*\u001b[0m\u001b[0margs\u001b[0m\u001b[0;34m,\u001b[0m \u001b[0;34m**\u001b[0m\u001b[0mkwargs\u001b[0m\u001b[0;34m)\u001b[0m\u001b[0;34m:\u001b[0m\u001b[0;34m\u001b[0m\u001b[0;34m\u001b[0m\u001b[0m\n\u001b[0;32m---> 45\u001b[0;31m         \u001b[0mcdata\u001b[0m \u001b[0;34m=\u001b[0m \u001b[0mfunction\u001b[0m\u001b[0;34m(\u001b[0m\u001b[0;34m*\u001b[0m\u001b[0margs\u001b[0m\u001b[0;34m,\u001b[0m \u001b[0;34m**\u001b[0m\u001b[0mkwargs\u001b[0m\u001b[0;34m)\u001b[0m\u001b[0;34m\u001b[0m\u001b[0;34m\u001b[0m\u001b[0m\n\u001b[0m\u001b[1;32m     46\u001b[0m         \u001b[0;31m# TODO: test cdata is of the expected CType\u001b[0m\u001b[0;34m\u001b[0m\u001b[0;34m\u001b[0m\u001b[0;34m\u001b[0m\u001b[0m\n",
      "\u001b[0;32m~/.conda/envs/doom/lib/python3.7/site-packages/rpy2/rinterface.py\u001b[0m in \u001b[0;36m__call__\u001b[0;34m(self, *args, **kwargs)\u001b[0m\n\u001b[1;32m    679\u001b[0m             \u001b[0;32mif\u001b[0m \u001b[0merror_occured\u001b[0m\u001b[0;34m[\u001b[0m\u001b[0;36m0\u001b[0m\u001b[0;34m]\u001b[0m\u001b[0;34m:\u001b[0m\u001b[0;34m\u001b[0m\u001b[0;34m\u001b[0m\u001b[0m\n\u001b[0;32m--> 680\u001b[0;31m                 \u001b[0;32mraise\u001b[0m \u001b[0membedded\u001b[0m\u001b[0;34m.\u001b[0m\u001b[0mRRuntimeError\u001b[0m\u001b[0;34m(\u001b[0m\u001b[0m_rinterface\u001b[0m\u001b[0;34m.\u001b[0m\u001b[0m_geterrmessage\u001b[0m\u001b[0;34m(\u001b[0m\u001b[0;34m)\u001b[0m\u001b[0;34m)\u001b[0m\u001b[0;34m\u001b[0m\u001b[0;34m\u001b[0m\u001b[0m\n\u001b[0m\u001b[1;32m    681\u001b[0m         \u001b[0;32mreturn\u001b[0m \u001b[0mres\u001b[0m\u001b[0;34m\u001b[0m\u001b[0;34m\u001b[0m\u001b[0m\n",
      "\u001b[0;31mRRuntimeError\u001b[0m: Error in library(\"vcfR\") : there is no package called ‘vcfR’\n",
      "\nDuring handling of the above exception, another exception occurred:\n",
      "\u001b[0;31mRInterpreterError\u001b[0m                         Traceback (most recent call last)",
      "\u001b[0;32m<ipython-input-8-a5170bc34112>\u001b[0m in \u001b[0;36m<module>\u001b[0;34m\u001b[0m\n\u001b[0;32m----> 1\u001b[0;31m \u001b[0mget_ipython\u001b[0m\u001b[0;34m(\u001b[0m\u001b[0;34m)\u001b[0m\u001b[0;34m.\u001b[0m\u001b[0mrun_cell_magic\u001b[0m\u001b[0;34m(\u001b[0m\u001b[0;34m'R'\u001b[0m\u001b[0;34m,\u001b[0m \u001b[0;34m''\u001b[0m\u001b[0;34m,\u001b[0m \u001b[0;34m'library(\"corrplot\")\\nlibrary(\"FactoMineR\")\\nlibrary(\"factoextra\")\\nlibrary(\"missMDA\")\\nlibrary(\"qqman\")\\nlibrary(\"snpStats\")\\nlibrary(\"IntAssoPlot\")\\nlibrary(\"tidyverse\")\\nlibrary(\"vcfR\")\\nlibrary(\"ggforce\")\\n'\u001b[0m\u001b[0;34m)\u001b[0m\u001b[0;34m\u001b[0m\u001b[0;34m\u001b[0m\u001b[0m\n\u001b[0m",
      "\u001b[0;32m~/.conda/envs/doom/lib/python3.7/site-packages/IPython/core/interactiveshell.py\u001b[0m in \u001b[0;36mrun_cell_magic\u001b[0;34m(self, magic_name, line, cell)\u001b[0m\n\u001b[1;32m   2401\u001b[0m             \u001b[0;32mwith\u001b[0m \u001b[0mself\u001b[0m\u001b[0;34m.\u001b[0m\u001b[0mbuiltin_trap\u001b[0m\u001b[0;34m:\u001b[0m\u001b[0;34m\u001b[0m\u001b[0;34m\u001b[0m\u001b[0m\n\u001b[1;32m   2402\u001b[0m                 \u001b[0margs\u001b[0m \u001b[0;34m=\u001b[0m \u001b[0;34m(\u001b[0m\u001b[0mmagic_arg_s\u001b[0m\u001b[0;34m,\u001b[0m \u001b[0mcell\u001b[0m\u001b[0;34m)\u001b[0m\u001b[0;34m\u001b[0m\u001b[0;34m\u001b[0m\u001b[0m\n\u001b[0;32m-> 2403\u001b[0;31m                 \u001b[0mresult\u001b[0m \u001b[0;34m=\u001b[0m \u001b[0mfn\u001b[0m\u001b[0;34m(\u001b[0m\u001b[0;34m*\u001b[0m\u001b[0margs\u001b[0m\u001b[0;34m,\u001b[0m \u001b[0;34m**\u001b[0m\u001b[0mkwargs\u001b[0m\u001b[0;34m)\u001b[0m\u001b[0;34m\u001b[0m\u001b[0;34m\u001b[0m\u001b[0m\n\u001b[0m\u001b[1;32m   2404\u001b[0m             \u001b[0;32mreturn\u001b[0m \u001b[0mresult\u001b[0m\u001b[0;34m\u001b[0m\u001b[0;34m\u001b[0m\u001b[0m\n\u001b[1;32m   2405\u001b[0m \u001b[0;34m\u001b[0m\u001b[0m\n",
      "\u001b[0;32m~/.conda/envs/doom/lib/python3.7/site-packages/decorator.py\u001b[0m in \u001b[0;36mfun\u001b[0;34m(*args, **kw)\u001b[0m\n\u001b[1;32m    230\u001b[0m             \u001b[0;32mif\u001b[0m \u001b[0;32mnot\u001b[0m \u001b[0mkwsyntax\u001b[0m\u001b[0;34m:\u001b[0m\u001b[0;34m\u001b[0m\u001b[0;34m\u001b[0m\u001b[0m\n\u001b[1;32m    231\u001b[0m                 \u001b[0margs\u001b[0m\u001b[0;34m,\u001b[0m \u001b[0mkw\u001b[0m \u001b[0;34m=\u001b[0m \u001b[0mfix\u001b[0m\u001b[0;34m(\u001b[0m\u001b[0margs\u001b[0m\u001b[0;34m,\u001b[0m \u001b[0mkw\u001b[0m\u001b[0;34m,\u001b[0m \u001b[0msig\u001b[0m\u001b[0;34m)\u001b[0m\u001b[0;34m\u001b[0m\u001b[0;34m\u001b[0m\u001b[0m\n\u001b[0;32m--> 232\u001b[0;31m             \u001b[0;32mreturn\u001b[0m \u001b[0mcaller\u001b[0m\u001b[0;34m(\u001b[0m\u001b[0mfunc\u001b[0m\u001b[0;34m,\u001b[0m \u001b[0;34m*\u001b[0m\u001b[0;34m(\u001b[0m\u001b[0mextras\u001b[0m \u001b[0;34m+\u001b[0m \u001b[0margs\u001b[0m\u001b[0;34m)\u001b[0m\u001b[0;34m,\u001b[0m \u001b[0;34m**\u001b[0m\u001b[0mkw\u001b[0m\u001b[0;34m)\u001b[0m\u001b[0;34m\u001b[0m\u001b[0;34m\u001b[0m\u001b[0m\n\u001b[0m\u001b[1;32m    233\u001b[0m     \u001b[0mfun\u001b[0m\u001b[0;34m.\u001b[0m\u001b[0m__name__\u001b[0m \u001b[0;34m=\u001b[0m \u001b[0mfunc\u001b[0m\u001b[0;34m.\u001b[0m\u001b[0m__name__\u001b[0m\u001b[0;34m\u001b[0m\u001b[0;34m\u001b[0m\u001b[0m\n\u001b[1;32m    234\u001b[0m     \u001b[0mfun\u001b[0m\u001b[0;34m.\u001b[0m\u001b[0m__doc__\u001b[0m \u001b[0;34m=\u001b[0m \u001b[0mfunc\u001b[0m\u001b[0;34m.\u001b[0m\u001b[0m__doc__\u001b[0m\u001b[0;34m\u001b[0m\u001b[0;34m\u001b[0m\u001b[0m\n",
      "\u001b[0;32m~/.conda/envs/doom/lib/python3.7/site-packages/IPython/core/magic.py\u001b[0m in \u001b[0;36m<lambda>\u001b[0;34m(f, *a, **k)\u001b[0m\n\u001b[1;32m    185\u001b[0m     \u001b[0;31m# but it's overkill for just that one bit of state.\u001b[0m\u001b[0;34m\u001b[0m\u001b[0;34m\u001b[0m\u001b[0;34m\u001b[0m\u001b[0m\n\u001b[1;32m    186\u001b[0m     \u001b[0;32mdef\u001b[0m \u001b[0mmagic_deco\u001b[0m\u001b[0;34m(\u001b[0m\u001b[0marg\u001b[0m\u001b[0;34m)\u001b[0m\u001b[0;34m:\u001b[0m\u001b[0;34m\u001b[0m\u001b[0;34m\u001b[0m\u001b[0m\n\u001b[0;32m--> 187\u001b[0;31m         \u001b[0mcall\u001b[0m \u001b[0;34m=\u001b[0m \u001b[0;32mlambda\u001b[0m \u001b[0mf\u001b[0m\u001b[0;34m,\u001b[0m \u001b[0;34m*\u001b[0m\u001b[0ma\u001b[0m\u001b[0;34m,\u001b[0m \u001b[0;34m**\u001b[0m\u001b[0mk\u001b[0m\u001b[0;34m:\u001b[0m \u001b[0mf\u001b[0m\u001b[0;34m(\u001b[0m\u001b[0;34m*\u001b[0m\u001b[0ma\u001b[0m\u001b[0;34m,\u001b[0m \u001b[0;34m**\u001b[0m\u001b[0mk\u001b[0m\u001b[0;34m)\u001b[0m\u001b[0;34m\u001b[0m\u001b[0;34m\u001b[0m\u001b[0m\n\u001b[0m\u001b[1;32m    188\u001b[0m \u001b[0;34m\u001b[0m\u001b[0m\n\u001b[1;32m    189\u001b[0m         \u001b[0;32mif\u001b[0m \u001b[0mcallable\u001b[0m\u001b[0;34m(\u001b[0m\u001b[0marg\u001b[0m\u001b[0;34m)\u001b[0m\u001b[0;34m:\u001b[0m\u001b[0;34m\u001b[0m\u001b[0;34m\u001b[0m\u001b[0m\n",
      "\u001b[0;32m~/.conda/envs/doom/lib/python3.7/site-packages/rpy2/ipython/rmagic.py\u001b[0m in \u001b[0;36mR\u001b[0;34m(self, line, cell, local_ns)\u001b[0m\n\u001b[1;32m    781\u001b[0m             \u001b[0;32mif\u001b[0m \u001b[0;32mnot\u001b[0m \u001b[0me\u001b[0m\u001b[0;34m.\u001b[0m\u001b[0mstdout\u001b[0m\u001b[0;34m.\u001b[0m\u001b[0mendswith\u001b[0m\u001b[0;34m(\u001b[0m\u001b[0me\u001b[0m\u001b[0;34m.\u001b[0m\u001b[0merr\u001b[0m\u001b[0;34m)\u001b[0m\u001b[0;34m:\u001b[0m\u001b[0;34m\u001b[0m\u001b[0;34m\u001b[0m\u001b[0m\n\u001b[1;32m    782\u001b[0m                 \u001b[0mprint\u001b[0m\u001b[0;34m(\u001b[0m\u001b[0me\u001b[0m\u001b[0;34m.\u001b[0m\u001b[0merr\u001b[0m\u001b[0;34m)\u001b[0m\u001b[0;34m\u001b[0m\u001b[0;34m\u001b[0m\u001b[0m\n\u001b[0;32m--> 783\u001b[0;31m             \u001b[0;32mraise\u001b[0m \u001b[0me\u001b[0m\u001b[0;34m\u001b[0m\u001b[0;34m\u001b[0m\u001b[0m\n\u001b[0m\u001b[1;32m    784\u001b[0m         \u001b[0;32mfinally\u001b[0m\u001b[0;34m:\u001b[0m\u001b[0;34m\u001b[0m\u001b[0;34m\u001b[0m\u001b[0m\n\u001b[1;32m    785\u001b[0m             \u001b[0;32mif\u001b[0m \u001b[0mself\u001b[0m\u001b[0;34m.\u001b[0m\u001b[0mdevice\u001b[0m \u001b[0;32min\u001b[0m \u001b[0;34m[\u001b[0m\u001b[0;34m'png'\u001b[0m\u001b[0;34m,\u001b[0m \u001b[0;34m'svg'\u001b[0m\u001b[0;34m]\u001b[0m\u001b[0;34m:\u001b[0m\u001b[0;34m\u001b[0m\u001b[0;34m\u001b[0m\u001b[0m\n",
      "\u001b[0;32m~/.conda/envs/doom/lib/python3.7/site-packages/rpy2/ipython/rmagic.py\u001b[0m in \u001b[0;36mR\u001b[0;34m(self, line, cell, local_ns)\u001b[0m\n\u001b[1;32m    761\u001b[0m                     \u001b[0mreturn_output\u001b[0m \u001b[0;34m=\u001b[0m \u001b[0;32mFalse\u001b[0m\u001b[0;34m\u001b[0m\u001b[0;34m\u001b[0m\u001b[0m\n\u001b[1;32m    762\u001b[0m             \u001b[0;32melse\u001b[0m\u001b[0;34m:\u001b[0m\u001b[0;34m\u001b[0m\u001b[0;34m\u001b[0m\u001b[0m\n\u001b[0;32m--> 763\u001b[0;31m                 \u001b[0mtext_result\u001b[0m\u001b[0;34m,\u001b[0m \u001b[0mresult\u001b[0m\u001b[0;34m,\u001b[0m \u001b[0mvisible\u001b[0m \u001b[0;34m=\u001b[0m \u001b[0mself\u001b[0m\u001b[0;34m.\u001b[0m\u001b[0meval\u001b[0m\u001b[0;34m(\u001b[0m\u001b[0mcode\u001b[0m\u001b[0;34m)\u001b[0m\u001b[0;34m\u001b[0m\u001b[0;34m\u001b[0m\u001b[0m\n\u001b[0m\u001b[1;32m    764\u001b[0m                 \u001b[0mtext_output\u001b[0m \u001b[0;34m+=\u001b[0m \u001b[0mtext_result\u001b[0m\u001b[0;34m\u001b[0m\u001b[0;34m\u001b[0m\u001b[0m\n\u001b[1;32m    765\u001b[0m                 \u001b[0;32mif\u001b[0m \u001b[0mvisible\u001b[0m\u001b[0;34m:\u001b[0m\u001b[0;34m\u001b[0m\u001b[0;34m\u001b[0m\u001b[0m\n",
      "\u001b[0;32m~/.conda/envs/doom/lib/python3.7/site-packages/rpy2/ipython/rmagic.py\u001b[0m in \u001b[0;36meval\u001b[0;34m(self, code)\u001b[0m\n\u001b[1;32m    271\u001b[0m                 \u001b[0mwarning_or_other_msg\u001b[0m \u001b[0;34m=\u001b[0m \u001b[0mself\u001b[0m\u001b[0;34m.\u001b[0m\u001b[0mflush\u001b[0m\u001b[0;34m(\u001b[0m\u001b[0;34m)\u001b[0m\u001b[0;34m\u001b[0m\u001b[0;34m\u001b[0m\u001b[0m\n\u001b[1;32m    272\u001b[0m                 raise RInterpreterError(code, str(exception),\n\u001b[0;32m--> 273\u001b[0;31m                                         warning_or_other_msg)\n\u001b[0m\u001b[1;32m    274\u001b[0m             \u001b[0mtext_output\u001b[0m \u001b[0;34m=\u001b[0m \u001b[0mself\u001b[0m\u001b[0;34m.\u001b[0m\u001b[0mflush\u001b[0m\u001b[0;34m(\u001b[0m\u001b[0;34m)\u001b[0m\u001b[0;34m\u001b[0m\u001b[0;34m\u001b[0m\u001b[0m\n\u001b[1;32m    275\u001b[0m             \u001b[0;32mreturn\u001b[0m \u001b[0mtext_output\u001b[0m\u001b[0;34m,\u001b[0m \u001b[0mvalue\u001b[0m\u001b[0;34m,\u001b[0m \u001b[0mvisible\u001b[0m\u001b[0;34m[\u001b[0m\u001b[0;36m0\u001b[0m\u001b[0;34m]\u001b[0m\u001b[0;34m\u001b[0m\u001b[0;34m\u001b[0m\u001b[0m\n",
      "\u001b[0;31mRInterpreterError\u001b[0m: Failed to parse and evaluate line 'library(\"corrplot\")\\nlibrary(\"FactoMineR\")\\nlibrary(\"factoextra\")\\nlibrary(\"missMDA\")\\nlibrary(\"qqman\")\\nlibrary(\"snpStats\")\\nlibrary(\"IntAssoPlot\")\\nlibrary(\"tidyverse\")\\nlibrary(\"vcfR\")\\nlibrary(\"ggforce\")\\n'.\nR error message: 'Error in library(\"vcfR\") : there is no package called ‘vcfR’'"
     ]
    }
   ],
   "source": [
    "%%R\n",
    "library(\"corrplot\")\n",
    "library(\"FactoMineR\")\n",
    "library(\"factoextra\")\n",
    "library(\"missMDA\")\n",
    "library(\"qqman\")\n",
    "library(\"snpStats\")\n",
    "library(\"IntAssoPlot\")\n",
    "library(\"tidyverse\")\n",
    "library(\"vcfR\")\n",
    "library(\"ggforce\")"
   ]
  },
  {
   "cell_type": "code",
   "execution_count": 4,
   "metadata": {
    "ExecuteTime": {
     "end_time": "2022-01-20T21:35:19.876915Z",
     "start_time": "2022-01-20T21:35:18.618653Z"
    }
   },
   "outputs": [
    {
     "name": "stdout",
     "output_type": "stream",
     "text": [
      "R version 3.5.1 (2018-07-02)\n",
      "Platform: x86_64-conda_cos6-linux-gnu (64-bit)\n",
      "Running under: CentOS Linux 7 (Core)\n",
      "\n",
      "Matrix products: default\n",
      "BLAS/LAPACK: /n/home00/akautt/.conda/envs/work-2/lib/R/lib/libRlapack.so\n",
      "\n",
      "locale:\n",
      " [1] LC_CTYPE=en_US.UTF-8       LC_NUMERIC=C              \n",
      " [3] LC_TIME=en_US.UTF-8        LC_COLLATE=en_US.UTF-8    \n",
      " [5] LC_MONETARY=en_US.UTF-8    LC_MESSAGES=en_US.UTF-8   \n",
      " [7] LC_PAPER=en_US.UTF-8       LC_NAME=C                 \n",
      " [9] LC_ADDRESS=C               LC_TELEPHONE=C            \n",
      "[11] LC_MEASUREMENT=en_US.UTF-8 LC_IDENTIFICATION=C       \n",
      "\n",
      "attached base packages:\n",
      "[1] tools     stats     graphics  grDevices utils     datasets  methods  \n",
      "[8] base     \n",
      "\n",
      "other attached packages:\n",
      " [1] ggforce_0.2.2       vcfR_1.10.0         forcats_0.4.0      \n",
      " [4] stringr_1.4.0       dplyr_0.8.1         purrr_0.3.2        \n",
      " [7] readr_1.3.1         tidyr_0.8.3         tibble_2.1.3       \n",
      "[10] tidyverse_1.2.1     IntAssoPlot_0.99.21 ggrepel_0.8.2      \n",
      "[13] reshape2_1.4.3      SNPRelate_1.18.0    gdsfmt_1.20.0      \n",
      "[16] snpStats_1.32.0     Matrix_1.3-4        survival_2.42-6    \n",
      "[19] qqman_0.1.4         missMDA_1.16        factoextra_1.0.6   \n",
      "[22] ggplot2_3.1.1       FactoMineR_2.3      corrplot_0.84      \n",
      "\n",
      "loaded via a namespace (and not attached):\n",
      " [1] httr_1.4.0           jsonlite_1.5         viridisLite_0.3.0   \n",
      " [4] splines_3.5.1        foreach_1.4.4        modelr_0.1.4        \n",
      " [7] assertthat_0.2.1     cellranger_1.1.0     pillar_1.3.1        \n",
      "[10] backports_1.1.4      lattice_0.20-44      glue_1.3.1          \n",
      "[13] polyclip_1.9-1       rvest_0.3.3          colorspace_1.4-1    \n",
      "[16] plyr_1.8.4           pkgconfig_2.0.2      broom_0.5.2         \n",
      "[19] haven_2.2.0          calibrate_1.7.5      zlibbioc_1.28.0     \n",
      "[22] mvtnorm_1.0-11       scales_1.0.0         tweenr_1.0.1        \n",
      "[25] mgcv_1.8-24          generics_0.0.2       farver_1.1.0        \n",
      "[28] withr_2.1.2          BiocGenerics_0.28.0  lazyeval_0.2.2      \n",
      "[31] cli_1.1.0            magrittr_1.5         crayon_1.3.4        \n",
      "[34] readxl_1.3.1         mice_3.8.0           doParallel_1.0.14   \n",
      "[37] nlme_3.1-137         MASS_7.3-50          xml2_1.2.0          \n",
      "[40] vegan_2.5-6          hms_0.4.2            munsell_0.5.0       \n",
      "[43] cluster_2.0.7-1      flashClust_1.01-2    compiler_3.5.1      \n",
      "[46] rlang_0.4.5          grid_3.5.1           iterators_1.0.10    \n",
      "[49] rstudioapi_0.10      leaps_3.1            gtable_0.3.0        \n",
      "[52] codetools_0.2-15     R6_2.4.0             lubridate_1.7.4     \n",
      "[55] pinfsc50_1.1.0       permute_0.9-5        ape_5.3             \n",
      "[58] stringi_1.4.3        parallel_3.5.1       Rcpp_1.0.7          \n",
      "[61] scatterplot3d_0.3-41 tidyselect_0.2.5    \n"
     ]
    }
   ],
   "source": [
    "%%R\n",
    "\n",
    "sessionInfo()"
   ]
  },
  {
   "cell_type": "markdown",
   "metadata": {},
   "source": [
    "### Define functions"
   ]
  },
  {
   "cell_type": "code",
   "execution_count": 4,
   "metadata": {
    "ExecuteTime": {
     "end_time": "2021-07-16T00:50:15.017595Z",
     "start_time": "2021-07-16T00:50:14.998252Z"
    },
    "code_folding": [
     2,
     38
    ]
   },
   "outputs": [],
   "source": [
    "slurm_ids = {} # create dictionary to catch slurm job IDs for all jobs submitted by function below\n",
    "\n",
    "def make_slurm(cmd_string,jobName,echo=False,run=False,write=True,mem='2gb',time='00-12:00',N='1',n='1',c='1',\n",
    "               array='1-1%1',p='hoekstra,shared'):\n",
    "    SLURM = ('''#!/bin/bash\\n'''\n",
    "           '''#SBATCH -N {nodes}\\n'''\n",
    "           '''#SBATCH -n {tasks}\\n'''\n",
    "           '''#SBATCH -c {cpus}\\n'''\n",
    "           '''#SBATCH -t {time}\\n'''\n",
    "           '''#SBATCH --mem={mem}\\n'''\n",
    "           '''#SBATCH -p {partition}\\n'''\n",
    "           '''#SBATCH --array {array}\\n'''\n",
    "           '''#SBATCH --job-name {jobName}\\n'''\n",
    "           '''#SBATCH -e {log_dir}/%x_%A_%a.out\\n'''\n",
    "           '''#SBATCH -o {log_dir}/%x_%A_%a.out\\n'''\n",
    "           '''{cmd_string}\\n''').format(\n",
    "                jobName=jobName,cmd_string=cmd_string,partition=p,time=time,mem=mem,tasks=n,cpus=c,nodes=N,\n",
    "                array=array,log_dir=log_dir)\n",
    "\n",
    "    # Show SLURM command?\n",
    "    if echo == True:\n",
    "        print(SLURM)\n",
    "\n",
    "    # Write to file and/or submit to SLURM?\n",
    "    if write == True:\n",
    "        filename = '%s/%s.slurm' % (scripts_dir,jobName)\n",
    "        with open(filename, 'w') as outfile:\n",
    "            outfile.write(SLURM)\n",
    "            print('\"%s\" slurm script written to %s\\n' %(jobName, scripts_dir))\n",
    "        # Run\n",
    "        if run == True:\n",
    "            sbatch_response = subprocess.getoutput('sbatch {}'.format(filename))\n",
    "            print(sbatch_response)\n",
    "            job_id = sbatch_response.split(' ')[-1].strip()\n",
    "            slurm_ids[jobName] = job_id\n",
    "            \n",
    "    return(SLURM)\n",
    "\n",
    "def sacct_extract(job_name):\n",
    "    \n",
    "    jobstring = ','.join( jobID for name,jobID in slurm_ids.items() if job_name in name )\n",
    "\n",
    "    sacct_out = [ subprocess.getoutput('sacct -j {}'.format(jobstring)) ]\n",
    "\n",
    "    output = []\n",
    "    for line in sacct_out:\n",
    "        jobs = line.split(\"\\n\")\n",
    "        for entry in jobs:\n",
    "            if 'akautt' in entry:\n",
    "                fields = entry.split()\n",
    "                output.append(fields[0:9])\n",
    "    print(*output,sep=\"\\n\")"
   ]
  },
  {
   "cell_type": "markdown",
   "metadata": {},
   "source": [
    "### Set up dirs and paths"
   ]
  },
  {
   "cell_type": "code",
   "execution_count": 5,
   "metadata": {
    "ExecuteTime": {
     "end_time": "2021-07-16T00:50:15.115651Z",
     "start_time": "2021-07-16T00:50:15.024651Z"
    }
   },
   "outputs": [],
   "source": [
    "project = \"Peromyscus_polionotus\"\n",
    "stem_path = \"/n/holylfs03/LABS/hoekstra_lab/Users/akautt/projects/\"\n",
    "\n",
    "#set main data folder for the project\n",
    "project_dir = stem_path + project\n",
    "data_dir = os.path.join(project_dir,'data')\n",
    "results_dir = os.path.join(project_dir,'results')\n",
    "scripts_dir = os.path.join(project_dir,'scripts')\n",
    "log_dir = os.path.join(scripts_dir,'logs')\n",
    "list_dir = os.path.join(project_dir,'lists')\n",
    "assoc_dir = os.path.join(results_dir,'association')\n",
    "if not os.path.exists(assoc_dir):\n",
    "    os.mkdir(assoc_dir)\n",
    "temp_dir = os.path.join(project_dir,'temp')\n",
    "if not os.path.exists(temp_dir):\n",
    "    os.mkdir(temp_dir)\n",
    "emmax_dir = os.path.join(assoc_dir,'emmax')\n",
    "if not os.path.exists(emmax_dir):\n",
    "    os.mkdir(emmax_dir)\n",
    "    \n",
    "genome_path = '/n/holylfs03/LABS/hoekstra_lab/Lab/PUBLIC/GENOMES/Ppol1.3_chr_NCBI'\n",
    "annot_path = '/n/holylfs03/LABS/hoekstra_lab/Lab/PUBLIC/ANNOTATIONS/Ppol1.3_chr_NCBI'\n",
    "refseq = os.path.join(genome_path,'Ppol_1.3.3.chromosomes-unplaced_scaffolds.fasta')\n",
    "annotation = os.path.join(annot_path,'Ppol1.3_chr_NCBI.corrected.merged-with-Apollo.May2020.sorted.gff3')"
   ]
  },
  {
   "cell_type": "markdown",
   "metadata": {},
   "source": [
    "### Mc1r and Agouti BAC region"
   ]
  },
  {
   "cell_type": "code",
   "execution_count": 6,
   "metadata": {
    "ExecuteTime": {
     "end_time": "2021-07-16T00:50:15.164527Z",
     "start_time": "2021-07-16T00:50:15.120367Z"
    }
   },
   "outputs": [],
   "source": [
    "BAC_region_file = os.path.join(list_dir,'mc1r_agouti_BACs.bed')\n",
    "\n",
    "if not os.path.exists(BAC_region_file):\n",
    "    with open(BAC_region_file,'w') as outhandle:\n",
    "        print('chr4','9697970','9924483','agouti',sep='\\t',file=outhandle)\n",
    "        print('chr5','55763923','55981569','mc1r',sep='\\t',file=outhandle)"
   ]
  },
  {
   "cell_type": "markdown",
   "metadata": {},
   "source": [
    "### Software"
   ]
  },
  {
   "cell_type": "markdown",
   "metadata": {},
   "source": [
    "EMMAX http://genetics.cs.ucla.edu/emmax/ -> comes as pre-compiled binaries\n",
    "\n",
    "\n",
    "GEC http://grass.cgs.hku.hk/gec/index.php"
   ]
  },
  {
   "cell_type": "markdown",
   "metadata": {},
   "source": [
    "## Prepare GT files\n",
    "\n",
    "Keep SNPs and indels. As long as they are biallelic, they can be used for association tests"
   ]
  },
  {
   "cell_type": "markdown",
   "metadata": {},
   "source": [
    "### Subset and filter vcf"
   ]
  },
  {
   "cell_type": "code",
   "execution_count": 29,
   "metadata": {
    "ExecuteTime": {
     "end_time": "2020-04-17T17:23:52.348558Z",
     "start_time": "2020-04-17T17:23:51.439782Z"
    },
    "deletable": false,
    "editable": false,
    "run_control": {
     "frozen": true
    }
   },
   "outputs": [
    {
     "name": "stdout",
     "output_type": "stream",
     "text": [
      "\"bcftools_filter\" slurm script written to /n/holylfs03/LABS/hoekstra_lab/Users/akautt/projects/Peromyscus_polionotus/scripts\n",
      "\n",
      "Submitted batch job 53248989\n"
     ]
    }
   ],
   "source": [
    "vcf_file = '/n/holylfs03/LABS/hoekstra_lab/Users/brock/polionotus/popgen_vcfs/vars/ALL.vcf.gz'\n",
    "\n",
    "sample_string = ','.join(samples)\n",
    "\n",
    "if os.path.exists(os.path.join(assoc_dir,'POALB.biallelic.vcf.gz')):\n",
    "\n",
    "    bcftools_filter = ('''\\nexport BCFTOOLS_PLUGINS=\"/n/home00/akautt/software/bcftools/plugins\"\\n\\n'''\n",
    "                        '''bcftools view {vcf_file} --samples {samples} -O u '''\n",
    "                        '''| bcftools view -M2 --min-ac 1 -i 'ALT !~ \"*\"' -O z '''  #   && STRLEN(REF) == 1 && TYPE=\"snp\"\n",
    "                        '''-o {assoc_dir}/POALB.biallelic.vcf.gz && tabix {assoc_dir}/POALB.biallelic.vcf.gz''').format(\n",
    "                        vcf_file=vcf_file,assoc_dir=assoc_dir,samples=sample_string)\n",
    "    \n",
    "    slurm = make_slurm(run=True,echo=False,jobName='bcftools_filter',cmd_string=bcftools_filter,\n",
    "                       mem='100mb',time='0-12:00',p='commons')"
   ]
  },
  {
   "cell_type": "code",
   "execution_count": 32,
   "metadata": {
    "ExecuteTime": {
     "end_time": "2020-04-17T17:24:37.263168Z",
     "start_time": "2020-04-17T17:24:36.033769Z"
    },
    "deletable": false,
    "editable": false,
    "run_control": {
     "frozen": true
    }
   },
   "outputs": [
    {
     "name": "stdout",
     "output_type": "stream",
     "text": [
      "['53248989_1', 'bcftools_+', 'akautt', 'commons', 'holy2a08107', '00:00:28', '12:00:00', 'COMPLETED', '0:0']\n"
     ]
    }
   ],
   "source": [
    "sacct_extract('bcftools_filter')"
   ]
  },
  {
   "cell_type": "markdown",
   "metadata": {},
   "source": [
    "-> file is so small that most things can be run straight from notebook. No need to submit jobs"
   ]
  },
  {
   "cell_type": "code",
   "execution_count": 33,
   "metadata": {
    "ExecuteTime": {
     "end_time": "2020-04-17T17:24:43.586623Z",
     "start_time": "2020-04-17T17:24:40.377426Z"
    },
    "deletable": false,
    "editable": false,
    "run_control": {
     "frozen": true
    },
    "scrolled": true
   },
   "outputs": [
    {
     "name": "stdout",
     "output_type": "stream",
     "text": [
      "peek v0.5\n",
      "\n",
      "options:     input VCF file            /n/holylfs03/LABS/hoekstra_lab/Users/akautt/projects/Peromyscus_polionotus/results/association/POALB.biallelic.vcf.gz\n",
      "\n",
      "\n",
      "stats: no. of samples                     :        168\n",
      "       no. of chromosomes                 :         24\n",
      "\n",
      "       ========== Micro variants ==========\n",
      "\n",
      "       no. of SNP                         :      22699\n",
      "           2 alleles                      :           22699 (2.24) [15694/7005]\n",
      "\n",
      "       no. of Indel                       :       1486\n",
      "           2 alleles                      :            1486 (3.64) [1166/320]\n",
      "\n",
      "       no. of SNP/MNP                     :          7\n",
      "           2 alleles                      :               7 (2.50) [5/2]\n",
      "\n",
      "       ++++++ Other useful categories +++++\n",
      "\n",
      "       no. of block substitutions         :          7\n",
      "           2 alleles                      :               7 (2.50) [5/2]\n",
      "\n",
      "       ============== VNTR ===============\n",
      "\n",
      "       no. of VNTRs                       :          0\n",
      "\n",
      "       ======= Structural variants ========\n",
      "\n",
      "       no. of structural variants         :          0\n",
      "\n",
      "       ========= General summary ==========\n",
      "\n",
      "       no. of reference records                  :          0\n",
      "       no. of classified variants                :      24192\n",
      "       no. of unclassified variants              :          0\n",
      "\n",
      "       no. of VCF records                        :      24192\n",
      "\n",
      "Time elapsed: 2.90s\n",
      "\n"
     ]
    }
   ],
   "source": [
    "%%script env assoc_dir=\"$assoc_dir\" bash\n",
    "\n",
    "vt-0.57 peek ${assoc_dir}/POALB.biallelic.vcf.gz 2>&1 | tee ${assoc_dir}/POALB.biallelic.vtpeek"
   ]
  },
  {
   "cell_type": "markdown",
   "metadata": {},
   "source": [
    "### Check for samples with excessive missing data (e.g. >50%) and remove them"
   ]
  },
  {
   "cell_type": "code",
   "execution_count": 34,
   "metadata": {
    "ExecuteTime": {
     "end_time": "2020-04-17T17:27:34.018697Z",
     "start_time": "2020-04-17T17:27:33.227121Z"
    },
    "collapsed": true,
    "deletable": false,
    "editable": false,
    "run_control": {
     "frozen": true
    }
   },
   "outputs": [
    {
     "name": "stdout",
     "output_type": "stream",
     "text": [
      "PLINK v1.90b6.15 64-bit (21 Jan 2020)          www.cog-genomics.org/plink/1.9/\n",
      "(C) 2005-2020 Shaun Purcell, Christopher Chang   GNU General Public License v3\n",
      "Logging to /n/holylfs03/LABS/hoekstra_lab/Users/akautt/projects/Peromyscus_polionotus/results/association/POALB.biallelic.log.\n",
      "Options in effect:\n",
      "  --allow-extra-chr\n",
      "  --chr-set 23 no-xy no-mt\n",
      "  --double-id\n",
      "  --memory 2000\n",
      "  --missing\n",
      "  --out /n/holylfs03/LABS/hoekstra_lab/Users/akautt/projects/Peromyscus_polionotus/results/association/POALB.biallelic\n",
      "  --threads 1\n",
      "  --vcf /n/holylfs03/LABS/hoekstra_lab/Users/akautt/projects/Peromyscus_polionotus/results/association/POALB.biallelic.vcf.gz\n",
      "\n",
      "128653 MB RAM detected; reserving 2000 MB for main workspace.\n",
      "--vcf:\n",
      "/n/holylfs03/LABS/hoekstra_lab/Users/akautt/projects/Peromyscus_polionotus/results/association/POALB.biallelic-temporary.bed\n",
      "+\n",
      "/n/holylfs03/LABS/hoekstra_lab/Users/akautt/projects/Peromyscus_polionotus/results/association/POALB.biallelic-temporary.bim\n",
      "+\n",
      "/n/holylfs03/LABS/hoekstra_lab/Users/akautt/projects/Peromyscus_polionotus/results/association/POALB.biallelic-temporary.fam\n",
      "written.\n",
      "24192 variants loaded from .bim file.\n",
      "168 samples (0 males, 0 females, 168 ambiguous) loaded from .fam.\n",
      "Ambiguous sex IDs written to\n",
      "/n/holylfs03/LABS/hoekstra_lab/Users/akautt/projects/Peromyscus_polionotus/results/association/POALB.biallelic.nosex\n",
      ".\n",
      "Using 1 thread.\n",
      "Before main variant filters, 168 founders and 0 nonfounders present.\n",
      "Calculating allele frequencies... 0%\b\b1%\b\b2%\b\b3%\b\b4%\b\b5%\b\b6%\b\b7%\b\b8%\b\b9%\b\b10%\b\b\b11%\b\b\b12%\b\b\b13%\b\b\b14%\b\b\b15%\b\b\b16%\b\b\b17%\b\b\b18%\b\b\b19%\b\b\b20%\b\b\b21%\b\b\b22%\b\b\b23%\b\b\b24%\b\b\b25%\b\b\b26%\b\b\b27%\b\b\b28%\b\b\b29%\b\b\b30%\b\b\b31%\b\b\b32%\b\b\b33%\b\b\b34%\b\b\b35%\b\b\b36%\b\b\b37%\b\b\b38%\b\b\b39%\b\b\b40%\b\b\b41%\b\b\b42%\b\b\b43%\b\b\b44%\b\b\b45%\b\b\b46%\b\b\b47%\b\b\b48%\b\b\b49%\b\b\b50%\b\b\b51%\b\b\b52%\b\b\b53%\b\b\b54%\b\b\b55%\b\b\b56%\b\b\b57%\b\b\b58%\b\b\b59%\b\b\b60%\b\b\b61%\b\b\b62%\b\b\b63%\b\b\b64%\b\b\b65%\b\b\b66%\b\b\b67%\b\b\b68%\b\b\b69%\b\b\b70%\b\b\b71%\b\b\b72%\b\b\b73%\b\b\b74%\b\b\b75%\b\b\b76%\b\b\b77%\b\b\b78%\b\b\b79%\b\b\b80%\b\b\b81%\b\b\b82%\b\b\b83%\b\b\b84%\b\b\b85%\b\b\b86%\b\b\b87%\b\b\b88%\b\b\b89%\b\b\b90%\b\b\b91%\b\b\b92%\b\b\b93%\b\b\b94%\b\b\b95%\b\b\b96%\b\b\b97%\b\b\b98%\b\b\b99%\b\b\b\b done.\n",
      "Total genotyping rate is 0.78984.\n",
      "--missing: Sample missing data report written to\n",
      "/n/holylfs03/LABS/hoekstra_lab/Users/akautt/projects/Peromyscus_polionotus/results/association/POALB.biallelic.imiss,\n",
      "and variant-based missing data report written to\n",
      "/n/holylfs03/LABS/hoekstra_lab/Users/akautt/projects/Peromyscus_polionotus/results/association/POALB.biallelic.lmiss.\n"
     ]
    }
   ],
   "source": [
    "%%script env assoc_dir=\"$assoc_dir\" bash\n",
    "\n",
    "if [ ! -f ${assoc_dir}/POALB.biallelic.imiss ]; then\n",
    "    plink --vcf ${assoc_dir}/POALB.biallelic.vcf.gz \\\n",
    "    --memory 2000 --threads 1 \\\n",
    "    --double-id --allow-extra-chr --chr-set 23 no-xy no-mt \\\n",
    "    --missing --out ${assoc_dir}/POALB.biallelic; fi\n",
    "\n",
    "if [ ! -f ${assoc_dir}/POALB.miss50perc.samplelist.tsv ]; then\n",
    "    awk 'BEGIN{OFS=\"\\t\"} !/FID/ && $6>0.5 {print $1,$2}' ${assoc_dir}/POALB.biallelic.imiss \\\n",
    "    > ${assoc_dir}/POALB.miss50perc.samplelist.tsv; fi"
   ]
  },
  {
   "cell_type": "code",
   "execution_count": 35,
   "metadata": {
    "ExecuteTime": {
     "end_time": "2020-04-17T17:28:28.122601Z",
     "start_time": "2020-04-17T17:28:08.639045Z"
    },
    "collapsed": true,
    "deletable": false,
    "editable": false,
    "run_control": {
     "frozen": true
    }
   },
   "outputs": [
    {
     "name": "stderr",
     "output_type": "stream",
     "text": [
      "\n",
      "VCFtools - 0.1.17\n",
      "(C) Adam Auton and Anthony Marcketta 2009\n",
      "\n",
      "Parameters as interpreted:\n",
      "\t--gzvcf /n/holylfs03/LABS/hoekstra_lab/Users/akautt/projects/Peromyscus_polionotus/results/association/POALB.biallelic.vcf.gz\n",
      "\t--remove /n/holylfs03/LABS/hoekstra_lab/Users/akautt/projects/Peromyscus_polionotus/results/association/POALB.miss50perc.samplelist.tsv\n",
      "\t--recode\n",
      "\t--stdout\n",
      "\n",
      "Using zlib version: 1.2.7\n",
      "Warning: Expected at least 2 parts in FORMAT entry: ID=PGT,Number=1,Type=String,Description=\"Physical phasing haplotype information, describing how the alternate alleles are phased in relation to one another\">\n",
      "Warning: Expected at least 2 parts in FORMAT entry: ID=PID,Number=1,Type=String,Description=\"Physical phasing ID information, where each unique ID within a given sample (but not across samples) connects records within a phasing group\">\n",
      "Warning: Expected at least 2 parts in FORMAT entry: ID=PL,Number=G,Type=Integer,Description=\"Normalized, Phred-scaled likelihoods for genotypes as defined in the VCF specification\">\n",
      "Warning: Expected at least 2 parts in FORMAT entry: ID=RGQ,Number=1,Type=Integer,Description=\"Unconditional reference genotype confidence, encoded as a phred quality -10*log10 p(genotype call is wrong)\">\n",
      "Warning: Expected at least 2 parts in INFO entry: ID=AF,Number=A,Type=Float,Description=\"Allele Frequency, for each ALT allele, in the same order as listed\">\n",
      "Warning: Expected at least 2 parts in INFO entry: ID=AF,Number=A,Type=Float,Description=\"Allele Frequency, for each ALT allele, in the same order as listed\">\n",
      "Warning: Expected at least 2 parts in INFO entry: ID=MLEAC,Number=A,Type=Integer,Description=\"Maximum likelihood expectation (MLE) for the allele counts (not necessarily the same as the AC), for each ALT allele, in the same order as listed\">\n",
      "Warning: Expected at least 2 parts in INFO entry: ID=MLEAC,Number=A,Type=Integer,Description=\"Maximum likelihood expectation (MLE) for the allele counts (not necessarily the same as the AC), for each ALT allele, in the same order as listed\">\n",
      "Warning: Expected at least 2 parts in INFO entry: ID=MLEAF,Number=A,Type=Float,Description=\"Maximum likelihood expectation (MLE) for the allele frequency (not necessarily the same as the AF), for each ALT allele, in the same order as listed\">\n",
      "Warning: Expected at least 2 parts in INFO entry: ID=MLEAF,Number=A,Type=Float,Description=\"Maximum likelihood expectation (MLE) for the allele frequency (not necessarily the same as the AF), for each ALT allele, in the same order as listed\">\n",
      "Warning: Expected at least 2 parts in INFO entry: ID=SF,Number=.,Type=String,Description=\"Source File (index to sourceFiles, f when filtered)\">\n",
      "Excluding individuals in 'exclude' list\n",
      "After filtering, kept 152 out of 168 Individuals\n",
      "Outputting VCF file...\n",
      "After filtering, kept 24192 out of a possible 24192 Sites\n",
      "Run Time = 19.00 seconds\n"
     ]
    }
   ],
   "source": [
    "%%script env assoc_dir=\"$assoc_dir\" bash\n",
    "\n",
    "if [ ! -f ${assoc_dir}/POALB.biallelic.miss50perc.vcf.gz ]; then\n",
    "    vcftools-0.1.17 --gzvcf ${assoc_dir}/POALB.biallelic.vcf.gz \\\n",
    "    --remove ${assoc_dir}/POALB.miss50perc.samplelist.tsv \\\n",
    "    --recode --stdout | bgzip > ${assoc_dir}/POALB.biallelic.miss50perc.vcf.gz \\\n",
    "    && tabix ${assoc_dir}/POALB.biallelic.miss50perc.vcf.gz; fi"
   ]
  },
  {
   "cell_type": "markdown",
   "metadata": {},
   "source": [
    "### Convert to bed and tped with plink (input format for EMMAX)"
   ]
  },
  {
   "cell_type": "code",
   "execution_count": 71,
   "metadata": {
    "ExecuteTime": {
     "end_time": "2020-04-17T17:47:30.004443Z",
     "start_time": "2020-04-17T17:47:28.540850Z"
    },
    "collapsed": true,
    "deletable": false,
    "editable": false,
    "run_control": {
     "frozen": true
    }
   },
   "outputs": [
    {
     "name": "stdout",
     "output_type": "stream",
     "text": [
      "PLINK v1.90b6.15 64-bit (21 Jan 2020)          www.cog-genomics.org/plink/1.9/\n",
      "(C) 2005-2020 Shaun Purcell, Christopher Chang   GNU General Public License v3\n",
      "Note: --recode12 flag deprecated.  Use \"--recode 12 ...\".\n",
      "Logging to /n/holylfs03/LABS/hoekstra_lab/Users/akautt/projects/Peromyscus_polionotus/results/association/POALB.biallelic.miss50perc.maf0.05geno0.1hwe0.001.log.\n",
      "Options in effect:\n",
      "  --allow-extra-chr\n",
      "  --chr-set 23 no-xy no-mt\n",
      "  --double-id\n",
      "  --geno 0.1\n",
      "  --hwe 0.001\n",
      "  --maf 0.05\n",
      "  --memory 2000\n",
      "  --out /n/holylfs03/LABS/hoekstra_lab/Users/akautt/projects/Peromyscus_polionotus/results/association/POALB.biallelic.miss50perc.maf0.05geno0.1hwe0.001\n",
      "  --output-missing-genotype 0\n",
      "  --recode 12\n",
      "  --set-missing-var-ids @:#\n",
      "  --threads 1\n",
      "  --transpose\n",
      "  --vcf /n/holylfs03/LABS/hoekstra_lab/Users/akautt/projects/Peromyscus_polionotus/results/association/POALB.biallelic.miss50perc.vcf.gz\n",
      "\n",
      "Note: --transpose flag deprecated.  Use \"--recode transpose ...\".\n",
      "128653 MB RAM detected; reserving 2000 MB for main workspace.\n",
      "--vcf:\n",
      "/n/holylfs03/LABS/hoekstra_lab/Users/akautt/projects/Peromyscus_polionotus/results/association/POALB.biallelic.miss50perc.maf0.05geno0.1hwe0.001-temporary.bed\n",
      "+\n",
      "/n/holylfs03/LABS/hoekstra_lab/Users/akautt/projects/Peromyscus_polionotus/results/association/POALB.biallelic.miss50perc.maf0.05geno0.1hwe0.001-temporary.bim\n",
      "+\n",
      "/n/holylfs03/LABS/hoekstra_lab/Users/akautt/projects/Peromyscus_polionotus/results/association/POALB.biallelic.miss50perc.maf0.05geno0.1hwe0.001-temporary.fam\n",
      "written.\n",
      "24192 variants loaded from .bim file.\n",
      "24192 missing IDs set.\n",
      "152 samples (0 males, 0 females, 152 ambiguous) loaded from .fam.\n",
      "Ambiguous sex IDs written to\n",
      "/n/holylfs03/LABS/hoekstra_lab/Users/akautt/projects/Peromyscus_polionotus/results/association/POALB.biallelic.miss50perc.maf0.05geno0.1hwe0.001.nosex\n",
      ".\n",
      "Using 1 thread.\n",
      "Before main variant filters, 152 founders and 0 nonfounders present.\n",
      "Calculating allele frequencies... 0%\b\b1%\b\b2%\b\b3%\b\b4%\b\b5%\b\b6%\b\b7%\b\b8%\b\b9%\b\b10%\b\b\b11%\b\b\b12%\b\b\b13%\b\b\b14%\b\b\b15%\b\b\b16%\b\b\b17%\b\b\b18%\b\b\b19%\b\b\b20%\b\b\b21%\b\b\b22%\b\b\b23%\b\b\b24%\b\b\b25%\b\b\b26%\b\b\b27%\b\b\b28%\b\b\b29%\b\b\b30%\b\b\b31%\b\b\b32%\b\b\b33%\b\b\b34%\b\b\b35%\b\b\b36%\b\b\b37%\b\b\b38%\b\b\b39%\b\b\b40%\b\b\b41%\b\b\b42%\b\b\b43%\b\b\b44%\b\b\b45%\b\b\b46%\b\b\b47%\b\b\b48%\b\b\b49%\b\b\b50%\b\b\b51%\b\b\b52%\b\b\b53%\b\b\b54%\b\b\b55%\b\b\b56%\b\b\b57%\b\b\b58%\b\b\b59%\b\b\b60%\b\b\b61%\b\b\b62%\b\b\b63%\b\b\b64%\b\b\b65%\b\b\b66%\b\b\b67%\b\b\b68%\b\b\b69%\b\b\b70%\b\b\b71%\b\b\b72%\b\b\b73%\b\b\b74%\b\b\b75%\b\b\b76%\b\b\b77%\b\b\b78%\b\b\b79%\b\b\b80%\b\b\b81%\b\b\b82%\b\b\b83%\b\b\b84%\b\b\b85%\b\b\b86%\b\b\b87%\b\b\b88%\b\b\b89%\b\b\b90%\b\b\b91%\b\b\b92%\b\b\b93%\b\b\b94%\b\b\b95%\b\b\b96%\b\b\b97%\b\b\b98%\b\b\b99%\b\b\b\b done.\n",
      "Total genotyping rate is 0.844182.\n",
      "13462 variants removed due to missing genotype data (--geno).\n",
      "--hwe: 556 variants removed due to Hardy-Weinberg exact test.\n",
      "6489 variants removed due to minor allele threshold(s)\n",
      "(--maf/--max-maf/--mac/--max-mac).\n",
      "3685 variants and 152 samples pass filters and QC.\n",
      "Note: No phenotypes present.\n",
      "--recode transpose to\n",
      "/n/holylfs03/LABS/hoekstra_lab/Users/akautt/projects/Peromyscus_polionotus/results/association/POALB.biallelic.miss50perc.maf0.05geno0.1hwe0.001.tped\n",
      "+\n",
      "/n/holylfs03/LABS/hoekstra_lab/Users/akautt/projects/Peromyscus_polionotus/results/association/POALB.biallelic.miss50perc.maf0.05geno0.1hwe0.001.tfam\n",
      "... 0%\b\b1%\b\b2%\b\b3%\b\b4%\b\b5%\b\b6%\b\b7%\b\b8%\b\b9%\b\b10%\b\b\b11%\b\b\b12%\b\b\b13%\b\b\b14%\b\b\b15%\b\b\b16%\b\b\b17%\b\b\b18%\b\b\b19%\b\b\b20%\b\b\b21%\b\b\b22%\b\b\b23%\b\b\b24%\b\b\b25%\b\b\b26%\b\b\b27%\b\b\b28%\b\b\b29%\b\b\b30%\b\b\b31%\b\b\b32%\b\b\b33%\b\b\b34%\b\b\b35%\b\b\b36%\b\b\b37%\b\b\b38%\b\b\b39%\b\b\b40%\b\b\b41%\b\b\b42%\b\b\b43%\b\b\b44%\b\b\b45%\b\b\b46%\b\b\b47%\b\b\b48%\b\b\b49%\b\b\b50%\b\b\b51%\b\b\b52%\b\b\b53%\b\b\b54%\b\b\b55%\b\b\b56%\b\b\b57%\b\b\b58%\b\b\b59%\b\b\b60%\b\b\b61%\b\b\b62%\b\b\b63%\b\b\b64%\b\b\b65%\b\b\b66%\b\b\b67%\b\b\b68%\b\b\b69%\b\b\b70%\b\b\b71%\b\b\b72%\b\b\b73%\b\b\b74%\b\b\b75%\b\b\b76%\b\b\b77%\b\b\b78%\b\b\b79%\b\b\b80%\b\b\b81%\b\b\b82%\b\b\b83%\b\b\b84%\b\b\b85%\b\b\b86%\b\b\b87%\b\b\b88%\b\b\b89%\b\b\b90%\b\b\b91%\b\b\b92%\b\b\b93%\b\b\b94%\b\b\b95%\b\b\b96%\b\b\b97%\b\b\b98%\b\b\b99%\b\b\bdone.\n",
      "PLINK v1.90b6.15 64-bit (21 Jan 2020)          www.cog-genomics.org/plink/1.9/\n",
      "(C) 2005-2020 Shaun Purcell, Christopher Chang   GNU General Public License v3\n",
      "Logging to /n/holylfs03/LABS/hoekstra_lab/Users/akautt/projects/Peromyscus_polionotus/results/association/POALB.biallelic.miss50perc.maf0.05geno0.1hwe0.001.log.\n",
      "Options in effect:\n",
      "  --allow-extra-chr\n",
      "  --chr-set 23 no-xy no-mt\n",
      "  --double-id\n",
      "  --geno 0.1\n",
      "  --hwe 0.001\n",
      "  --maf 0.05\n",
      "  --make-bed\n",
      "  --memory 2000\n",
      "  --out /n/holylfs03/LABS/hoekstra_lab/Users/akautt/projects/Peromyscus_polionotus/results/association/POALB.biallelic.miss50perc.maf0.05geno0.1hwe0.001\n",
      "  --set-missing-var-ids @:#\n",
      "  --threads 1\n",
      "  --vcf /n/holylfs03/LABS/hoekstra_lab/Users/akautt/projects/Peromyscus_polionotus/results/association/POALB.biallelic.miss50perc.vcf.gz\n",
      "\n",
      "128653 MB RAM detected; reserving 2000 MB for main workspace.\n",
      "--vcf:\n",
      "/n/holylfs03/LABS/hoekstra_lab/Users/akautt/projects/Peromyscus_polionotus/results/association/POALB.biallelic.miss50perc.maf0.05geno0.1hwe0.001-temporary.bed\n",
      "+\n",
      "/n/holylfs03/LABS/hoekstra_lab/Users/akautt/projects/Peromyscus_polionotus/results/association/POALB.biallelic.miss50perc.maf0.05geno0.1hwe0.001-temporary.bim\n",
      "+\n",
      "/n/holylfs03/LABS/hoekstra_lab/Users/akautt/projects/Peromyscus_polionotus/results/association/POALB.biallelic.miss50perc.maf0.05geno0.1hwe0.001-temporary.fam\n",
      "written.\n",
      "24192 variants loaded from .bim file.\n",
      "24192 missing IDs set.\n",
      "152 samples (0 males, 0 females, 152 ambiguous) loaded from .fam.\n",
      "Ambiguous sex IDs written to\n",
      "/n/holylfs03/LABS/hoekstra_lab/Users/akautt/projects/Peromyscus_polionotus/results/association/POALB.biallelic.miss50perc.maf0.05geno0.1hwe0.001.nosex\n",
      ".\n",
      "Using 1 thread.\n",
      "Before main variant filters, 152 founders and 0 nonfounders present.\n",
      "Calculating allele frequencies... 0%\b\b1%\b\b2%\b\b3%\b\b4%\b\b5%\b\b6%\b\b7%\b\b8%\b\b9%\b\b10%\b\b\b11%\b\b\b12%\b\b\b13%\b\b\b14%\b\b\b15%\b\b\b16%\b\b\b17%\b\b\b18%\b\b\b19%\b\b\b20%\b\b\b21%\b\b\b22%\b\b\b23%\b\b\b24%\b\b\b25%\b\b\b26%\b\b\b27%\b\b\b28%\b\b\b29%\b\b\b30%\b\b\b31%\b\b\b32%\b\b\b33%\b\b\b34%\b\b\b35%\b\b\b36%\b\b\b37%\b\b\b38%\b\b\b39%\b\b\b40%\b\b\b41%\b\b\b42%\b\b\b43%\b\b\b44%\b\b\b45%\b\b\b46%\b\b\b47%\b\b\b48%\b\b\b49%\b\b\b50%\b\b\b51%\b\b\b52%\b\b\b53%\b\b\b54%\b\b\b55%\b\b\b56%\b\b\b57%\b\b\b58%\b\b\b59%\b\b\b60%\b\b\b61%\b\b\b62%\b\b\b63%\b\b\b64%\b\b\b65%\b\b\b66%\b\b\b67%\b\b\b68%\b\b\b69%\b\b\b70%\b\b\b71%\b\b\b72%\b\b\b73%\b\b\b74%\b\b\b75%\b\b\b76%\b\b\b77%\b\b\b78%\b\b\b79%\b\b\b80%\b\b\b81%\b\b\b82%\b\b\b83%\b\b\b84%\b\b\b85%\b\b\b86%\b\b\b87%\b\b\b88%\b\b\b89%\b\b\b90%\b\b\b91%\b\b\b92%\b\b\b93%\b\b\b94%\b\b\b95%\b\b\b96%\b\b\b97%\b\b\b98%\b\b\b99%\b\b\b\b done.\n",
      "Total genotyping rate is 0.844182.\n",
      "13462 variants removed due to missing genotype data (--geno).\n",
      "--hwe: 556 variants removed due to Hardy-Weinberg exact test.\n",
      "6489 variants removed due to minor allele threshold(s)\n",
      "(--maf/--max-maf/--mac/--max-mac).\n",
      "3685 variants and 152 samples pass filters and QC.\n",
      "Note: No phenotypes present.\n",
      "--make-bed to\n",
      "/n/holylfs03/LABS/hoekstra_lab/Users/akautt/projects/Peromyscus_polionotus/results/association/POALB.biallelic.miss50perc.maf0.05geno0.1hwe0.001.bed\n",
      "+\n",
      "/n/holylfs03/LABS/hoekstra_lab/Users/akautt/projects/Peromyscus_polionotus/results/association/POALB.biallelic.miss50perc.maf0.05geno0.1hwe0.001.bim\n",
      "+\n",
      "/n/holylfs03/LABS/hoekstra_lab/Users/akautt/projects/Peromyscus_polionotus/results/association/POALB.biallelic.miss50perc.maf0.05geno0.1hwe0.001.fam\n",
      "... 0%\b\b1%\b\b2%\b\b3%\b\b4%\b\b5%\b\b6%\b\b7%\b\b8%\b\b9%\b\b10%\b\b\b11%\b\b\b12%\b\b\b13%\b\b\b14%\b\b\b15%\b\b\b16%\b\b\b17%\b\b\b18%\b\b\b19%\b\b\b20%\b\b\b21%\b\b\b22%\b\b\b23%\b\b\b24%\b\b\b25%\b\b\b26%\b\b\b27%\b\b\b28%\b\b\b29%\b\b\b30%\b\b\b31%\b\b\b32%\b\b\b33%\b\b\b34%\b\b\b35%\b\b\b36%\b\b\b37%\b\b\b38%\b\b\b39%\b\b\b40%\b\b\b41%\b\b\b42%\b\b\b43%\b\b\b44%\b\b\b45%\b\b\b46%\b\b\b47%\b\b\b48%\b\b\b49%\b\b\b50%\b\b\b51%\b\b\b52%\b\b\b53%\b\b\b54%\b\b\b55%\b\b\b56%\b\b\b57%\b\b\b58%\b\b\b59%\b\b\b60%\b\b\b61%\b\b\b62%\b\b\b63%\b\b\b64%\b\b\b65%\b\b\b66%\b\b\b67%\b\b\b68%\b\b\b69%\b\b\b70%\b\b\b71%\b\b\b72%\b\b\b73%\b\b\b74%\b\b\b75%\b\b\b76%\b\b\b77%\b\b\b78%\b\b\b79%\b\b\b80%\b\b\b81%\b\b\b82%\b\b\b83%\b\b\b84%\b\b\b85%\b\b\b86%\b\b\b87%\b\b\b88%\b\b\b89%\b\b\b90%\b\b\b91%\b\b\b92%\b\b\b93%\b\b\b94%\b\b\b95%\b\b\b96%\b\b\b97%\b\b\b98%\b\b\b99%\b\b\bdone.\n"
     ]
    }
   ],
   "source": [
    "%%script env assoc_dir=\"$assoc_dir\" bash\n",
    "\n",
    "maf=\"0.05\"; geno=\"0.1\"; hwe=\"0.001\"\n",
    "stem=\"biallelic.miss50perc.maf${maf}geno${geno}hwe${hwe}\"\n",
    "\n",
    "if [ ! -f ${assoc_dir}/POALB.${stem}.tped ]; then\n",
    "    plink --vcf ${assoc_dir}/POALB.biallelic.miss50perc.vcf.gz \\\n",
    "    --memory 2000 --threads 1 \\\n",
    "    --double-id --allow-extra-chr --chr-set 23 no-xy no-mt \\\n",
    "    --set-missing-var-ids '@:#' \\\n",
    "    --recode12 --output-missing-genotype 0 --transpose \\\n",
    "    --maf $maf --geno $geno --hwe $hwe \\\n",
    "    --out ${assoc_dir}/POALB.${stem} ; fi\n",
    "    \n",
    "    \n",
    "if [ ! -f ${assoc_dir}/POALB.${stem}.bed ]; then\n",
    "    plink --vcf ${assoc_dir}/POALB.biallelic.miss50perc.vcf.gz \\\n",
    "    --memory 2000 --threads 1 \\\n",
    "    --double-id --allow-extra-chr --chr-set 23 no-xy no-mt \\\n",
    "    --set-missing-var-ids '@:#' --make-bed \\\n",
    "    --maf $maf --geno $geno --hwe $hwe \\\n",
    "    --out ${assoc_dir}/POALB.${stem}; fi"
   ]
  },
  {
   "cell_type": "markdown",
   "metadata": {},
   "source": [
    "## Generate phenotype input files for EMMAX"
   ]
  },
  {
   "cell_type": "code",
   "execution_count": 46,
   "metadata": {
    "ExecuteTime": {
     "end_time": "2021-07-16T01:22:45.758009Z",
     "start_time": "2021-07-16T01:22:45.724595Z"
    },
    "scrolled": true
   },
   "outputs": [
    {
     "data": {
      "text/plain": [
       "DORSAL       0.000000\n",
       "FLANK        0.000000\n",
       "Ventrum      0.106483\n",
       "Tail         0.589890\n",
       "Rumpshape    0.370488\n",
       "               ...   \n",
       "PC1          3.817353\n",
       "PC2          2.538075\n",
       "PC3          1.951992\n",
       "PC4          1.534021\n",
       "PC5          1.238263\n",
       "Length: 45, dtype: float64"
      ]
     },
     "execution_count": 46,
     "metadata": {},
     "output_type": "execute_result"
    }
   ],
   "source": [
    "pheno_master_miss50perc_withPCA = pd.read_csv(\n",
    "    os.path.join(assoc_dir,'pheno_master_miss50perc_withPCA.tsv'),sep='\\t')\n",
    "\n",
    "# which traits are actually variable and what's the variance?\n",
    "pd.set_option('display.max_rows', 40)\n",
    "pheno_master_miss50perc_withPCA.var(axis=0, skipna=True)"
   ]
  },
  {
   "cell_type": "code",
   "execution_count": 47,
   "metadata": {
    "ExecuteTime": {
     "end_time": "2021-07-16T01:22:47.344152Z",
     "start_time": "2021-07-16T01:22:47.186781Z"
    }
   },
   "outputs": [
    {
     "data": {
      "text/html": [
       "<div>\n",
       "<style scoped>\n",
       "    .dataframe tbody tr th:only-of-type {\n",
       "        vertical-align: middle;\n",
       "    }\n",
       "\n",
       "    .dataframe tbody tr th {\n",
       "        vertical-align: top;\n",
       "    }\n",
       "\n",
       "    .dataframe thead th {\n",
       "        text-align: right;\n",
       "    }\n",
       "</style>\n",
       "<table border=\"1\" class=\"dataframe\">\n",
       "  <thead>\n",
       "    <tr style=\"text-align: right;\">\n",
       "      <th></th>\n",
       "      <th>DORSAL</th>\n",
       "      <th>FLANK</th>\n",
       "      <th>Ventrum</th>\n",
       "      <th>Tail</th>\n",
       "      <th>Rumpshape</th>\n",
       "      <th>Rumpshadow</th>\n",
       "      <th>Ankleshadow</th>\n",
       "      <th>EARBASE</th>\n",
       "      <th>Eyebrow</th>\n",
       "      <th>Cheek</th>\n",
       "      <th>...</th>\n",
       "      <th>FLANK_Hue_SD</th>\n",
       "      <th>FLANK_Saturation_SD</th>\n",
       "      <th>VENTRUM_Brightness_SD</th>\n",
       "      <th>VENTRUM_Hue_SD</th>\n",
       "      <th>VENTRUM_Saturation_SD</th>\n",
       "      <th>PC1</th>\n",
       "      <th>PC2</th>\n",
       "      <th>PC3</th>\n",
       "      <th>PC4</th>\n",
       "      <th>PC5</th>\n",
       "    </tr>\n",
       "  </thead>\n",
       "  <tbody>\n",
       "    <tr>\n",
       "      <th>count</th>\n",
       "      <td>152.0</td>\n",
       "      <td>152.0</td>\n",
       "      <td>152.000000</td>\n",
       "      <td>151.000000</td>\n",
       "      <td>149.000000</td>\n",
       "      <td>152.000000</td>\n",
       "      <td>152.000000</td>\n",
       "      <td>149.0</td>\n",
       "      <td>149.000000</td>\n",
       "      <td>145.000000</td>\n",
       "      <td>...</td>\n",
       "      <td>152.000000</td>\n",
       "      <td>152.000000</td>\n",
       "      <td>152.000000</td>\n",
       "      <td>152.000000</td>\n",
       "      <td>152.000000</td>\n",
       "      <td>1.520000e+02</td>\n",
       "      <td>1.520000e+02</td>\n",
       "      <td>1.520000e+02</td>\n",
       "      <td>1.520000e+02</td>\n",
       "      <td>1.520000e+02</td>\n",
       "    </tr>\n",
       "    <tr>\n",
       "      <th>mean</th>\n",
       "      <td>2.0</td>\n",
       "      <td>2.0</td>\n",
       "      <td>0.802632</td>\n",
       "      <td>1.877483</td>\n",
       "      <td>2.466443</td>\n",
       "      <td>0.664474</td>\n",
       "      <td>1.029605</td>\n",
       "      <td>2.0</td>\n",
       "      <td>1.513423</td>\n",
       "      <td>0.472414</td>\n",
       "      <td>...</td>\n",
       "      <td>0.612203</td>\n",
       "      <td>0.011362</td>\n",
       "      <td>16.410431</td>\n",
       "      <td>1.822121</td>\n",
       "      <td>0.004241</td>\n",
       "      <td>9.933574e-16</td>\n",
       "      <td>-3.739699e-16</td>\n",
       "      <td>8.414322e-16</td>\n",
       "      <td>3.505967e-17</td>\n",
       "      <td>1.037182e-15</td>\n",
       "    </tr>\n",
       "    <tr>\n",
       "      <th>std</th>\n",
       "      <td>0.0</td>\n",
       "      <td>0.0</td>\n",
       "      <td>0.326317</td>\n",
       "      <td>0.768043</td>\n",
       "      <td>0.608677</td>\n",
       "      <td>0.414059</td>\n",
       "      <td>0.201267</td>\n",
       "      <td>0.0</td>\n",
       "      <td>0.402468</td>\n",
       "      <td>0.644903</td>\n",
       "      <td>...</td>\n",
       "      <td>0.368271</td>\n",
       "      <td>0.005050</td>\n",
       "      <td>8.125979</td>\n",
       "      <td>0.744615</td>\n",
       "      <td>0.003212</td>\n",
       "      <td>1.953805e+00</td>\n",
       "      <td>1.593134e+00</td>\n",
       "      <td>1.397137e+00</td>\n",
       "      <td>1.238556e+00</td>\n",
       "      <td>1.112773e+00</td>\n",
       "    </tr>\n",
       "    <tr>\n",
       "      <th>min</th>\n",
       "      <td>2.0</td>\n",
       "      <td>2.0</td>\n",
       "      <td>0.000000</td>\n",
       "      <td>1.000000</td>\n",
       "      <td>1.000000</td>\n",
       "      <td>0.000000</td>\n",
       "      <td>0.500000</td>\n",
       "      <td>2.0</td>\n",
       "      <td>1.000000</td>\n",
       "      <td>0.000000</td>\n",
       "      <td>...</td>\n",
       "      <td>0.138407</td>\n",
       "      <td>0.001618</td>\n",
       "      <td>2.278017</td>\n",
       "      <td>0.388289</td>\n",
       "      <td>0.000447</td>\n",
       "      <td>-4.803856e+00</td>\n",
       "      <td>-4.861261e+00</td>\n",
       "      <td>-3.705166e+00</td>\n",
       "      <td>-4.385184e+00</td>\n",
       "      <td>-3.199754e+00</td>\n",
       "    </tr>\n",
       "    <tr>\n",
       "      <th>25%</th>\n",
       "      <td>2.0</td>\n",
       "      <td>2.0</td>\n",
       "      <td>0.500000</td>\n",
       "      <td>1.000000</td>\n",
       "      <td>2.000000</td>\n",
       "      <td>0.500000</td>\n",
       "      <td>1.000000</td>\n",
       "      <td>2.0</td>\n",
       "      <td>1.000000</td>\n",
       "      <td>0.000000</td>\n",
       "      <td>...</td>\n",
       "      <td>0.370505</td>\n",
       "      <td>0.007811</td>\n",
       "      <td>10.922371</td>\n",
       "      <td>1.249145</td>\n",
       "      <td>0.002167</td>\n",
       "      <td>-1.478783e+00</td>\n",
       "      <td>-1.041361e+00</td>\n",
       "      <td>-9.475916e-01</td>\n",
       "      <td>-9.378833e-01</td>\n",
       "      <td>-8.607747e-01</td>\n",
       "    </tr>\n",
       "    <tr>\n",
       "      <th>50%</th>\n",
       "      <td>2.0</td>\n",
       "      <td>2.0</td>\n",
       "      <td>1.000000</td>\n",
       "      <td>2.000000</td>\n",
       "      <td>2.000000</td>\n",
       "      <td>1.000000</td>\n",
       "      <td>1.000000</td>\n",
       "      <td>2.0</td>\n",
       "      <td>1.500000</td>\n",
       "      <td>0.000000</td>\n",
       "      <td>...</td>\n",
       "      <td>0.565736</td>\n",
       "      <td>0.010619</td>\n",
       "      <td>15.336082</td>\n",
       "      <td>1.757535</td>\n",
       "      <td>0.003500</td>\n",
       "      <td>-2.253298e-01</td>\n",
       "      <td>1.130142e-01</td>\n",
       "      <td>1.224329e-01</td>\n",
       "      <td>1.235876e-01</td>\n",
       "      <td>6.838560e-02</td>\n",
       "    </tr>\n",
       "    <tr>\n",
       "      <th>75%</th>\n",
       "      <td>2.0</td>\n",
       "      <td>2.0</td>\n",
       "      <td>1.000000</td>\n",
       "      <td>2.500000</td>\n",
       "      <td>3.000000</td>\n",
       "      <td>1.000000</td>\n",
       "      <td>1.000000</td>\n",
       "      <td>2.0</td>\n",
       "      <td>2.000000</td>\n",
       "      <td>1.000000</td>\n",
       "      <td>...</td>\n",
       "      <td>0.732166</td>\n",
       "      <td>0.013583</td>\n",
       "      <td>19.943036</td>\n",
       "      <td>2.327054</td>\n",
       "      <td>0.005069</td>\n",
       "      <td>1.250050e+00</td>\n",
       "      <td>1.142282e+00</td>\n",
       "      <td>9.371995e-01</td>\n",
       "      <td>8.672629e-01</td>\n",
       "      <td>7.885957e-01</td>\n",
       "    </tr>\n",
       "    <tr>\n",
       "      <th>max</th>\n",
       "      <td>2.0</td>\n",
       "      <td>2.0</td>\n",
       "      <td>1.500000</td>\n",
       "      <td>4.000000</td>\n",
       "      <td>4.000000</td>\n",
       "      <td>1.000000</td>\n",
       "      <td>2.000000</td>\n",
       "      <td>2.0</td>\n",
       "      <td>2.000000</td>\n",
       "      <td>2.000000</td>\n",
       "      <td>...</td>\n",
       "      <td>2.743766</td>\n",
       "      <td>0.027837</td>\n",
       "      <td>44.955983</td>\n",
       "      <td>3.828055</td>\n",
       "      <td>0.020705</td>\n",
       "      <td>5.588394e+00</td>\n",
       "      <td>4.397413e+00</td>\n",
       "      <td>3.223955e+00</td>\n",
       "      <td>2.708209e+00</td>\n",
       "      <td>2.293955e+00</td>\n",
       "    </tr>\n",
       "  </tbody>\n",
       "</table>\n",
       "<p>8 rows × 45 columns</p>\n",
       "</div>"
      ],
      "text/plain": [
       "       DORSAL  FLANK     Ventrum        Tail   Rumpshape  Rumpshadow  \\\n",
       "count   152.0  152.0  152.000000  151.000000  149.000000  152.000000   \n",
       "mean      2.0    2.0    0.802632    1.877483    2.466443    0.664474   \n",
       "std       0.0    0.0    0.326317    0.768043    0.608677    0.414059   \n",
       "min       2.0    2.0    0.000000    1.000000    1.000000    0.000000   \n",
       "25%       2.0    2.0    0.500000    1.000000    2.000000    0.500000   \n",
       "50%       2.0    2.0    1.000000    2.000000    2.000000    1.000000   \n",
       "75%       2.0    2.0    1.000000    2.500000    3.000000    1.000000   \n",
       "max       2.0    2.0    1.500000    4.000000    4.000000    1.000000   \n",
       "\n",
       "       Ankleshadow  EARBASE     Eyebrow       Cheek  ...  FLANK_Hue_SD  \\\n",
       "count   152.000000    149.0  149.000000  145.000000  ...    152.000000   \n",
       "mean      1.029605      2.0    1.513423    0.472414  ...      0.612203   \n",
       "std       0.201267      0.0    0.402468    0.644903  ...      0.368271   \n",
       "min       0.500000      2.0    1.000000    0.000000  ...      0.138407   \n",
       "25%       1.000000      2.0    1.000000    0.000000  ...      0.370505   \n",
       "50%       1.000000      2.0    1.500000    0.000000  ...      0.565736   \n",
       "75%       1.000000      2.0    2.000000    1.000000  ...      0.732166   \n",
       "max       2.000000      2.0    2.000000    2.000000  ...      2.743766   \n",
       "\n",
       "       FLANK_Saturation_SD  VENTRUM_Brightness_SD  VENTRUM_Hue_SD  \\\n",
       "count           152.000000             152.000000      152.000000   \n",
       "mean              0.011362              16.410431        1.822121   \n",
       "std               0.005050               8.125979        0.744615   \n",
       "min               0.001618               2.278017        0.388289   \n",
       "25%               0.007811              10.922371        1.249145   \n",
       "50%               0.010619              15.336082        1.757535   \n",
       "75%               0.013583              19.943036        2.327054   \n",
       "max               0.027837              44.955983        3.828055   \n",
       "\n",
       "       VENTRUM_Saturation_SD           PC1           PC2           PC3  \\\n",
       "count             152.000000  1.520000e+02  1.520000e+02  1.520000e+02   \n",
       "mean                0.004241  9.933574e-16 -3.739699e-16  8.414322e-16   \n",
       "std                 0.003212  1.953805e+00  1.593134e+00  1.397137e+00   \n",
       "min                 0.000447 -4.803856e+00 -4.861261e+00 -3.705166e+00   \n",
       "25%                 0.002167 -1.478783e+00 -1.041361e+00 -9.475916e-01   \n",
       "50%                 0.003500 -2.253298e-01  1.130142e-01  1.224329e-01   \n",
       "75%                 0.005069  1.250050e+00  1.142282e+00  9.371995e-01   \n",
       "max                 0.020705  5.588394e+00  4.397413e+00  3.223955e+00   \n",
       "\n",
       "                PC4           PC5  \n",
       "count  1.520000e+02  1.520000e+02  \n",
       "mean   3.505967e-17  1.037182e-15  \n",
       "std    1.238556e+00  1.112773e+00  \n",
       "min   -4.385184e+00 -3.199754e+00  \n",
       "25%   -9.378833e-01 -8.607747e-01  \n",
       "50%    1.235876e-01  6.838560e-02  \n",
       "75%    8.672629e-01  7.885957e-01  \n",
       "max    2.708209e+00  2.293955e+00  \n",
       "\n",
       "[8 rows x 45 columns]"
      ]
     },
     "execution_count": 47,
     "metadata": {},
     "output_type": "execute_result"
    }
   ],
   "source": [
    "pheno_master_miss50perc_withPCA.describe()"
   ]
  },
  {
   "cell_type": "code",
   "execution_count": 48,
   "metadata": {
    "ExecuteTime": {
     "end_time": "2021-07-16T01:22:49.180258Z",
     "start_time": "2021-07-16T01:22:49.165988Z"
    }
   },
   "outputs": [
    {
     "data": {
      "text/plain": [
       "['Ventrum',\n",
       " 'Tail',\n",
       " 'Rumpshape',\n",
       " 'Rumpshadow',\n",
       " 'Ankleshadow',\n",
       " 'Eyebrow',\n",
       " 'Cheek',\n",
       " 'Whisker',\n",
       " 'Rostrum',\n",
       " 'Dorsum_Brightness',\n",
       " 'Dorsum_Hue',\n",
       " 'Dorsum_Saturation',\n",
       " 'Flank_Brightness',\n",
       " 'Flank_Hue',\n",
       " 'Flank_Saturation',\n",
       " 'Ventrum_Brightness',\n",
       " 'Ventrum_Hue',\n",
       " 'Ventrum_Saturation',\n",
       " 'PC1',\n",
       " 'PC2',\n",
       " 'PC3',\n",
       " 'PC4',\n",
       " 'PC5']"
      ]
     },
     "execution_count": 48,
     "metadata": {},
     "output_type": "execute_result"
    }
   ],
   "source": [
    "# remove invariable traits, notes, means and sd of spec traits, and rename MEDIAN to median \n",
    "# for backwards compatibility (Brock switched at some point)\n",
    "\n",
    "traits = list(pheno_master_miss50perc_withPCA.columns)\n",
    "traits = [ trait for trait in traits if trait not in ['ANIMALID','DORSAL','FLANK','EARBASE',\n",
    "            'BETWEENEYES','DATE','MEASURER','NOTES','pop'] ]\n",
    "traits = [ trait for trait in traits if (\"SPEC\" not in trait and \"MEAN\" not in trait and \"SD\" not in trait) ]\n",
    "\n",
    "#traits = [ trait.replace(\"MEDIAN\",\"median\") for trait in traits ]\n",
    "\n",
    "traits"
   ]
  },
  {
   "cell_type": "code",
   "execution_count": 49,
   "metadata": {
    "ExecuteTime": {
     "end_time": "2021-07-16T01:22:53.376077Z",
     "start_time": "2021-07-16T01:22:53.179845Z"
    },
    "deletable": false,
    "editable": false,
    "run_control": {
     "frozen": true
    }
   },
   "outputs": [],
   "source": [
    "# generate pheno files. ID has to duplicated, following plink format (actually family ID and ind ID, but doesn't matter here)\n",
    "\n",
    "for trait in traits:\n",
    "    out_file = '%s/pheno_miss50perc_%s.tsv' %(assoc_dir,trait)\n",
    "    \n",
    "    if not os.path.exists(out_file):\n",
    "        pheno = pheno_master_miss50perc_withPCA[['ANIMALID','ANIMALID',trait]]\n",
    "        pheno.to_csv(out_file, sep='\\t', index=False, header=False, na_rep='NA')"
   ]
  },
  {
   "cell_type": "markdown",
   "metadata": {},
   "source": [
    "## Genotype likelihood-based PCA\n",
    "\n",
    "Based on ANGSD GT likelihoods (see ANGSD notebook)"
   ]
  },
  {
   "cell_type": "code",
   "execution_count": 82,
   "metadata": {
    "ExecuteTime": {
     "end_time": "2020-08-20T00:39:38.807212Z",
     "start_time": "2020-08-20T00:39:38.590482Z"
    }
   },
   "outputs": [
    {
     "data": {
      "text/html": [
       "<div>\n",
       "<style scoped>\n",
       "    .dataframe tbody tr th:only-of-type {\n",
       "        vertical-align: middle;\n",
       "    }\n",
       "\n",
       "    .dataframe tbody tr th {\n",
       "        vertical-align: top;\n",
       "    }\n",
       "\n",
       "    .dataframe thead th {\n",
       "        text-align: right;\n",
       "    }\n",
       "</style>\n",
       "<table border=\"1\" class=\"dataframe\">\n",
       "  <thead>\n",
       "    <tr style=\"text-align: right;\">\n",
       "      <th></th>\n",
       "      <th>#FID</th>\n",
       "      <th>IID</th>\n",
       "      <th>PC1</th>\n",
       "      <th>PC2</th>\n",
       "      <th>PC3</th>\n",
       "      <th>PC4</th>\n",
       "      <th>PC5</th>\n",
       "    </tr>\n",
       "  </thead>\n",
       "  <tbody>\n",
       "    <tr>\n",
       "      <th>0</th>\n",
       "      <td>VSD142</td>\n",
       "      <td>VSD142</td>\n",
       "      <td>0.047101</td>\n",
       "      <td>-0.071038</td>\n",
       "      <td>0.063356</td>\n",
       "      <td>-0.071114</td>\n",
       "      <td>-0.037806</td>\n",
       "    </tr>\n",
       "    <tr>\n",
       "      <th>1</th>\n",
       "      <td>VSD143</td>\n",
       "      <td>VSD143</td>\n",
       "      <td>0.020383</td>\n",
       "      <td>-0.085641</td>\n",
       "      <td>0.099400</td>\n",
       "      <td>0.005721</td>\n",
       "      <td>0.065881</td>\n",
       "    </tr>\n",
       "    <tr>\n",
       "      <th>2</th>\n",
       "      <td>VSD195</td>\n",
       "      <td>VSD195</td>\n",
       "      <td>-0.017774</td>\n",
       "      <td>0.079555</td>\n",
       "      <td>0.006412</td>\n",
       "      <td>0.113150</td>\n",
       "      <td>-0.016755</td>\n",
       "    </tr>\n",
       "    <tr>\n",
       "      <th>3</th>\n",
       "      <td>VSD196</td>\n",
       "      <td>VSD196</td>\n",
       "      <td>0.043181</td>\n",
       "      <td>-0.050196</td>\n",
       "      <td>0.092543</td>\n",
       "      <td>-0.052822</td>\n",
       "      <td>-0.006568</td>\n",
       "    </tr>\n",
       "    <tr>\n",
       "      <th>4</th>\n",
       "      <td>VSD197</td>\n",
       "      <td>VSD197</td>\n",
       "      <td>0.001435</td>\n",
       "      <td>-0.009865</td>\n",
       "      <td>0.060391</td>\n",
       "      <td>0.073230</td>\n",
       "      <td>0.007889</td>\n",
       "    </tr>\n",
       "    <tr>\n",
       "      <th>...</th>\n",
       "      <td>...</td>\n",
       "      <td>...</td>\n",
       "      <td>...</td>\n",
       "      <td>...</td>\n",
       "      <td>...</td>\n",
       "      <td>...</td>\n",
       "      <td>...</td>\n",
       "    </tr>\n",
       "    <tr>\n",
       "      <th>162</th>\n",
       "      <td>VSD83</td>\n",
       "      <td>VSD83</td>\n",
       "      <td>-0.100008</td>\n",
       "      <td>-0.046201</td>\n",
       "      <td>-0.054707</td>\n",
       "      <td>-0.053625</td>\n",
       "      <td>0.014613</td>\n",
       "    </tr>\n",
       "    <tr>\n",
       "      <th>163</th>\n",
       "      <td>VSD84</td>\n",
       "      <td>VSD84</td>\n",
       "      <td>0.099445</td>\n",
       "      <td>-0.094261</td>\n",
       "      <td>-0.025021</td>\n",
       "      <td>-0.050885</td>\n",
       "      <td>-0.074519</td>\n",
       "    </tr>\n",
       "    <tr>\n",
       "      <th>165</th>\n",
       "      <td>VSD86</td>\n",
       "      <td>VSD86</td>\n",
       "      <td>0.110659</td>\n",
       "      <td>-0.045524</td>\n",
       "      <td>-0.051989</td>\n",
       "      <td>0.005203</td>\n",
       "      <td>0.040827</td>\n",
       "    </tr>\n",
       "    <tr>\n",
       "      <th>166</th>\n",
       "      <td>VSD87</td>\n",
       "      <td>VSD87</td>\n",
       "      <td>-0.115267</td>\n",
       "      <td>-0.017196</td>\n",
       "      <td>0.001515</td>\n",
       "      <td>-0.075491</td>\n",
       "      <td>-0.006140</td>\n",
       "    </tr>\n",
       "    <tr>\n",
       "      <th>167</th>\n",
       "      <td>VSD88</td>\n",
       "      <td>VSD88</td>\n",
       "      <td>0.084116</td>\n",
       "      <td>-0.071968</td>\n",
       "      <td>-0.019267</td>\n",
       "      <td>0.034072</td>\n",
       "      <td>0.117657</td>\n",
       "    </tr>\n",
       "  </tbody>\n",
       "</table>\n",
       "<p>152 rows × 7 columns</p>\n",
       "</div>"
      ],
      "text/plain": [
       "       #FID     IID       PC1       PC2       PC3       PC4       PC5\n",
       "0    VSD142  VSD142  0.047101 -0.071038  0.063356 -0.071114 -0.037806\n",
       "1    VSD143  VSD143  0.020383 -0.085641  0.099400  0.005721  0.065881\n",
       "2    VSD195  VSD195 -0.017774  0.079555  0.006412  0.113150 -0.016755\n",
       "3    VSD196  VSD196  0.043181 -0.050196  0.092543 -0.052822 -0.006568\n",
       "4    VSD197  VSD197  0.001435 -0.009865  0.060391  0.073230  0.007889\n",
       "..      ...     ...       ...       ...       ...       ...       ...\n",
       "162   VSD83   VSD83 -0.100008 -0.046201 -0.054707 -0.053625  0.014613\n",
       "163   VSD84   VSD84  0.099445 -0.094261 -0.025021 -0.050885 -0.074519\n",
       "165   VSD86   VSD86  0.110659 -0.045524 -0.051989  0.005203  0.040827\n",
       "166   VSD87   VSD87 -0.115267 -0.017196  0.001515 -0.075491 -0.006140\n",
       "167   VSD88   VSD88  0.084116 -0.071968 -0.019267  0.034072  0.117657\n",
       "\n",
       "[152 rows x 7 columns]"
      ]
     },
     "execution_count": 82,
     "metadata": {},
     "output_type": "execute_result"
    }
   ],
   "source": [
    "PCscores_file = '/n/holylfs03/LABS/hoekstra_lab/Users/brock/polionotus/angsd/POALB_PCscores.txt'\n",
    "\n",
    "PCscores = pd.read_csv(PCscores_file, sep=\"\\t\")\n",
    "\n",
    "PCscores_miss50perc = PCscores[~PCscores.samples.isin(excluded_samples)]\n",
    "\n",
    "#PCscores = PCscores.rename(columns={'samples':'IID'})\n",
    "PCcovar_miss50perc = PCscores_miss50perc[['samples','samples','PC1','PC2','PC3','PC4','PC5']] # duplicate sample ID - plink format\n",
    "PCcovar_miss50perc.columns = ['#FID','IID','PC1','PC2','PC3','PC4','PC5'] # change header to that expected by plink2 for covariate file\n",
    "\n",
    "# generate covariate file\n",
    "out_file = os.path.join(assoc_dir,'covar_miss50perc_genPCscores.tsv')\n",
    "if not os.path.exists(out_file):\n",
    "    PCcovar_miss50perc.to_csv(out_file, sep='\\t', index=False, header=True, na_rep='NA')\n",
    "    \n",
    "pd.set_option('display.max_rows', 10)\n",
    "PCcovar_miss50perc"
   ]
  },
  {
   "cell_type": "code",
   "execution_count": 87,
   "metadata": {
    "ExecuteTime": {
     "end_time": "2020-08-20T00:41:43.828619Z",
     "start_time": "2020-08-20T00:41:43.822542Z"
    },
    "deletable": false,
    "editable": false,
    "run_control": {
     "frozen": true
    },
    "scrolled": true
   },
   "outputs": [
    {
     "data": {
      "text/plain": [
       "True"
      ]
     },
     "execution_count": 87,
     "metadata": {},
     "output_type": "execute_result"
    }
   ],
   "source": [
    "# check if order of IDs is the same\n",
    "\n",
    "list(PCscores_miss50perc['samples'])==list(pheno_master_miss50perc_withPCA['ANIMALID'])"
   ]
  },
  {
   "cell_type": "markdown",
   "metadata": {},
   "source": [
    "### Correlations between traits and genetic PC scores"
   ]
  },
  {
   "cell_type": "code",
   "execution_count": 99,
   "metadata": {
    "ExecuteTime": {
     "end_time": "2020-08-20T00:48:51.078191Z",
     "start_time": "2020-08-20T00:48:50.854938Z"
    }
   },
   "outputs": [
    {
     "data": {
      "image/png": "[encoded data removed]"
     },
     "metadata": {},
     "output_type": "display_data"
    }
   ],
   "source": [
    "%%R -w 600 -h 500 -i assoc_dir\n",
    "\n",
    "PC_dat <- read.table(paste0(assoc_dir,'/covar_miss50perc_genPCscores.tsv'), header=F) %>% \n",
    "    setNames(c(\"ANIMALID\",\"IID\",\"genPC1\",\"genPC2\",\"genPC3\",\"genPC4\",\"genPC5\")) %>% select(-IID)\n",
    "\n",
    "genPC_cor_mat <- left_join(pheno_master_miss50perc_withPCA, PC_dat, by=\"ANIMALID\") %>% \n",
    "    select(-c(ANIMALID,MEASURER,DATE,NOTES,pop,starts_with(\"SPEC\"))) %>%\n",
    "    select(-c(DORSAL,FLANK,EARBASE,BETWEENEYES,contains(\"_MEAN\"),contains(\"_SD\"))) %>%\n",
    "    cor(., method=\"pearson\", use=\"complete.obs\")\n",
    "\n",
    "genPC_cor_mat_sig <- left_join(pheno_master_miss50perc_withPCA, PC_dat, by=\"ANIMALID\") %>% \n",
    "    select(-c(ANIMALID,MEASURER,DATE,NOTES,pop,starts_with(\"SPEC\"))) %>%\n",
    "    select(-c(DORSAL,FLANK,EARBASE,BETWEENEYES,contains(\"_MEAN\"),contains(\"_SD\"))) %>%\n",
    "    cor.mtest()\n",
    "\n",
    "corrplot(genPC_cor_mat, p.mat=genPC_cor_mat_sig$p, tl.col=\"black\", cl.cex=1, method=\"circle\", \n",
    "        insig=\"label_sig\", sig.level=c(.001, .01, .05), pch.cex=0.75, pch.col=\"black\")\n",
    "\n",
    "#method=\"number\" will show actual corr. coefficient"
   ]
  },
  {
   "cell_type": "code",
   "execution_count": 102,
   "metadata": {
    "ExecuteTime": {
     "end_time": "2020-08-20T00:51:05.857519Z",
     "start_time": "2020-08-20T00:51:05.824444Z"
    }
   },
   "outputs": [],
   "source": [
    "%%R\n",
    "\n",
    "# pull out order of traits based on clustering\n",
    "trait_order <- rownames(reorder_cormat(genPC_cor_mat))\n",
    "\n",
    "# tidy up cor. matrix\n",
    "genPC_cor_mat_plot <- reorder_cormat(genPC_cor_mat) %>% as.data.frame() %>% rownames_to_column(var=\"Trait1\") %>% \n",
    "    gather(key=\"Trait2\", value=\"r\", -Trait1) %>%\n",
    "    mutate(Trait1=fct_relevel(Trait1, levels=trait_order)) %>%\n",
    "    mutate(Trait2=fct_relevel(Trait2, levels=trait_order))\n",
    "\n",
    "# ...and significance matrix (order both according to clustering)\n",
    "genPC_cor_mat_sig_plot <- genPC_cor_mat_sig$p %>% as.data.frame() %>% \n",
    "    setNames(colnames(genPC_cor_mat)) %>% mutate(Trait1=rownames(genPC_cor_mat)) %>% \n",
    "    gather(key=\"Trait2\", value=\"p\", -Trait1) %>%\n",
    "    mutate(significance = case_when(p < 0.001 ~ \"***\",\n",
    "                                   p < 0.01 ~ \"**\",\n",
    "                                   p < 0.05 ~ \"*\")) %>%\n",
    "    mutate(Trait1=fct_relevel(Trait1, levels=trait_order)) %>%\n",
    "    mutate(Trait2=fct_relevel(Trait2, levels=trait_order))"
   ]
  },
  {
   "cell_type": "code",
   "execution_count": 140,
   "metadata": {
    "ExecuteTime": {
     "end_time": "2020-08-20T18:56:06.228849Z",
     "start_time": "2020-08-20T18:56:05.942612Z"
    }
   },
   "outputs": [],
   "source": [
    "%%R -w 900 -h 800\n",
    "\n",
    "ggplot(genPC_cor_mat_plot) +\n",
    "    geom_point(aes(x=Trait1, y=Trait2, color=r, size=r)) +\n",
    "    scale_color_gradient2(name=\"\", limits=c(-1,1)) + #, low=\"darkred\", mid=\"white\", high=\"darkblue\") +\n",
    "    scale_size(guide=\"none\") +\n",
    "    theme_bw() + ylab(\"\") + xlab(\"\") +\n",
    "    theme(axis.text.x = element_text(angle=45,hjust=0), legend.position = \"left\") +\n",
    "    scale_y_discrete(position=\"right\") +\n",
    "    scale_x_discrete(position=\"top\") +\n",
    "    geom_text(data=genPC_cor_mat_sig_plot, aes(x=Trait1,y=Trait2,label=significance),size=2)\n",
    "\n",
    "file_name=paste0(assoc_dir,\"/traits_genPCA.corrplot.pdf\")\n",
    "if(file.exists(file_name)) {\n",
    "    ggsave(file_name, width=10, height=9)\n",
    "}"
   ]
  },
  {
   "cell_type": "code",
   "execution_count": 104,
   "metadata": {
    "ExecuteTime": {
     "end_time": "2020-08-20T00:53:33.941594Z",
     "start_time": "2020-08-20T00:53:33.697361Z"
    }
   },
   "outputs": [
    {
     "data": {
      "image/png": "[encoded data removed]"
     },
     "metadata": {},
     "output_type": "display_data"
    }
   ],
   "source": [
    "%%R -w 500 -h 400\n",
    "\n",
    "# visually inspect correlation\n",
    "\n",
    "left_join(pheno_master_miss50perc_withPCA, PC_dat, by=\"ANIMALID\") %>% \n",
    "    select(ANIMALID,contains(\"PC\"),VENTRUM,RUMPSHAPE,WHISKER) %>%\n",
    "    ggplot( aes(x=genPC1, y=genPC2, fill=VENTRUM)) + \n",
    "        geom_point(size=4, pch=21, color=\"black\") +\n",
    "        scale_fill_gradient(low=\"gold\", high=\"blue\") +\n",
    "        theme(axis.text=element_text(size=14), axis.title=element_text(size=16)) +\n",
    "        theme(legend.text=element_text(size=12))"
   ]
  },
  {
   "cell_type": "markdown",
   "metadata": {},
   "source": [
    " ### Double-check (again) that order of samples is the same in vcf and pheno file"
   ]
  },
  {
   "cell_type": "code",
   "execution_count": 105,
   "metadata": {
    "ExecuteTime": {
     "end_time": "2020-08-20T00:54:09.290401Z",
     "start_time": "2020-08-20T00:54:09.248903Z"
    },
    "deletable": false,
    "editable": false,
    "run_control": {
     "frozen": true
    }
   },
   "outputs": [
    {
     "data": {
      "text/plain": [
       "True"
      ]
     },
     "execution_count": 105,
     "metadata": {},
     "output_type": "execute_result"
    }
   ],
   "source": [
    "samples_miss50perc = list(pheno_master_miss50perc_withPCA['ANIMALID'])\n",
    "\n",
    "tfam_miss50perc_samples = list(pd.read_csv(os.path.join(\n",
    "    assoc_dir,'POALB.biallelic.miss50perc.maf0.05geno0.5hwe0.001.tfam'), sep=' ', header=None)[0])\n",
    "\n",
    "samples_miss50perc==tfam_miss50perc_samples"
   ]
  },
  {
   "cell_type": "markdown",
   "metadata": {},
   "source": [
    "## Estimate number of independent markers with GEC\n",
    "\n",
    "Determining a significance threshold in GWAS seems to be somewhat abitrary and I think it's really more about the singal-to-noise ratio (how different from background is the signal) and the shape of the peak. I'd be wary of highly associated single SNPs. Depending on the markers and population, you'd usually expext a nice peak consisting of multiple markers. But with sparse GT data this is of course more tricky"
   ]
  },
  {
   "cell_type": "code",
   "execution_count": 105,
   "metadata": {
    "ExecuteTime": {
     "end_time": "2020-04-17T18:06:56.786513Z",
     "start_time": "2020-04-17T18:06:55.217323Z"
    },
    "deletable": false,
    "editable": false,
    "run_control": {
     "frozen": true
    }
   },
   "outputs": [],
   "source": [
    "%%script env assoc_dir=\"$assoc_dir\" bash\n",
    "\n",
    "maf=\"0.05\"; geno=\"0.1\"; hwe=\"0.001\"\n",
    "stem=\"biallelic.miss50perc.maf${maf}geno${geno}hwe${hwe}\"\n",
    "\n",
    "module load Java/1.8\n",
    "\n",
    "if [ ! -f ${assoc_dir}/out_GEC_POALB.${stem}.block.txt ]; then\n",
    "    java -Xmx4g -jar ~/bin/gec.jar --no-web --effect-number --genome --maf $maf --plink-binary \\\n",
    "    ${assoc_dir}/POALB.${stem} \\\n",
    "    --out ${assoc_dir}/out_GEC_POALB.${stem}; fi"
   ]
  },
  {
   "cell_type": "code",
   "execution_count": 10,
   "metadata": {
    "ExecuteTime": {
     "end_time": "2020-06-17T19:07:12.443834Z",
     "start_time": "2020-06-17T19:07:12.364276Z"
    }
   },
   "outputs": [
    {
     "name": "stdout",
     "output_type": "stream",
     "text": [
      "Observed_Number  Effective_Number  Effective_Ratio  Suggestive_P_Value  Significant_P_Value  Highly_Significant_P_Value\n",
      "6547             4071.9            0.62             2.46E-4             1.23E-5              2.46E-7\n"
     ]
    }
   ],
   "source": [
    "%%script env assoc_dir=\"$assoc_dir\" bash\n",
    "\n",
    "maf=\"0.05\"; geno=\"0.5\"; hwe=\"0.001\"\n",
    "stem=\"biallelic.miss50perc.maf${maf}geno${geno}hwe${hwe}\"\n",
    "\n",
    "column -t ${assoc_dir}/out_GEC_POALB.${stem}.sum"
   ]
  },
  {
   "cell_type": "markdown",
   "metadata": {},
   "source": [
    "## EMMAX"
   ]
  },
  {
   "cell_type": "markdown",
   "metadata": {},
   "source": [
    "### Generate Balding-Nichols (BN) kinship matrix"
   ]
  },
  {
   "cell_type": "code",
   "execution_count": 88,
   "metadata": {
    "ExecuteTime": {
     "end_time": "2020-04-27T18:51:52.838424Z",
     "start_time": "2020-04-27T18:51:52.774293Z"
    },
    "deletable": false,
    "editable": false,
    "run_control": {
     "frozen": true
    }
   },
   "outputs": [],
   "source": [
    "%%script env assoc_dir=\"$assoc_dir\" bash\n",
    "\n",
    "maf=\"0.05\"; geno=\"0.5\"; hwe=\"0.001\"\n",
    "stem=\"biallelic.miss50perc.maf${maf}geno${geno}hwe${hwe}\"\n",
    "\n",
    "if [ ! -f ${assoc_dir}/POALB.${stem}.BN.kinf ]; then\n",
    "    \n",
    "    emmax-kin -v -d 10 ${assoc_dir}/POALB.${stem}; fi"
   ]
  },
  {
   "cell_type": "markdown",
   "metadata": {},
   "source": [
    "### Run model"
   ]
  },
  {
   "cell_type": "code",
   "execution_count": 51,
   "metadata": {
    "ExecuteTime": {
     "end_time": "2021-07-16T01:23:44.447285Z",
     "start_time": "2021-07-16T01:23:44.396917Z"
    }
   },
   "outputs": [],
   "source": [
    "%%script env assoc_dir=\"$assoc_dir\" emmax_dir=\"$emmax_dir\"  traits=\"$traits\" bash\n",
    "\n",
    "maf=\"0.05\"; geno=\"0.5\"; hwe=\"0.001\"\n",
    "stem=\"biallelic.miss50perc.maf${maf}geno${geno}hwe${hwe}\"\n",
    "\n",
    "for trait in $(echo $traits | sed \"s/'//g; s/,//g; s/\\[//g; s/\\]//g\")\n",
    "do   \n",
    "    if [ ! -f ${emmax_dir}/out_emmax_POALB.${stem}.BN.${trait}.ps ]; then\n",
    "        emmax -v -d 5 -t ${assoc_dir}/POALB.${stem} \\\n",
    "        -p ${assoc_dir}/pheno_miss50perc_${trait}.tsv \\\n",
    "        -k ${assoc_dir}/POALB.${stem}.BN.kinf \\\n",
    "        -o ${emmax_dir}/out_emmax_POALB.${stem}.BN.${trait}\n",
    "        \n",
    "        sed -i 's/:/\\t/; s/chrX/chr100/; s/chr//' ${emmax_dir}/out_emmax_POALB.${stem}.BN.${trait}.ps; fi\n",
    "done"
   ]
  },
  {
   "cell_type": "markdown",
   "metadata": {},
   "source": [
    "### Manhattan plots"
   ]
  },
  {
   "cell_type": "code",
   "execution_count": 52,
   "metadata": {
    "ExecuteTime": {
     "end_time": "2021-07-16T01:23:54.150225Z",
     "start_time": "2021-07-16T01:23:49.049868Z"
    }
   },
   "outputs": [],
   "source": [
    "%%R -i emmax_dir -w 900 -h 300 -i traits\n",
    "\n",
    "setwd(emmax_dir)\n",
    "\n",
    "maf = \"0.05\"; geno=\"0.5\"; hwe=\"0.001\"\n",
    "stem = paste0(\"biallelic.miss50perc.maf\",maf,\"geno\",geno,\"hwe\",hwe)\n",
    "\n",
    "#pdf(paste(\"out_emmax.POALB\",stem,\"pdf\",sep=\".\"),width=12,height=4)\n",
    "\n",
    "for (trait in traits){\n",
    "#print(trait)\n",
    "    #trait = \"PC1\"\n",
    "\n",
    "        name = paste(\"out_emmax_POALB\",stem,\"BN\",trait,\"ps\",sep=\".\")\n",
    "        input <- read.table(name, head=F, skip=0, sep=\"\\t\", na.string=\"-nan\")\n",
    "        col.names <- c(\"CHR\", \"BP\", \"BETA\", \"P\")\n",
    "        colnames(input) <- col.names; input <- na.omit(input); input$ID <- c(1:(nrow(input)))\n",
    "\n",
    "        upbound <- abs(round(min(log10(input$P))))+1\n",
    "\n",
    "        #pdf(paste(\"out_emmax.POALB\",stem,trait,\"pdf\",sep=\".\"),width=9.5,height=4)\n",
    "        png(paste(\"out_emmax.POALB\",stem,trait,\"png\",sep=\".\"),width=912,height=384)\n",
    "\n",
    "        manhattan(input, p=\"P\", snp=\"ID\", logp=T, suggestiveline=F, genomewideline=4.91, main=trait, #genomewideline=4.91\n",
    "                  col=c(\"gray\", \"black\"), ylab=\"-log10(p-value)\", ylim=c(0,upbound), cex=0.8)\n",
    "        dev.off()\n",
    "\n",
    "}\n",
    "\n",
    "#dev.off()"
   ]
  },
  {
   "cell_type": "markdown",
   "metadata": {},
   "source": [
    "### QQ plots\n",
    "\n",
    "See here for a brief discussion of GWAS and QQ plots http://genomesunzipped.org/2010/07/how-to-read-a-genome-wide-association-study.php"
   ]
  },
  {
   "cell_type": "code",
   "execution_count": 209,
   "metadata": {
    "ExecuteTime": {
     "end_time": "2020-04-29T13:41:41.917191Z",
     "start_time": "2020-04-29T13:41:41.772046Z"
    }
   },
   "outputs": [
    {
     "name": "stdout",
     "output_type": "stream",
     "text": [
      "png \n",
      "  2 \n"
     ]
    }
   ],
   "source": [
    "%%R -i emmax_dir -i traits -w 600 -h 600 \n",
    "\n",
    "setwd(emmax_dir)\n",
    "\n",
    "maf = \"0.05\"; geno=\"0.5\"; hwe=\"0.001\"\n",
    "stem = paste0(\"biallelic.miss50perc.maf\",maf,\"geno\",geno,\"hwe\",hwe)\n",
    "\n",
    "#pdf(paste(\"out_emmax.POALB\",stem,\"qq.pdf\",sep=\".\"),width=6,height=6)\n",
    "\n",
    "#for (trait in traits){\n",
    "trait = \"PC1\"\n",
    "\n",
    "        name = paste(\"out_emmax_POALB\",stem,\"BN\",trait,\"ps\",sep=\".\")\n",
    "        input <- read.table(name, head=F, skip=0, sep=\"\\t\", na.string=\"-nan\")\n",
    "        col.names <- c(\"CHR\", \"BP\", \"BETA\", \"P\")\n",
    "        colnames(input) <- col.names; input <- na.omit(input); input$ID <- c(1:(nrow(input)))\n",
    "    \n",
    "        pdf(paste(\"out_emmax.POALB\",stem,trait,\"qq.pdf\",sep=\".\"),width=6,height=6)\n",
    "\n",
    "        qq.chisq(-2*log(input$P), df=2, pvals=T, conc=c(0.025, 0.975), trim=0.5, main=paste0(\"QQ plot - \",trait),\n",
    "            overdisp=T, slope.one=T, slope.lambda=T, thin=c(0.25,50), pch=20, oor.pch=24, col.shade=\"gray90\")\n",
    "    \n",
    "        dev.off()\n",
    "#}\n",
    "\n",
    "#dev.off()"
   ]
  },
  {
   "cell_type": "markdown",
   "metadata": {},
   "source": [
    "## Effect size"
   ]
  },
  {
   "cell_type": "code",
   "execution_count": 133,
   "metadata": {
    "ExecuteTime": {
     "end_time": "2020-11-09T19:41:25.146929Z",
     "start_time": "2020-11-09T19:41:20.471043Z"
    }
   },
   "outputs": [],
   "source": [
    "%%R -i assoc_dir\n",
    "\n",
    "setwd(assoc_dir)\n",
    "\n",
    "maf = \"0.05\"; geno=\"0.5\"; hwe=\"0.001\"\n",
    "stem = paste0(\"POALB.biallelic.miss50perc.maf\",maf,\"geno\",geno,\"hwe\",hwe)\n",
    "\n",
    "vcf_file = file.path(assoc_dir,paste0(stem,\".vcf\"))\n",
    "\n",
    "# read in vcf\n",
    "vcf <- read.vcfR(vcf_file, verbose=F)"
   ]
  },
  {
   "cell_type": "code",
   "execution_count": 134,
   "metadata": {
    "ExecuteTime": {
     "end_time": "2020-11-09T19:41:32.098961Z",
     "start_time": "2020-11-09T19:41:25.151992Z"
    }
   },
   "outputs": [
    {
     "name": "stderr",
     "output_type": "stream",
     "text": [
      "R[write to console]: Extracting gt element GT\n",
      "\n"
     ]
    },
    {
     "name": "stdout",
     "output_type": "stream",
     "text": [
      "\u001b[90m# A tibble: 24 x 2\u001b[39m\n",
      "   ChromKey CHROM\n",
      "      \u001b[3m\u001b[90m<int>\u001b[39m\u001b[23m \u001b[3m\u001b[90m<chr>\u001b[39m\u001b[23m\n",
      "\u001b[90m 1\u001b[39m        1 chr1 \n",
      "\u001b[90m 2\u001b[39m       12 chr2 \n",
      "\u001b[90m 3\u001b[39m       17 chr3 \n",
      "\u001b[90m 4\u001b[39m       18 chr4 \n",
      "\u001b[90m 5\u001b[39m       19 chr5 \n",
      "\u001b[90m 6\u001b[39m       20 chr6 \n",
      "\u001b[90m 7\u001b[39m       21 chr7 \n",
      "\u001b[90m 8\u001b[39m       22 chr8 \n",
      "\u001b[90m 9\u001b[39m       23 chr9 \n",
      "\u001b[90m10\u001b[39m        2 chr10\n",
      "\u001b[90m# … with 14 more rows\u001b[39m\n"
     ]
    }
   ],
   "source": [
    "%%R\n",
    "\n",
    "vcf_nice <- vcfR2tidy(vcf, single_frame=F, toss_INFO_column=T, format_fields = c(\"GT\"))\n",
    "\n",
    "index <- vcf_nice$fix %>% select(ChromKey,CHROM) %>% unique()\n",
    "index"
   ]
  },
  {
   "cell_type": "code",
   "execution_count": 137,
   "metadata": {
    "ExecuteTime": {
     "end_time": "2020-11-09T19:41:56.714318Z",
     "start_time": "2020-11-09T19:41:56.130516Z"
    }
   },
   "outputs": [
    {
     "name": "stdout",
     "output_type": "stream",
     "text": [
      "\u001b[90m# A tibble: 995,144 x 2\u001b[39m\n",
      "   Indiv  GT   \n",
      "   \u001b[3m\u001b[90m<chr>\u001b[39m\u001b[23m  \u001b[3m\u001b[90m<chr>\u001b[39m\u001b[23m\n",
      "\u001b[90m 1\u001b[39m VSD142 ./.  \n",
      "\u001b[90m 2\u001b[39m VSD142 0/0  \n",
      "\u001b[90m 3\u001b[39m VSD142 0/1  \n",
      "\u001b[90m 4\u001b[39m VSD142 0/0  \n",
      "\u001b[90m 5\u001b[39m VSD142 0/0  \n",
      "\u001b[90m 6\u001b[39m VSD142 0/1  \n",
      "\u001b[90m 7\u001b[39m VSD142 0/1  \n",
      "\u001b[90m 8\u001b[39m VSD142 0/1  \n",
      "\u001b[90m 9\u001b[39m VSD142 0/0  \n",
      "\u001b[90m10\u001b[39m VSD142 0/0  \n",
      "\u001b[90m# … with 995,134 more rows\u001b[39m\n"
     ]
    }
   ],
   "source": [
    "%%R\n",
    "\n",
    "vcf_nice$gt %>%\n",
    "    mutate(\"GT\"=case_when(gt_GT==\"0|0\" ~ \"0/0\",\n",
    "    gt_GT==\"0|1\" | gt_GT==\"1|0\" ~ \"0/1\",\n",
    "    gt_GT==\"1|1\" ~ \"1/1\",\n",
    "    is.na(gt_GT) ~ \"./.\",\n",
    "    TRUE~as.character(gt_GT))) %>% select(Indiv,GT)"
   ]
  },
  {
   "cell_type": "code",
   "execution_count": 138,
   "metadata": {
    "ExecuteTime": {
     "end_time": "2020-11-09T19:42:00.830878Z",
     "start_time": "2020-11-09T19:42:00.713229Z"
    }
   },
   "outputs": [],
   "source": [
    "%%R\n",
    "\n",
    "pheno_master_miss50perc_withPCA <- read.table(paste0(assoc_dir,'/pheno_master_miss50perc_withPCA.tsv'),\n",
    "                                            sep=\"\\t\", header=T)\n",
    "\n",
    "GT_focal <- left_join(pheno_master_miss50perc_withPCA, \n",
    "                      vcf_nice$gt %>% filter(ChromKey==\"18\") %>% filter(POS==\"9845301\") %>%\n",
    "                        mutate(\"GT\"=case_when(gt_GT==\"0|0\" ~ \"0/0\",\n",
    "                        gt_GT==\"0|1\" | gt_GT==\"1|0\" ~ \"0/1\",\n",
    "                        gt_GT==\"1|1\" ~ \"1/1\",\n",
    "                        is.na(gt_GT) ~ \"./.\",\n",
    "                        TRUE~as.character(gt_GT))) %>% select(Indiv,GT) %>% rename(\"ANIMALID\"=Indiv),\n",
    "                      by=\"ANIMALID\") %>% select(ANIMALID,PC1,GT)"
   ]
  },
  {
   "cell_type": "code",
   "execution_count": 165,
   "metadata": {
    "ExecuteTime": {
     "end_time": "2020-11-09T20:02:27.468329Z",
     "start_time": "2020-11-09T20:02:27.138150Z"
    }
   },
   "outputs": [],
   "source": [
    "%%R -i assoc_dir -w 600 -h 300\n",
    "\n",
    "ggplot(GT_focal %>% filter(!GT==\"./.\"), aes(x=GT, y=PC1)) +\n",
    "    geom_boxplot(notch=F, width=0.7) + \n",
    "    geom_sina(maxwidth=0.7, pch=16, color=\"darkgray\", size=2.5, alpha=0.8) + \n",
    "    ylab(\"Phenotype PC1 score\") + xlab(\"Genotype chr4:9845301\") + \n",
    "    scale_fill_manual(values=c(\"0/0\"=\"#FF9C00\",\"1/1\"=\"#B29977\",\"0/1\"=\"#6495ED\")) +\n",
    "    theme(legend.position=\"None\") +\n",
    "    theme_classic() +\n",
    "    theme(axis.text=element_text(size=16), axis.title=element_text(size=18))\n",
    "    \n",
    "\n",
    "file_name=paste0(assoc_dir,\"/effect_size.PC1.chr4_9845301.pdf\")\n",
    "if(file.exists(file_name)) {\n",
    "    ggsave(file_name, width=5, height=3)\n",
    "}"
   ]
  },
  {
   "cell_type": "code",
   "execution_count": 338,
   "metadata": {
    "ExecuteTime": {
     "end_time": "2020-11-10T21:38:32.346419Z",
     "start_time": "2020-11-10T21:38:32.223794Z"
    }
   },
   "outputs": [
    {
     "name": "stdout",
     "output_type": "stream",
     "text": [
      "\u001b[90m# A tibble: 3 x 2\u001b[39m\n",
      "  GT        n\n",
      "  \u001b[3m\u001b[90m<chr>\u001b[39m\u001b[23m \u001b[3m\u001b[90m<int>\u001b[39m\u001b[23m\n",
      "\u001b[90m1\u001b[39m 0/0      98\n",
      "\u001b[90m2\u001b[39m 0/1      37\n",
      "\u001b[90m3\u001b[39m 1/1       2\n"
     ]
    }
   ],
   "source": [
    "%%R\n",
    "\n",
    "GT_focal %>% filter(!GT==\"./.\") %>% group_by(GT) %>% tally()"
   ]
  },
  {
   "cell_type": "code",
   "execution_count": 79,
   "metadata": {
    "ExecuteTime": {
     "end_time": "2020-07-30T16:31:16.479337Z",
     "start_time": "2020-07-30T16:31:16.373939Z"
    }
   },
   "outputs": [
    {
     "name": "stdout",
     "output_type": "stream",
     "text": [
      "\n",
      "Call:\n",
      "lm(formula = nomiss_GT$PC1 ~ nomiss_GT$GT)\n",
      "\n",
      "Residuals:\n",
      "    Min      1Q  Median      3Q     Max \n",
      "-3.9844 -1.1132 -0.1025  1.0153  4.1588 \n",
      "\n",
      "Coefficients:\n",
      "                Estimate Std. Error t value Pr(>|t|)    \n",
      "(Intercept)      -0.8195     0.1591  -5.152 9.03e-07 ***\n",
      "nomiss_GT$GT0/1   2.2490     0.3039   7.402 1.33e-11 ***\n",
      "nomiss_GT$GT1/1   5.8127     1.1248   5.168 8.41e-07 ***\n",
      "---\n",
      "Signif. codes:  0 ‘***’ 0.001 ‘**’ 0.01 ‘*’ 0.05 ‘.’ 0.1 ‘ ’ 1\n",
      "\n",
      "Residual standard error: 1.575 on 134 degrees of freedom\n",
      "Multiple R-squared:  0.3626,\tAdjusted R-squared:  0.3531 \n",
      "F-statistic: 38.12 on 2 and 134 DF,  p-value: 7.826e-14\n",
      "\n"
     ]
    }
   ],
   "source": [
    "%%R\n",
    "\n",
    "nomiss_GT <- GT_focal %>% filter(!GT==\"./.\")\n",
    "\n",
    "model <- lm(nomiss_GT$PC1~nomiss_GT$GT)\n",
    "\n",
    "summary(model)"
   ]
  },
  {
   "cell_type": "markdown",
   "metadata": {},
   "source": [
    "### Effect size by beta and freq"
   ]
  },
  {
   "cell_type": "code",
   "execution_count": 39,
   "metadata": {
    "ExecuteTime": {
     "end_time": "2020-07-30T16:07:56.527125Z",
     "start_time": "2020-07-30T16:07:56.477975Z"
    }
   },
   "outputs": [
    {
     "name": "stdout",
     "output_type": "stream",
     "text": [
      "4\t9845301\t-2.3228\t4.8812e-10\n"
     ]
    }
   ],
   "source": [
    "%%script env emmax_dir=\"$emmax_dir\" bash\n",
    "\n",
    "# get beta\n",
    "\n",
    "maf=\"0.05\"; geno=\"0.5\"; hwe=\"0.001\"\n",
    "\n",
    "awk '$1==4 && $2==9845301 {print}' \\\n",
    "    $emmax_dir/out_emmax_POALB.biallelic.miss50perc.maf${maf}geno${geno}hwe${hwe}.BN.PC1.ps"
   ]
  },
  {
   "cell_type": "code",
   "execution_count": 109,
   "metadata": {
    "ExecuteTime": {
     "end_time": "2020-07-30T17:09:21.195549Z",
     "start_time": "2020-07-30T17:09:21.179487Z"
    }
   },
   "outputs": [
    {
     "name": "stdout",
     "output_type": "stream",
     "text": [
      "[1] 5.3954\n"
     ]
    }
   ],
   "source": [
    "%%R\n",
    "\n",
    "beta_sq = abs(-2.3228^2)\n",
    "\n",
    "print(beta_sq)"
   ]
  },
  {
   "cell_type": "code",
   "execution_count": 104,
   "metadata": {
    "ExecuteTime": {
     "end_time": "2020-07-30T16:54:38.927077Z",
     "start_time": "2020-07-30T16:54:38.881622Z"
    }
   },
   "outputs": [
    {
     "name": "stderr",
     "output_type": "stream",
     "text": [
      "R[write to console]: Error in .[1, 1] : incorrect number of dimensions\n",
      "Calls: <Anonymous> ... eval -> _fseq -> freduce -> withVisible -> <Anonymous>\n",
      "\n",
      "R[write to console]: In addition: \n",
      "R[write to console]: Warning message:\n",
      "\n",
      "R[write to console]: In var(., PC1) :\n",
      "R[write to console]:  NAs introduced by coercion\n",
      "\n"
     ]
    },
    {
     "name": "stdout",
     "output_type": "stream",
     "text": [
      "\n",
      "Error in .[1, 1] : incorrect number of dimensions\n",
      "Calls: <Anonymous> ... eval -> _fseq -> freduce -> withVisible -> <Anonymous>\n"
     ]
    }
   ],
   "source": [
    "%%R\n",
    "\n",
    "# get ref and alt allele freqs\n",
    "\n",
    "hom_ref <- nomiss_GT %>% group_by(GT) %>% summarise(n=n()) %>% mutate(freq=n/sum(n)) %>% filter(GT==\"0/0\") %>% \n",
    "    select(freq)\n",
    "het <- nomiss_GT %>% group_by(GT) %>% summarise(n=n()) %>% mutate(freq=n/sum(n)) %>% filter(GT==\"0/1\") %>% \n",
    "    select(freq)\n",
    "hom_alt <- nomiss_GT %>% group_by(GT) %>% summarise(n=n()) %>% mutate(freq=n/sum(n)) %>% filter(GT==\"1/1\") %>% \n",
    "    select(freq)\n",
    "\n",
    "freq_ref = hom_ref + het/2\n",
    "freq_alt = hom_alt + het/2\n",
    "\n",
    "print(freq_ref)\n",
    "print(freq_alt)"
   ]
  },
  {
   "cell_type": "code",
   "execution_count": 111,
   "metadata": {
    "ExecuteTime": {
     "end_time": "2020-07-30T17:26:23.557705Z",
     "start_time": "2020-07-30T17:26:23.531178Z"
    }
   },
   "outputs": [
    {
     "name": "stdout",
     "output_type": "stream",
     "text": [
      "         PC1\n",
      "PC1 3.833577\n"
     ]
    }
   ],
   "source": [
    "%%R\n",
    "\n",
    "# trait variance\n",
    "\n",
    "Vtrait = nomiss_GT %>% select(PC1) %>% var()\n",
    "\n",
    "Vtrait"
   ]
  },
  {
   "cell_type": "markdown",
   "metadata": {},
   "source": [
    "PVE = \n",
    "VSNP/VTRAIT\n",
    "\n",
    "Where VSNP equals:\n",
    "\n",
    "2 * (REF_ALLELE_COUNT/TOTAL_ALLELE_COUNT) *\n",
    "(ALT_ALLELE_COUNT/TOTAL_ALLELE_COUNT) * \n",
    "(BETA^2)"
   ]
  },
  {
   "cell_type": "code",
   "execution_count": 115,
   "metadata": {
    "ExecuteTime": {
     "end_time": "2020-07-30T17:28:05.115339Z",
     "start_time": "2020-07-30T17:28:05.093742Z"
    }
   },
   "outputs": [
    {
     "name": "stdout",
     "output_type": "stream",
     "text": [
      "[1] \"PVE for PC1 is: 35.817 %\"\n"
     ]
    }
   ],
   "source": [
    "%%R\n",
    "\n",
    "Vsnp = 2 * freq_ref * freq_alt * beta_sq\n",
    "\n",
    "PVE = Vsnp/Vtrait\n",
    "\n",
    "print(paste0(\"PVE for PC1 is: \",round(PVE*100,3),\" %\"))"
   ]
  },
  {
   "cell_type": "markdown",
   "metadata": {},
   "source": [
    "## LD"
   ]
  },
  {
   "cell_type": "markdown",
   "metadata": {},
   "source": [
    "### Calculate pairwise LD (R2) between all SNPs in focal region"
   ]
  },
  {
   "cell_type": "code",
   "execution_count": 49,
   "metadata": {
    "ExecuteTime": {
     "end_time": "2020-11-11T18:55:34.639475Z",
     "start_time": "2020-11-11T18:55:34.138161Z"
    },
    "deletable": false,
    "editable": false,
    "run_control": {
     "frozen": true
    },
    "scrolled": true
   },
   "outputs": [
    {
     "name": "stdout",
     "output_type": "stream",
     "text": [
      "PLINK v1.90b6.15 64-bit (21 Jan 2020)          www.cog-genomics.org/plink/1.9/\n",
      "(C) 2005-2020 Shaun Purcell, Christopher Chang   GNU General Public License v3\n",
      "Logging to /n/holylfs03/LABS/hoekstra_lab/Users/akautt/projects/Peromyscus_polionotus/results/LD/POALB.biallelic.miss50perc.maf0.05geno0.5hwe0.001.log.\n",
      "Options in effect:\n",
      "  --bfile /n/holylfs03/LABS/hoekstra_lab/Users/akautt/projects/Peromyscus_polionotus/results/association/POALB.biallelic.miss50perc.maf0.05geno0.5hwe0.001\n",
      "  --chr chr4\n",
      "  --from-bp 9820301\n",
      "  --ld-window 1000\n",
      "  --ld-window-r2 0\n",
      "  --out /n/holylfs03/LABS/hoekstra_lab/Users/akautt/projects/Peromyscus_polionotus/results/LD/POALB.biallelic.miss50perc.maf0.05geno0.5hwe0.001\n",
      "  --r2\n",
      "  --to-bp 9870301\n",
      "\n",
      "128676 MB RAM detected; reserving 64338 MB for main workspace.\n",
      "82 out of 6547 variants loaded from .bim file.\n",
      "152 people (0 males, 0 females, 152 ambiguous) loaded from .fam.\n",
      "Ambiguous sex IDs written to\n",
      "/n/holylfs03/LABS/hoekstra_lab/Users/akautt/projects/Peromyscus_polionotus/results/LD/POALB.biallelic.miss50perc.maf0.05geno0.5hwe0.001.nosex\n",
      ".\n",
      "152 phenotype values loaded from .fam.\n",
      "Using up to 31 threads (change this with --threads).\n",
      "Before main variant filters, 152 founders and 0 nonfounders present.\n",
      "Calculating allele frequencies... 0%\b\b1%\b\b2%\b\b3%\b\b4%\b\b5%\b\b6%\b\b7%\b\b8%\b\b9%\b\b10%\b\b\b11%\b\b\b12%\b\b\b13%\b\b\b14%\b\b\b15%\b\b\b16%\b\b\b17%\b\b\b18%\b\b\b19%\b\b\b20%\b\b\b21%\b\b\b22%\b\b\b23%\b\b\b24%\b\b\b25%\b\b\b26%\b\b\b27%\b\b\b28%\b\b\b29%\b\b\b30%\b\b\b31%\b\b\b32%\b\b\b33%\b\b\b34%\b\b\b35%\b\b\b36%\b\b\b37%\b\b\b38%\b\b\b39%\b\b\b40%\b\b\b41%\b\b\b42%\b\b\b43%\b\b\b44%\b\b\b45%\b\b\b46%\b\b\b47%\b\b\b48%\b\b\b49%\b\b\b50%\b\b\b51%\b\b\b52%\b\b\b53%\b\b\b54%\b\b\b55%\b\b\b56%\b\b\b57%\b\b\b58%\b\b\b59%\b\b\b60%\b\b\b61%\b\b\b62%\b\b\b63%\b\b\b64%\b\b\b65%\b\b\b66%\b\b\b67%\b\b\b68%\b\b\b69%\b\b\b70%\b\b\b71%\b\b\b72%\b\b\b73%\b\b\b74%\b\b\b75%\b\b\b76%\b\b\b77%\b\b\b78%\b\b\b79%\b\b\b80%\b\b\b81%\b\b\b82%\b\b\b83%\b\b\b84%\b\b\b85%\b\b\b86%\b\b\b87%\b\b\b88%\b\b\b89%\b\b\b90%\b\b\b91%\b\b\b92%\b\b\b93%\b\b\b94%\b\b\b95%\b\b\b96%\b\b\b97%\b\b\b98%\b\b\b99%\b\b\b\b done.\n",
      "Total genotyping rate is 0.939345.\n",
      "82 variants and 152 people pass filters and QC.\n",
      "Note: No phenotypes present.\n",
      "--r2 to\n",
      "/n/holylfs03/LABS/hoekstra_lab/Users/akautt/projects/Peromyscus_polionotus/results/LD/POALB.biallelic.miss50perc.maf0.05geno0.5hwe0.001.ld\n",
      "... 0% [processing]\b\b\b\b\b\b\b\b\b\b\bwriting]   \b\b\b\b\b\b\b\b\b\b\b\b\b          \b\b\b\b\b\b\b\b\b\b\b\bdone.\n"
     ]
    },
    {
     "name": "stderr",
     "output_type": "stream",
     "text": [
      "Warning: Ignoring phenotypes of missing-sex samples.  If you don't want those\n",
      "phenotypes to be ignored, use the --allow-no-sex flag.\n"
     ]
    }
   ],
   "source": [
    "%%script env results_dir=\"$results_dir\" bash\n",
    "\n",
    "if [ ! -d ${results_dir}/LD ]; then mkdir ${results_dir}/LD; fi\n",
    "\n",
    "stem=\"POALB.biallelic.miss50perc.maf0.05geno0.5hwe0.001\"\n",
    "\n",
    "if [ ! -f ${results_dir}/LD/${stem} ]; then\n",
    "plink --bfile ${results_dir}/association/${stem} \\\n",
    "    --chr chr4 --from-bp 9820301 --to-bp 9870301 --r2 --ld-window-r2 0 --ld-window 1000 \\\n",
    "    --out ${results_dir}/LD/${stem}\n",
    "\n",
    "sed -r -i 's/^\\s+//; s/\\s$//; s/\\s+/\\t/g' ${results_dir}/LD/${stem}.ld; fi"
   ]
  },
  {
   "cell_type": "markdown",
   "metadata": {},
   "source": [
    "### Load into R and prep data"
   ]
  },
  {
   "cell_type": "code",
   "execution_count": 60,
   "metadata": {
    "ExecuteTime": {
     "end_time": "2020-11-11T19:09:19.583020Z",
     "start_time": "2020-11-11T19:09:19.527750Z"
    }
   },
   "outputs": [],
   "source": [
    "%%R -i results_dir -i emmax_dir\n",
    "\n",
    "stem = \"POALB.biallelic.miss50perc.maf0.05geno0.5hwe0.001\"\n",
    "\n",
    "LD_data = read.table(paste0(results_dir,\"/LD/\",stem,\".ld\"), sep=\"\\t\", header=T)\n",
    "\n",
    "assoc_data = read.table(paste0(emmax_dir,\"/out_emmax_\",stem,\".BN.PC1.ps\"), sep=\"\\t\", header=F,\n",
    "        col.names=c(\"CHR\",\"POS\",\"BETA\",\"P\"))"
   ]
  },
  {
   "cell_type": "code",
   "execution_count": 70,
   "metadata": {
    "ExecuteTime": {
     "end_time": "2020-11-11T19:26:27.709080Z",
     "start_time": "2020-11-11T19:26:27.682051Z"
    },
    "scrolled": true
   },
   "outputs": [],
   "source": [
    "%%R\n",
    "\n",
    "LD_focal <- LD_data %>% filter(BP_A==\"9845301\" | BP_B==\"9845301\") %>%\n",
    "                mutate(\"POS\"=case_when(BP_B==\"9845301\" ~ BP_A,\n",
    "                                      BP_A==\"9845301\" ~ BP_B)) %>%\n",
    "                select(\"CHR\"=CHR_A,POS,R2) %>%\n",
    "                add_row(CHR=4, POS=9845301, R2=1) %>%\n",
    "                arrange(POS)"
   ]
  },
  {
   "cell_type": "markdown",
   "metadata": {},
   "source": [
    "### Association and LD plot"
   ]
  },
  {
   "cell_type": "code",
   "execution_count": 175,
   "metadata": {
    "ExecuteTime": {
     "end_time": "2020-11-12T02:13:08.290902Z",
     "start_time": "2020-11-12T02:13:08.011894Z"
    },
    "collapsed": true
   },
   "outputs": [
    {
     "name": "stdout",
     "output_type": "stream",
     "text": [
      "   CHR     POS          R2\n",
      "1    4 9820816 2.31826e-03\n",
      "2    4 9821639 2.11211e-02\n",
      "3    4 9822123 6.23060e-03\n",
      "4    4 9822798 2.48218e-02\n",
      "5    4 9837296 1.66258e-01\n",
      "6    4 9837344 6.72978e-03\n",
      "7    4 9837401 3.34462e-01\n",
      "8    4 9841443 8.22344e-01\n",
      "9    4 9842079 8.38321e-01\n",
      "10   4 9842105 1.97505e-01\n",
      "11   4 9843200 7.81701e-01\n",
      "12   4 9844165 3.43867e-01\n",
      "13   4 9844209 2.17156e-01\n",
      "14   4 9844849 7.55633e-01\n",
      "15   4 9844852 2.75629e-01\n",
      "16   4 9844869 7.42422e-01\n",
      "17   4 9844930 7.62019e-01\n",
      "18   4 9844954 7.51152e-01\n",
      "19   4 9844955 7.21868e-01\n",
      "20   4 9845040 6.98754e-01\n",
      "21   4 9845116 8.45087e-01\n",
      "22   4 9845136 8.17976e-01\n",
      "23   4 9845152 9.06468e-01\n",
      "24   4 9845301 1.00000e+00\n",
      "25   4 9845470 7.34652e-01\n",
      "26   4 9846196 9.07332e-03\n",
      "27   4 9846254 3.95588e-01\n",
      "28   4 9846286 6.22572e-01\n",
      "29   4 9846292 6.43050e-01\n",
      "30   4 9846293 6.70033e-01\n",
      "31   4 9846308 6.33051e-01\n",
      "32   4 9846815 7.89449e-01\n",
      "33   4 9846908 8.38321e-01\n",
      "34   4 9846919 3.34462e-01\n",
      "35   4 9846954 4.36348e-01\n",
      "36   4 9846977 5.62369e-01\n",
      "37   4 9847023 8.02834e-01\n",
      "38   4 9847042 1.54165e-02\n",
      "39   4 9847150 1.85290e-02\n",
      "40   4 9847563 5.13702e-02\n",
      "41   4 9847571 3.97404e-02\n",
      "42   4 9848239 6.45036e-02\n",
      "43   4 9848271 4.15327e-02\n",
      "44   4 9848320 4.05054e-02\n",
      "45   4 9848515 2.66417e-02\n",
      "46   4 9848530 3.34088e-02\n",
      "47   4 9848577 2.53929e-02\n",
      "48   4 9848602 3.25080e-02\n",
      "49   4 9848636 1.12479e-05\n",
      "50   4 9850364 6.43321e-03\n",
      "51   4 9850673 5.55794e-02\n",
      "52   4 9851579 1.77045e-01\n",
      "53   4 9853059 3.66415e-02\n",
      "54   4 9855077 8.77288e-04\n",
      "55   4 9855958 5.36170e-03\n",
      "56   4 9856174 4.39680e-01\n",
      "57   4 9856194 1.88676e-01\n",
      "58   4 9856432 2.97888e-01\n",
      "59   4 9856455 2.86189e-02\n",
      "60   4 9856909 1.35207e-02\n",
      "61   4 9857061 4.67212e-02\n",
      "62   4 9857125 2.19191e-01\n",
      "63   4 9857820 1.02187e-02\n",
      "64   4 9857902 3.30290e-01\n",
      "65   4 9858273 2.97021e-02\n",
      "66   4 9858377 9.06633e-02\n",
      "67   4 9858400 3.02985e-01\n",
      "68   4 9858486 1.52745e-02\n",
      "69   4 9858778 5.54653e-02\n",
      "70   4 9859233 1.19498e-01\n",
      "71   4 9864193 5.64398e-01\n",
      "72   4 9865307 6.30946e-02\n",
      "73   4 9865339 3.27120e-02\n",
      "74   4 9865775 6.88666e-02\n",
      "75   4 9865947 2.52039e-01\n",
      "76   4 9866150 4.87732e-02\n",
      "77   4 9866762 4.98629e-02\n",
      "78   4 9866795 5.25559e-02\n",
      "79   4 9866832 7.08381e-01\n",
      "80   4 9867087 2.05536e-01\n",
      "81   4 9869834 5.77865e-02\n",
      "82   4 9869923 2.84061e-01\n"
     ]
    }
   ],
   "source": [
    "%%R\n",
    "\n",
    "LD_focal"
   ]
  },
  {
   "cell_type": "code",
   "execution_count": 176,
   "metadata": {
    "ExecuteTime": {
     "end_time": "2020-11-16T16:15:36.722349Z",
     "start_time": "2020-11-16T16:15:36.202560Z"
    }
   },
   "outputs": [],
   "source": [
    "%%R -i results_dir -w 600 -h 500\n",
    "\n",
    "left_join(LD_focal, assoc_data, by=c(\"CHR\",\"POS\")) %>%\n",
    "    ggplot() + \n",
    "        geom_point(aes(x=POS, y=-log10(P), fill=R2), pch=21, color=\"black\", size=2) +\n",
    "        scale_fill_gradientn(colours=c(\"white\",\"#FBF6B2\",\"#FECB54\",\"#F68930\",\"#ED3124\",\"#BA1F24\"),\n",
    "            values=c(0,0.2,0.4,0.6,0.8,1.0), limits=c(0,1), \n",
    "            guide=guide_colorbar(frame.colour=\"black\")) +\n",
    "        ylim(-2,10) + ylab(\"-log10(p-value)\") + xlab(\"Position\") +\n",
    "        theme_classic() +\n",
    "        theme(axis.text=element_text(size=12), axis.title=element_text(size=14)) +\n",
    "        geom_hline(yintercept=4.91, size=0.5, color=\"gray50\", linetype=\"dashed\") +\n",
    "        geom_segment(x=9820301, xend=9856015, y=-2, yend=-2, size=0.5, color=\"gray50\") +\n",
    "        geom_segment(x=9831100, xend=9831184, y=-2, yend=-2, size=7, color=\"gray50\") +\n",
    "        geom_segment(x=9831224, xend=9831321, y=-2, yend=-2, size=7, color=\"gray50\") +\n",
    "        geom_segment(x=9837604, xend=9837757, y=-2, yend=-2, size=7, color=\"gray50\") +\n",
    "        geom_segment(x=9850098, xend=9850152, y=-2, yend=-2, size=7, color=\"gray50\") +\n",
    "        geom_segment(x=9850932, xend=9851101, y=-2, yend=-2, size=7, color=\"gray50\") +\n",
    "        geom_segment(x=9852831, xend=9852919, y=-2, yend=-2, size=7, color=\"gray50\") +\n",
    "        geom_segment(x=9855628, xend=9856015, y=-2, yend=-2, size=7, color=\"gray50\")\n",
    "\n",
    "out_file = paste0(results_dir,\"/LD/Agouti.assoc_LD.pdf\")\n",
    "ggsave(out_file, width=6, height=3)"
   ]
  },
  {
   "cell_type": "markdown",
   "metadata": {},
   "source": [
    "### LD triangle"
   ]
  },
  {
   "cell_type": "code",
   "execution_count": 174,
   "metadata": {
    "ExecuteTime": {
     "end_time": "2020-11-11T23:13:26.324850Z",
     "start_time": "2020-11-11T23:13:26.036863Z"
    }
   },
   "outputs": [],
   "source": [
    "%%R -w 600 -h 500 \n",
    "\n",
    "LD_data %>% as.data.frame() %>% select(-c(SNP_A,SNP_B,CHR_A,CHR_B)) %>% \n",
    "    mutate(BP_A=as.factor(BP_A),BP_B=as.factor(BP_B)) %>%\n",
    "    ggplot(aes(x=BP_A, y=reorder(BP_B, desc(BP_B)), color=R2)) +\n",
    "        geom_point(size=2.6, shape=15) +\n",
    "        theme_classic() + theme(legend.position=\"None\") +\n",
    "        theme(axis.text.x = element_text(angle=45,vjust=1,hjust=1,size=10)) + #, legend.position=\"left\") +\n",
    "        theme(axis.text.y = element_text(size=10)) +\n",
    "        scale_colour_gradientn(colours=c(\"white\",\"#FBF6B2\",\"#FECB54\",\"#F68930\",\"#ED3124\",\"#BA1F24\"),\n",
    "            values=c(0,0.2,0.4,0.6,0.8,1.0), limits=c(0,1)) \n",
    "\n",
    "out_file = paste0(results_dir,\"/LD/Agouti.LD_triangle.pdf\")\n",
    "ggsave(out_file, width=6, height=6)"
   ]
  }
 ],
 "metadata": {
  "kernelspec": {
   "display_name": "Python 3",
   "language": "python",
   "name": "python3"
  },
  "language_info": {
   "codemirror_mode": {
    "name": "ipython",
    "version": 3
   },
   "file_extension": ".py",
   "mimetype": "text/x-python",
   "name": "python",
   "nbconvert_exporter": "python",
   "pygments_lexer": "ipython3",
   "version": "3.7.12"
  },
  "toc": {
   "base_numbering": 1,
   "nav_menu": {},
   "number_sections": true,
   "sideBar": true,
   "skip_h1_title": false,
   "title_cell": "Table of Contents",
   "title_sidebar": "Contents",
   "toc_cell": false,
   "toc_position": {
    "height": "733px",
    "left": "30px",
    "top": "110px",
    "width": "336px"
   },
   "toc_section_display": true,
   "toc_window_display": true
  }
 },
 "nbformat": 4,
 "nbformat_minor": 2
}
