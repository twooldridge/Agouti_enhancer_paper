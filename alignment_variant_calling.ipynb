{
 "cells": [
  {
   "cell_type": "markdown",
   "metadata": {},
   "source": [
    "# Info"
   ]
  },
  {
   "cell_type": "markdown",
   "metadata": {},
   "source": [
    "This notebook is used for the QC, alignment, and variant calling of both\n",
    "1) Whole-genome-sequencing data<br>\n",
    "2) Sequence-capture data<br><br>\n",
    "against the *P. polionotus* reference genome"
   ]
  },
  {
   "cell_type": "markdown",
   "metadata": {},
   "source": [
    "# Libraries & setup"
   ]
  },
  {
   "cell_type": "code",
   "execution_count": 34,
   "metadata": {
    "ExecuteTime": {
     "end_time": "2022-05-13T13:53:20.539788Z",
     "start_time": "2022-05-13T13:53:20.312878Z"
    },
    "code_folding": [
     27,
     44
    ]
   },
   "outputs": [],
   "source": [
    "## Set up some basics\n",
    "import sys,os,re,glob,shutil,pickle,subprocess\n",
    "import pandas as pd\n",
    "import numpy as np\n",
    "import time\n",
    "%run '~/jupyter/py3_functions.py'\n",
    "\n",
    "os.chdir('/n/hoekstra_lab_tier1/Users/brock/polionotus/')\n",
    "picard_pref = 'module load centos6/0.0.1-fasrc01; module load java\\n\\njava -XX:ParallelGCThreads=1 -Djava.io.tmpdir=`pwd`/tmp -Dsamjdk.buffer_size=131072 -Dsamjdk.compression_level=1 -XX:GCTimeLimit=50 -XX:GCHeapFreeLimit=10'\n",
    "\n",
    "\n",
    "## Chromosomes\n",
    "Ppol_genome = '/n/hoekstra_lab_tier1/Lab/assemblies/Ppol_1.3.3_chr_JML/Ppol_1.3.3.chromosomes-unplaced_scaffolds.fasta'\n",
    "Ppol_sizes = {}\n",
    "with open('Ppol_sizes.txt','r') as data:\n",
    "    for line in data:\n",
    "        line = line.strip()\n",
    "        chrom,size = line.split('\\t')\n",
    "        Ppol_sizes[chrom] = size\n",
    "data.close()\n",
    "\n",
    "## Populations\n",
    "pops = ['PO','LO']\n",
    "seqcapture_pops = ['ABM','CBM','PKBM','POALB','POPOL','POSUB','SABM','SEBM','SRIBM']\n",
    "\n",
    "## Maps to populations\n",
    "sample_pop_map = {}\n",
    "with open('poplists/wgs_seq_pops_alternate.txt','r') as data:\n",
    "    for line in data:\n",
    "        line = line.strip('\\n')\n",
    "        sample, pop = line.split('\\t')\n",
    "        sample_pop_map[sample] = pop\n",
    "data.close()\n",
    "        \n",
    "## Maps to ubams\n",
    "seqcapture_map = {}\n",
    "with open('poplists/seqcapture_ubam_map.txt','r') as data:\n",
    "    for line in data:\n",
    "        line = line.strip('\\n')\n",
    "        sample, ubam, SM = line.split('\\t')\n",
    "        seqcapture_map[sample] = [ubam,SM]\n",
    "data.close()\n",
    "\n",
    "wgs_map = {}\n",
    "with open('poplists/wgs_ubam_map.txt','r') as data:\n",
    "    for line in data:\n",
    "        line = line.strip('\\n')\n",
    "        sample, ubam, SM = line.split('\\t')\n",
    "        wgs_map[sample] = [ubam,SM]\n",
    "data.close()"
   ]
  },
  {
   "cell_type": "code",
   "execution_count": 39,
   "metadata": {
    "ExecuteTime": {
     "end_time": "2022-05-13T13:57:25.704940Z",
     "start_time": "2022-05-13T13:55:58.584985Z"
    }
   },
   "outputs": [
    {
     "name": "stdout",
     "output_type": "stream",
     "text": [
      "Submitted batch job 9741820\n",
      "Submitted batch job 9741821\n",
      "Submitted batch job 9741822\n",
      "Submitted batch job 9741823\n",
      "Submitted batch job 9741824\n",
      "Submitted batch job 9741825\n",
      "Submitted batch job 9741826\n",
      "Submitted batch job 9741827\n",
      "Submitted batch job 9741828\n",
      "Submitted batch job 9741829\n",
      "Submitted batch job 9741830\n",
      "Submitted batch job 9741831\n",
      "Submitted batch job 9741832\n",
      "Submitted batch job 9741833\n",
      "Submitted batch job 9741834\n",
      "Submitted batch job 9741835\n",
      "Submitted batch job 9741836\n",
      "Submitted batch job 9741837\n",
      "Submitted batch job 9741838\n",
      "Submitted batch job 9741839\n",
      "Submitted batch job 9741840\n",
      "Submitted batch job 9741841\n",
      "Submitted batch job 9741842\n",
      "Submitted batch job 9741843\n",
      "Submitted batch job 9741844\n",
      "Submitted batch job 9741845\n",
      "Submitted batch job 9741846\n",
      "Submitted batch job 9741847\n",
      "Submitted batch job 9741848\n",
      "Submitted batch job 9741849\n",
      "Submitted batch job 9741850\n",
      "Submitted batch job 9741851\n",
      "Submitted batch job 9741852\n",
      "Submitted batch job 9741853\n",
      "Submitted batch job 9741854\n",
      "Submitted batch job 9741855\n",
      "Submitted batch job 9741856\n",
      "Submitted batch job 9741857\n",
      "Submitted batch job 9741858\n",
      "Submitted batch job 9741859\n",
      "Submitted batch job 9741860\n",
      "Submitted batch job 9741861\n",
      "Submitted batch job 9741862\n",
      "Submitted batch job 9741863\n",
      "Submitted batch job 9741864\n",
      "Submitted batch job 9741865\n",
      "Submitted batch job 9741866\n",
      "Submitted batch job 9741867\n",
      "Submitted batch job 9741868\n",
      "Submitted batch job 9741869\n",
      "Submitted batch job 9741870\n",
      "Submitted batch job 9741871\n",
      "Submitted batch job 9741872\n",
      "Submitted batch job 9741873\n",
      "Submitted batch job 9741874\n",
      "Submitted batch job 9741875\n",
      "Submitted batch job 9741876\n",
      "Submitted batch job 9741877\n",
      "Submitted batch job 9741878\n",
      "Submitted batch job 9741879\n",
      "Submitted batch job 9741880\n",
      "Submitted batch job 9741881\n",
      "Submitted batch job 9741882\n",
      "Submitted batch job 9741883\n",
      "Submitted batch job 9741884\n",
      "Submitted batch job 9741885\n",
      "Submitted batch job 9741886\n",
      "Submitted batch job 9741887\n",
      "Submitted batch job 9741888\n",
      "Submitted batch job 9741889\n",
      "Submitted batch job 9741890\n",
      "Submitted batch job 9741891\n",
      "Submitted batch job 9741892\n",
      "Submitted batch job 9741893\n",
      "Submitted batch job 9741894\n",
      "Submitted batch job 9741895\n",
      "Submitted batch job 9741896\n",
      "Submitted batch job 9741897\n",
      "Submitted batch job 9741898\n",
      "Submitted batch job 9741899\n",
      "Submitted batch job 9741900\n",
      "Submitted batch job 9741901\n",
      "Submitted batch job 9741903\n",
      "Submitted batch job 9741904\n",
      "Submitted batch job 9741905\n",
      "Submitted batch job 9741906\n",
      "Submitted batch job 9741907\n",
      "Submitted batch job 9741908\n",
      "Submitted batch job 9741909\n",
      "Submitted batch job 9741910\n",
      "Submitted batch job 9741911\n",
      "Submitted batch job 9741912\n",
      "Submitted batch job 9741913\n",
      "Submitted batch job 9741914\n",
      "Submitted batch job 9741915\n",
      "Submitted batch job 9741916\n",
      "Submitted batch job 9741917\n",
      "Submitted batch job 9741918\n",
      "Submitted batch job 9741919\n",
      "Submitted batch job 9741920\n",
      "Submitted batch job 9741921\n",
      "Submitted batch job 9741922\n",
      "Submitted batch job 9741923\n",
      "Submitted batch job 9741924\n",
      "Submitted batch job 9741925\n",
      "Submitted batch job 9741926\n",
      "Submitted batch job 9741927\n",
      "Submitted batch job 9741928\n",
      "Submitted batch job 9741929\n",
      "Submitted batch job 9741930\n",
      "Submitted batch job 9741931\n",
      "Submitted batch job 9741932\n",
      "Submitted batch job 9741933\n",
      "Submitted batch job 9741934\n",
      "Submitted batch job 9741935\n",
      "Submitted batch job 9741936\n",
      "Submitted batch job 9741937\n",
      "Submitted batch job 9741938\n",
      "Submitted batch job 9741939\n",
      "Submitted batch job 9741940\n",
      "Submitted batch job 9741941\n",
      "Submitted batch job 9741942\n",
      "Submitted batch job 9741943\n",
      "Submitted batch job 9741944\n",
      "Submitted batch job 9741945\n",
      "Submitted batch job 9741946\n",
      "Submitted batch job 9741947\n",
      "Submitted batch job 9741948\n",
      "Submitted batch job 9741949\n",
      "Submitted batch job 9741950\n",
      "Submitted batch job 9741951\n",
      "Submitted batch job 9741952\n",
      "Submitted batch job 9741953\n",
      "Submitted batch job 9741954\n",
      "Submitted batch job 9741955\n",
      "Submitted batch job 9741956\n",
      "Submitted batch job 9741957\n",
      "Submitted batch job 9741958\n",
      "Submitted batch job 9741959\n",
      "Submitted batch job 9741960\n",
      "Submitted batch job 9741961\n",
      "Submitted batch job 9741962\n",
      "Submitted batch job 9741963\n",
      "Submitted batch job 9741964\n",
      "Submitted batch job 9741965\n",
      "Submitted batch job 9741966\n",
      "Submitted batch job 9741967\n",
      "Submitted batch job 9741968\n",
      "Submitted batch job 9741969\n",
      "Submitted batch job 9741970\n",
      "Submitted batch job 9741971\n",
      "Submitted batch job 9741972\n",
      "Submitted batch job 9741973\n",
      "Submitted batch job 9741974\n",
      "Submitted batch job 9741975\n",
      "Submitted batch job 9741976\n",
      "Submitted batch job 9741977\n",
      "Submitted batch job 9741978\n",
      "Submitted batch job 9741979\n",
      "Submitted batch job 9741980\n",
      "Submitted batch job 9741981\n",
      "Submitted batch job 9741982\n",
      "Submitted batch job 9741983\n",
      "Submitted batch job 9741984\n",
      "Submitted batch job 9741985\n",
      "Submitted batch job 9741986\n",
      "Submitted batch job 9741987\n",
      "Submitted batch job 9741988\n",
      "Submitted batch job 9741989\n",
      "Submitted batch job 9741990\n",
      "Submitted batch job 9741991\n",
      "Submitted batch job 9741992\n",
      "Submitted batch job 9741993\n",
      "Submitted batch job 9741994\n",
      "Submitted batch job 9741995\n",
      "Submitted batch job 9741996\n",
      "Submitted batch job 9741997\n",
      "Submitted batch job 9741998\n",
      "Submitted batch job 9741999\n",
      "Submitted batch job 9742000\n",
      "Submitted batch job 9742001\n",
      "Submitted batch job 9742002\n",
      "Submitted batch job 9742003\n",
      "Submitted batch job 9742004\n",
      "Submitted batch job 9742005\n",
      "Submitted batch job 9742006\n",
      "Submitted batch job 9742007\n",
      "Submitted batch job 9742008\n",
      "Submitted batch job 9742009\n",
      "Submitted batch job 9742010\n",
      "Submitted batch job 9742011\n",
      "Submitted batch job 9742012\n",
      "Submitted batch job 9742013\n",
      "Submitted batch job 9742014\n",
      "Submitted batch job 9742015\n",
      "Submitted batch job 9742016\n",
      "Submitted batch job 9742017\n",
      "Submitted batch job 9742018\n",
      "Submitted batch job 9742019\n",
      "Submitted batch job 9742021\n",
      "Submitted batch job 9742022\n",
      "Submitted batch job 9742023\n",
      "Submitted batch job 9742024\n",
      "Submitted batch job 9742025\n",
      "Submitted batch job 9742026\n",
      "Submitted batch job 9742027\n",
      "Submitted batch job 9742028\n",
      "Submitted batch job 9742029\n",
      "Submitted batch job 9742030\n",
      "Submitted batch job 9742031\n",
      "Submitted batch job 9742032\n",
      "Submitted batch job 9742033\n",
      "Submitted batch job 9742044\n",
      "Submitted batch job 9742045\n",
      "Submitted batch job 9742054\n",
      "Submitted batch job 9742055\n",
      "Submitted batch job 9742056\n",
      "Submitted batch job 9742057\n",
      "Submitted batch job 9742058\n",
      "Submitted batch job 9742059\n",
      "Submitted batch job 9742061\n",
      "Submitted batch job 9742062\n",
      "Submitted batch job 9742063\n",
      "Submitted batch job 9742064\n",
      "Submitted batch job 9742065\n",
      "Submitted batch job 9742066\n",
      "Submitted batch job 9742067\n",
      "Submitted batch job 9742068\n",
      "Submitted batch job 9742069\n",
      "Submitted batch job 9742070\n",
      "Submitted batch job 9742071\n",
      "Submitted batch job 9742073\n",
      "Submitted batch job 9742074\n",
      "Submitted batch job 9742077\n",
      "Submitted batch job 9742080\n",
      "Submitted batch job 9742081\n",
      "Submitted batch job 9742082\n",
      "Submitted batch job 9742083\n",
      "Submitted batch job 9742084\n",
      "Submitted batch job 9742085\n",
      "Submitted batch job 9742086\n",
      "Submitted batch job 9742087\n",
      "Submitted batch job 9742088\n",
      "Submitted batch job 9742089\n",
      "Submitted batch job 9742090\n",
      "Submitted batch job 9742091\n",
      "Submitted batch job 9742092\n",
      "Submitted batch job 9742093\n",
      "Submitted batch job 9742094\n",
      "Submitted batch job 9742095\n",
      "Submitted batch job 9742096\n",
      "Submitted batch job 9742097\n",
      "Submitted batch job 9742098\n",
      "Submitted batch job 9742099\n",
      "Submitted batch job 9742100\n",
      "Submitted batch job 9742101\n",
      "Submitted batch job 9742102\n",
      "Submitted batch job 9742103\n",
      "Submitted batch job 9742104\n",
      "Submitted batch job 9742105\n",
      "Submitted batch job 9742106\n",
      "Submitted batch job 9742107\n",
      "Submitted batch job 9742108\n",
      "Submitted batch job 9742109\n",
      "Submitted batch job 9742110\n",
      "Submitted batch job 9742111\n",
      "Submitted batch job 9742112\n",
      "Submitted batch job 9742113\n",
      "Submitted batch job 9742114\n",
      "Submitted batch job 9742115\n",
      "Submitted batch job 9742116\n",
      "Submitted batch job 9742117\n",
      "Submitted batch job 9742119\n",
      "Submitted batch job 9742120\n",
      "Submitted batch job 9742121\n",
      "Submitted batch job 9742122\n",
      "Submitted batch job 9742123\n",
      "Submitted batch job 9742124\n",
      "Submitted batch job 9742125\n",
      "Submitted batch job 9742126\n",
      "Submitted batch job 9742127\n",
      "Submitted batch job 9742128\n",
      "Submitted batch job 9742129\n",
      "Submitted batch job 9742130\n",
      "Submitted batch job 9742131\n",
      "Submitted batch job 9742132\n",
      "Submitted batch job 9742133\n",
      "Submitted batch job 9742134\n",
      "Submitted batch job 9742135\n",
      "Submitted batch job 9742136\n",
      "Submitted batch job 9742137\n",
      "Submitted batch job 9742138\n",
      "Submitted batch job 9742139\n"
     ]
    },
    {
     "name": "stdout",
     "output_type": "stream",
     "text": [
      "Submitted batch job 9742140\n",
      "Submitted batch job 9742141\n",
      "Submitted batch job 9742142\n",
      "Submitted batch job 9742143\n"
     ]
    }
   ],
   "source": [
    "!mkdir -p SRA_upload\n",
    "with open('poplists/all_ubams.txt','r') as infile:\n",
    "    for line in infile:\n",
    "        line = line.strip('\\n')\n",
    "        sample, ubam, dummy = line.split('\\t')\n",
    "        cmd = ('''{picard_pref} -Xmx10g -jar /n/home11/twooldridge/Software/picard/picard.jar SamToFastq '''\n",
    "               '''I={ubam} FASTQ=SRA_upload/{sample}_interleaved.fq.gz ''' \n",
    "               '''INTERLEAVE=TRUE ''').format(sample = sample, ubam = ubam, picard_pref = picard_pref)\n",
    "        slurm = make_slurm(run = True, id = '%s.2fq' % sample, cmd_string = cmd,  mem = '12000', time = '24:00:00')\n",
    "infile.close()"
   ]
  },
  {
   "cell_type": "markdown",
   "metadata": {},
   "source": [
    "# Alignment"
   ]
  },
  {
   "cell_type": "markdown",
   "metadata": {},
   "source": [
    "## For WGS data\n",
    "Provide more memory, longer time"
   ]
  },
  {
   "cell_type": "code",
   "execution_count": 14,
   "metadata": {
    "ExecuteTime": {
     "end_time": "2022-05-04T14:43:47.949657Z",
     "start_time": "2022-05-04T14:43:47.742837Z"
    },
    "code_folding": []
   },
   "outputs": [],
   "source": [
    "!mkdir -p bams\n",
    "os.chdir('/n/hoekstra_lab_tier1/Users/brock/polionotus/bams/')\n",
    "for sample, [ubam,SM] in wgs_map.items():\n",
    "    cmd = ('''bash /n/home11/twooldridge/scripts/bwa_aln_best_practices.sh -n 4 -m 20000 -b {ubam} -r {Ppol_genome} -i {sample_id} ''').format(ubam=ubam,Ppol_genome=Ppol_genome,sample_id=sample)\n",
    "    # Submit\n",
    "    #!$cmd"
   ]
  },
  {
   "cell_type": "markdown",
   "metadata": {},
   "source": [
    "## For seqcapture data"
   ]
  },
  {
   "cell_type": "markdown",
   "metadata": {
    "ExecuteTime": {
     "end_time": "2022-05-04T14:00:55.382683Z",
     "start_time": "2022-05-04T14:00:55.375229Z"
    }
   },
   "source": [
    "This little bash script aligns the sequence capture fastq files to the P. polionotus reference genome"
   ]
  },
  {
   "cell_type": "code",
   "execution_count": 15,
   "metadata": {
    "ExecuteTime": {
     "end_time": "2022-05-04T14:44:01.374087Z",
     "start_time": "2022-05-04T14:44:01.363303Z"
    }
   },
   "outputs": [],
   "source": [
    "os.chdir('/n/hoekstra_lab_tier1/Users/brock/polionotus/bams/')\n",
    "for sample, [ubam,SM] in seqcapture_map.items():\n",
    "    cmd = ('''bash /n/home11/twooldridge/scripts/bwa_aln_best_practices.sh -n 4 -m 10000 -b {ubam} -r {Ppol_genome} -i {sample_id} ''').format(ubam=ubam,Ppol_genome=Ppol_genome,sample_id=sample)\n",
    "    # Submit\n",
    "    #!$cmd"
   ]
  },
  {
   "cell_type": "markdown",
   "metadata": {},
   "source": [
    "Correct sample tags (SM) to have one sample name per bam"
   ]
  },
  {
   "cell_type": "code",
   "execution_count": 4,
   "metadata": {
    "collapsed": true
   },
   "outputs": [],
   "source": [
    "os.chdir('/n/hoekstra_lab_tier1/Users/brock/polionotus/bams/')\n",
    "for sample, [ubam, SM] in seqcapture_map.items():\n",
    "    bam = glob.glob('%s.mdup2500.bam' % (sample))\n",
    "    if len(bam) != 1:\n",
    "        print(sample)\n",
    "        continue\n",
    "    bam = bam[0]\n",
    "    newSM = sample\n",
    "    # It took FOREVER to find a sed string that would work\n",
    "    sed_string = \"sed -r 's/[^\\\\t ]*SM[^\\\\t ]*/SM:{newSM}/ig'\".format(newSM=newSM)\n",
    "    outbam = re.sub(\"mdup2500.bam\",\"mdup2500.SM.bam\",bam)\n",
    "    cmd=('''module load samtools\\n'''\n",
    "        '''samtools view -H {bam} | {sed_string} | samtools reheader - {bam} > {outbam}''').format(bam=bam,sample=sample,sed_string=sed_string,outbam=outbam)\n",
    "    #slurm=make_slurm(echo=True,id='%s.repairSM' % os.path.basename(bam),cmd_string=cmd,mem='50000',time='03:00:00')"
   ]
  },
  {
   "cell_type": "markdown",
   "metadata": {},
   "source": [
    "FASTQC post alignment, dup marking, etc"
   ]
  },
  {
   "cell_type": "code",
   "execution_count": 6,
   "metadata": {
    "collapsed": true
   },
   "outputs": [],
   "source": [
    "fastqc_executable = '~/Software/FastQC/fastqc'\n",
    "fastqc_results = 'QC/fastqc/'\n",
    "!mkdir -p $fastqc_results\n",
    "\n",
    "finalbams = glob.glob('bams/*mdup2500.SM.bam')\n",
    "\n",
    "for bam in finalbams:\n",
    "    cmd = ('''{fastqc_executable} '''\n",
    "           '''-o {fastqc_results} '''\n",
    "           '''{bam}''').format(fastqc_executable=fastqc_executable,\n",
    "                               fastqc_results=fastqc_results,\n",
    "                               bam=bam)\n",
    "    \n",
    "    # These jobs run pretty  quickly. So you can either submit very short slurm jobs (see below), or just run these \n",
    "    # in the loop (no parallelization) and go work on something else for a while\n",
    "    # slurm option:\n",
    "    slurm = make_slurm(run=True,id=(os.path.basename(bam) + '.fastqc'),cmd_string=cmd,time='24:15:00',mem='3000',cmd_path='./QC/cmds',log_path = './QC/logs')"
   ]
  },
  {
   "cell_type": "markdown",
   "metadata": {},
   "source": [
    "Combine results"
   ]
  },
  {
   "cell_type": "code",
   "execution_count": 6,
   "metadata": {
    "collapsed": true
   },
   "outputs": [],
   "source": [
    "cmd='multiqc -o QC/bam_QC_summary QC/fastqc/*dup* '\n",
    "slurm = make_slurm(run=True,id=('multiqc'),cmd_string=cmd,mem='5000',time='00:45:00',cmd_path='QC/cmds/',log_path='QC/logs/')"
   ]
  },
  {
   "cell_type": "markdown",
   "metadata": {
    "collapsed": true
   },
   "source": [
    "# Haplotype caller"
   ]
  },
  {
   "cell_type": "markdown",
   "metadata": {},
   "source": [
    "## Determine sex\n",
    "Using coverage to determine sex of each sample. The code chunk below calculates coverage for chr23 and chrX, and compares"
   ]
  },
  {
   "cell_type": "code",
   "execution_count": 22,
   "metadata": {
    "ExecuteTime": {
     "end_time": "2022-05-12T19:15:37.718530Z",
     "start_time": "2022-05-12T19:14:44.028639Z"
    }
   },
   "outputs": [
    {
     "name": "stdout",
     "output_type": "stream",
     "text": [
      "Submitted batch job 9676863\n",
      "Submitted batch job 9676865\n",
      "Submitted batch job 9676868\n",
      "Submitted batch job 9676870\n",
      "Submitted batch job 9676872\n",
      "Submitted batch job 9676873\n",
      "Submitted batch job 9676876\n",
      "Submitted batch job 9676879\n",
      "Submitted batch job 9676882\n",
      "Submitted batch job 9676884\n",
      "Submitted batch job 9676886\n",
      "Submitted batch job 9676889\n",
      "Submitted batch job 9676892\n",
      "Submitted batch job 9676894\n",
      "Submitted batch job 9676896\n",
      "Submitted batch job 9676898\n",
      "Submitted batch job 9676900\n",
      "Submitted batch job 9676903\n",
      "Submitted batch job 9676905\n",
      "Submitted batch job 9676906\n",
      "Submitted batch job 9676908\n",
      "Submitted batch job 9676911\n",
      "Submitted batch job 9676914\n",
      "Submitted batch job 9676917\n",
      "Submitted batch job 9676918\n",
      "Submitted batch job 9676920\n",
      "Submitted batch job 9676923\n",
      "Submitted batch job 9676925\n",
      "Submitted batch job 9676927\n",
      "Submitted batch job 9676928\n",
      "Submitted batch job 9676930\n",
      "Submitted batch job 9676931\n",
      "Submitted batch job 9676934\n",
      "Submitted batch job 9676938\n",
      "Submitted batch job 9676940\n",
      "Submitted batch job 9676942\n",
      "Submitted batch job 9676947\n",
      "Submitted batch job 9676950\n",
      "Submitted batch job 9676951\n",
      "Submitted batch job 9676953\n",
      "Submitted batch job 9676955\n",
      "Submitted batch job 9676958\n",
      "Submitted batch job 9676960\n",
      "Submitted batch job 9676962\n",
      "Submitted batch job 9676966\n",
      "Submitted batch job 9676969\n",
      "Submitted batch job 9676971\n",
      "Submitted batch job 9676974\n",
      "Submitted batch job 9676978\n",
      "Submitted batch job 9676980\n",
      "Submitted batch job 9676981\n",
      "Submitted batch job 9676983\n",
      "Submitted batch job 9676987\n",
      "Submitted batch job 9676989\n",
      "Submitted batch job 9676991\n",
      "Submitted batch job 9676993\n",
      "Submitted batch job 9676995\n",
      "Submitted batch job 9676997\n",
      "Submitted batch job 9676999\n",
      "Submitted batch job 9677001\n",
      "Submitted batch job 9677003\n",
      "Submitted batch job 9677006\n",
      "Submitted batch job 9677007\n",
      "Submitted batch job 9677009\n",
      "Submitted batch job 9677011\n",
      "Submitted batch job 9677014\n",
      "Submitted batch job 9677016\n",
      "Submitted batch job 9677018\n",
      "Submitted batch job 9677020\n",
      "Submitted batch job 9677021\n",
      "Submitted batch job 9677024\n",
      "Submitted batch job 9677026\n",
      "Submitted batch job 9677029\n",
      "Submitted batch job 9677031\n",
      "Submitted batch job 9677032\n",
      "Submitted batch job 9677035\n",
      "Submitted batch job 9677037\n",
      "Submitted batch job 9677039\n",
      "Submitted batch job 9677040\n",
      "Submitted batch job 9677042\n",
      "Submitted batch job 9677044\n",
      "Submitted batch job 9677048\n",
      "Submitted batch job 9677050\n",
      "Submitted batch job 9677052\n",
      "Submitted batch job 9677056\n",
      "Submitted batch job 9677059\n",
      "Submitted batch job 9677061\n",
      "Submitted batch job 9677063\n",
      "Submitted batch job 9677064\n",
      "Submitted batch job 9677067\n",
      "Submitted batch job 9677069\n",
      "Submitted batch job 9677072\n",
      "Submitted batch job 9677074\n",
      "Submitted batch job 9677077\n",
      "Submitted batch job 9677082\n",
      "Submitted batch job 9677085\n",
      "Submitted batch job 9677087\n",
      "Submitted batch job 9677088\n",
      "Submitted batch job 9677090\n",
      "Submitted batch job 9677093\n",
      "Submitted batch job 9677095\n",
      "Submitted batch job 9677097\n",
      "Submitted batch job 9677099\n",
      "Submitted batch job 9677103\n",
      "Submitted batch job 9677105\n",
      "Submitted batch job 9677108\n",
      "Submitted batch job 9677111\n",
      "Submitted batch job 9677113\n",
      "Submitted batch job 9677114\n",
      "Submitted batch job 9677118\n",
      "Submitted batch job 9677121\n",
      "Submitted batch job 9677125\n",
      "Submitted batch job 9677127\n",
      "Submitted batch job 9677130\n",
      "Submitted batch job 9677133\n",
      "Submitted batch job 9677136\n",
      "Submitted batch job 9677138\n",
      "Submitted batch job 9677139\n",
      "Submitted batch job 9677141\n",
      "Submitted batch job 9677143\n",
      "Submitted batch job 9677146\n",
      "Submitted batch job 9677147\n",
      "Submitted batch job 9677149\n",
      "Submitted batch job 9677151\n",
      "Submitted batch job 9677153\n",
      "Submitted batch job 9677155\n",
      "Submitted batch job 9677157\n",
      "Submitted batch job 9677159\n",
      "Submitted batch job 9677160\n",
      "Submitted batch job 9677163\n",
      "Submitted batch job 9677164\n",
      "Submitted batch job 9677166\n",
      "Submitted batch job 9677168\n",
      "Submitted batch job 9677171\n",
      "Submitted batch job 9677173\n",
      "Submitted batch job 9677175\n",
      "Submitted batch job 9677177\n",
      "Submitted batch job 9677181\n",
      "Submitted batch job 9677182\n",
      "Submitted batch job 9677185\n",
      "Submitted batch job 9677187\n",
      "Submitted batch job 9677189\n",
      "Submitted batch job 9677191\n",
      "Submitted batch job 9677192\n",
      "Submitted batch job 9677195\n",
      "Submitted batch job 9677197\n",
      "Submitted batch job 9677199\n",
      "Submitted batch job 9677200\n",
      "Submitted batch job 9677203\n",
      "Submitted batch job 9677206\n",
      "Submitted batch job 9677208\n",
      "Submitted batch job 9677210\n",
      "Submitted batch job 9677212\n",
      "Submitted batch job 9677215\n",
      "Submitted batch job 9677217\n",
      "Submitted batch job 9677218\n",
      "Submitted batch job 9677220\n",
      "Submitted batch job 9677223\n",
      "Submitted batch job 9677225\n",
      "Submitted batch job 9677229\n",
      "Submitted batch job 9677232\n",
      "Submitted batch job 9677234\n",
      "Submitted batch job 9677236\n",
      "Submitted batch job 9677239\n",
      "Submitted batch job 9677241\n",
      "Submitted batch job 9677244\n",
      "Submitted batch job 9677245\n",
      "Submitted batch job 9677247\n",
      "Submitted batch job 9677249\n",
      "Submitted batch job 9677251\n",
      "Submitted batch job 9677255\n",
      "Submitted batch job 9677257\n",
      "Submitted batch job 9677260\n",
      "Submitted batch job 9677261\n",
      "Submitted batch job 9677263\n",
      "Submitted batch job 9677265\n",
      "Submitted batch job 9677268\n",
      "Submitted batch job 9677270\n",
      "Submitted batch job 9677272\n",
      "Submitted batch job 9677274\n",
      "Submitted batch job 9677276\n",
      "Submitted batch job 9677278\n",
      "Submitted batch job 9677280\n",
      "Submitted batch job 9677282\n",
      "Submitted batch job 9677285\n",
      "Submitted batch job 9677287\n",
      "Submitted batch job 9677289\n",
      "Submitted batch job 9677291\n",
      "Submitted batch job 9677293\n",
      "Submitted batch job 9677295\n",
      "Submitted batch job 9677297\n",
      "Submitted batch job 9677299\n",
      "Submitted batch job 9677301\n",
      "Submitted batch job 9677303\n",
      "Submitted batch job 9677305\n",
      "Submitted batch job 9677307\n",
      "Submitted batch job 9677311\n",
      "Submitted batch job 9677312\n",
      "Submitted batch job 9677315\n",
      "Submitted batch job 9677317\n",
      "Submitted batch job 9677319\n",
      "Submitted batch job 9677320\n",
      "Submitted batch job 9677322\n",
      "Submitted batch job 9677325\n",
      "Submitted batch job 9677327\n",
      "Submitted batch job 9677328\n",
      "Submitted batch job 9677331\n",
      "Submitted batch job 9677332\n",
      "Submitted batch job 9677335\n",
      "Submitted batch job 9677337\n",
      "Submitted batch job 9677338\n",
      "Submitted batch job 9677340\n",
      "Submitted batch job 9677344\n",
      "Submitted batch job 9677345\n",
      "Submitted batch job 9677347\n",
      "Submitted batch job 9677349\n",
      "Submitted batch job 9677352\n",
      "Submitted batch job 9677355\n",
      "Submitted batch job 9677357\n",
      "Submitted batch job 9677361\n",
      "Submitted batch job 9677363\n",
      "Submitted batch job 9677365\n",
      "Submitted batch job 9677369\n",
      "Submitted batch job 9677371\n",
      "Submitted batch job 9677373\n",
      "Submitted batch job 9677376\n",
      "Submitted batch job 9677378\n",
      "Submitted batch job 9677380\n",
      "Submitted batch job 9677383\n",
      "Submitted batch job 9677390\n",
      "Submitted batch job 9677396\n",
      "Submitted batch job 9677399\n",
      "Submitted batch job 9677404\n",
      "Submitted batch job 9677408\n",
      "Submitted batch job 9677412\n",
      "Submitted batch job 9677416\n",
      "Submitted batch job 9677418\n",
      "Submitted batch job 9677422\n",
      "Submitted batch job 9677427\n",
      "Submitted batch job 9677430\n",
      "Submitted batch job 9677433\n",
      "Submitted batch job 9677437\n",
      "Submitted batch job 9677441\n",
      "Submitted batch job 9677446\n",
      "Submitted batch job 9677450\n",
      "Submitted batch job 9677455\n",
      "Submitted batch job 9677460\n",
      "Submitted batch job 9677463\n",
      "Submitted batch job 9677466\n",
      "Submitted batch job 9677470\n",
      "Submitted batch job 9677474\n",
      "Submitted batch job 9677477\n",
      "Submitted batch job 9677480\n",
      "Submitted batch job 9677485\n",
      "Submitted batch job 9677488\n",
      "Submitted batch job 9677490\n",
      "Submitted batch job 9677492\n",
      "Submitted batch job 9677495\n",
      "Submitted batch job 9677498\n",
      "Submitted batch job 9677502\n",
      "Submitted batch job 9677505\n",
      "Submitted batch job 9677508\n",
      "Submitted batch job 9677511\n",
      "Submitted batch job 9677514\n",
      "Submitted batch job 9677517\n",
      "Submitted batch job 9677521\n",
      "Submitted batch job 9677524\n",
      "Submitted batch job 9677529\n",
      "Submitted batch job 9677530\n",
      "Submitted batch job 9677536\n",
      "Submitted batch job 9677538\n",
      "Submitted batch job 9677544\n",
      "Submitted batch job 9677548\n",
      "Submitted batch job 9677551\n",
      "Submitted batch job 9677554\n",
      "Submitted batch job 9677557\n",
      "Submitted batch job 9677560\n",
      "Submitted batch job 9677563\n",
      "Submitted batch job 9677566\n",
      "Submitted batch job 9677569\n",
      "Submitted batch job 9677574\n",
      "Submitted batch job 9677576\n",
      "Submitted batch job 9677579\n",
      "Submitted batch job 9677583\n",
      "Submitted batch job 9677586\n",
      "Submitted batch job 9677589\n",
      "Submitted batch job 9677592\n",
      "Submitted batch job 9677598\n",
      "Submitted batch job 9677601\n",
      "Submitted batch job 9677605\n",
      "Submitted batch job 9677609\n",
      "Submitted batch job 9677613\n",
      "Submitted batch job 9677616\n"
     ]
    },
    {
     "name": "stdout",
     "output_type": "stream",
     "text": [
      "Submitted batch job 9677619\n",
      "Submitted batch job 9677622\n",
      "Submitted batch job 9677625\n",
      "Submitted batch job 9677628\n"
     ]
    }
   ],
   "source": [
    "!mkdir -p misc\n",
    "combined_map = {}\n",
    "with open('sample_mapped_bam.txt','r') as infile:\n",
    "    for line in infile:\n",
    "        line = line.strip('\\n')\n",
    "        sample, bam = line.split('\\t')\n",
    "        combined_map[sample] = bam\n",
    "infile.close()\n",
    "for sample, bam in combined_map.items():\n",
    "   region1 = 'chr23'\n",
    "   region2 = 'chrX'\n",
    "   ## Awk command\n",
    "   awk_cmd = 'awk \\'{sum+=$3} END {print sum/NR}\\''\n",
    "   outfile = '%s.quickdepth.txt' % (sample)\n",
    "   full_cmd = ('''module load samtools\\n'''\n",
    "               '''d1=$(samtools depth -a -r {region1} {bam} | {awk_cmd})\\n'''\n",
    "               '''d2=$(samtools depth -a -r {region2} {bam} | {awk_cmd})\\n'''\n",
    "               '''echo -e \"{sample} chr23 $d1\\\\n{sample} chrX $d2\" > misc/{outfile}''').format(region1=region1,region2=region2,sample=sample,bam  = bam,awk_cmd=awk_cmd,outfile=outfile)\n",
    "   slurm = make_slurm(run=True,id='%s.quickdepth' % (sample),cmd_string=full_cmd,mem='2000',time='00:10:00')\n",
    "   "
   ]
  },
  {
   "cell_type": "markdown",
   "metadata": {},
   "source": [
    "Read in coverage results to determine sample sex. I went ahead and combine the per-sample output on the command line"
   ]
  },
  {
   "cell_type": "code",
   "execution_count": 23,
   "metadata": {
    "ExecuteTime": {
     "end_time": "2022-05-12T19:24:01.731535Z",
     "start_time": "2022-05-12T19:24:01.012782Z"
    }
   },
   "outputs": [],
   "source": [
    "%%bash\n",
    "cat misc/*quickdepth* > misc/alldepth.txt"
   ]
  },
  {
   "cell_type": "code",
   "execution_count": 25,
   "metadata": {
    "ExecuteTime": {
     "end_time": "2022-05-12T19:27:05.720675Z",
     "start_time": "2022-05-12T19:27:05.707957Z"
    }
   },
   "outputs": [],
   "source": [
    "sample_sexes = {}\n",
    "with open('misc/alldepth.txt','r') as data:\n",
    "    for line in data:\n",
    "        line = line.strip()\n",
    "        sample, chrom, depth = line.split(' ')\n",
    "        if sample not in sample_sexes.keys():\n",
    "            sample_sexes[sample] = [depth]\n",
    "        else:\n",
    "            sample_sexes[sample].append(depth)\n",
    "for sample in sample_sexes.keys():\n",
    "    if float(sample_sexes[sample][1])/float(sample_sexes[sample][0]) < 0.65:\n",
    "        sample_sexes[sample] = 'M'\n",
    "    else:\n",
    "        sample_sexes[sample] = 'F'  \n",
    "\n",
    "#with open('ID_sexes.txt','w') as data:\n",
    "#    for ID,sex in sample_sexes.items():\n",
    "#        ID = re.sub('-2','',ID)\n",
    "#        data.write('%s\\t%s\\n' % (ID,sex))\n",
    "#data.close()"
   ]
  },
  {
   "cell_type": "markdown",
   "metadata": {
    "ExecuteTime": {
     "end_time": "2022-05-04T16:52:51.023660Z",
     "start_time": "2022-05-04T16:52:51.020251Z"
    }
   },
   "source": [
    "## Submit jobs for WGS data"
   ]
  },
  {
   "cell_type": "code",
   "execution_count": null,
   "metadata": {},
   "outputs": [],
   "source": [
    "!mkdir -p vcfs\n",
    "os.chdir('/n/hoekstra_lab_tier1/Users/brock/polionotus/vcfs')\n",
    "for sample in wgs_map.keys():\n",
    "    sex = sample_sexes[sample]\n",
    "    !mkdir -p $sample\n",
    "    bam_files = glob.glob('/n/hoekstra_lab_tier1/Users/brock/polionotus/bams/%s.mdup2500.SM.bam' % sample)\n",
    "    if len(bam_files) != 1:\n",
    "        print(sample)\n",
    "        continue\n",
    "    bam_string = ''\n",
    "    for bam in bam_files:\n",
    "        bam_string = bam_string + '-I %s ' % bam\n",
    "    for chrom, size in Ppol_sizes.items():\n",
    "        GVCF_CMD=('''module load centos6/0.0.1-fasrc01; module load java\\n\\n'''\n",
    "                  '''java -Xmx3G -XX:ParallelGCThreads=1 -Djava.io.tmpdir=`pwd`/tmp -jar ~/Software/GATK/GenomeAnalysisTK-3.8.jar -T HaplotypeCaller '''\n",
    "                  '''-R {Ppol_genome} {bam_string}'''\n",
    "                  '''--heterozygosity 0.005 --genotyping_mode DISCOVERY -ERC GVCF -o {sample}/{chrom}.g.vcf -L {chrom}''').format(Ppol_genome=Ppol_genome,sample=sample,bam_string=bam_string,chrom=chrom)\n",
    "        if chrom == \"chrX\" and sex == 'M':\n",
    "            GVCF_CMD = GVCF_CMD + ' -ploidy 1'\n",
    "        slurm = make_slurm(echo=True,id=('%s.%s.hapcal' % (sample,chrom)),cmd_string=GVCF_CMD,mem='5000',time='150:00:00',cmd_path = 'cmds',log_path='logs')\n",
    "        \n",
    "os.chdir('../')"
   ]
  },
  {
   "cell_type": "markdown",
   "metadata": {},
   "source": [
    "## Submit jobs for seqcapture data\n",
    "Submit haplotype caller jobs per chromosome"
   ]
  },
  {
   "cell_type": "code",
   "execution_count": null,
   "metadata": {
    "ExecuteTime": {
     "end_time": "2022-05-04T16:51:12.324136Z",
     "start_time": "2022-05-04T16:51:12.118363Z"
    }
   },
   "outputs": [],
   "source": [
    "!mkdir -p vcfs\n",
    "os.chdir('/n/hoekstra_lab_tier1/Users/brock/polionotus/vcfs')\n",
    "for sample in seqcapture_map.keys():\n",
    "    sex = sample_sexes[sample]\n",
    "    !mkdir -p $sample\n",
    "    bam_files = glob.glob('/n/hoekstra_lab_tier1/Users/brock/polionotus/bams/%s.mdup2500.SM.bam' % sample)\n",
    "    if len(bam_files) != 1:\n",
    "        print(sample)\n",
    "        continue\n",
    "    bam_string = ''\n",
    "    for bam in bam_files:\n",
    "        bam_string = bam_string + '-I %s ' % bam\n",
    "    for chrom, size in Ppol_sizes.items():\n",
    "        GVCF_CMD=('''module load centos6/0.0.1-fasrc01; module load java\\n\\n'''\n",
    "                  '''java -Xmx3G -XX:ParallelGCThreads=1 -Djava.io.tmpdir=`pwd`/tmp -jar ~/Software/GATK/GenomeAnalysisTK-3.8.jar -T HaplotypeCaller '''\n",
    "                  '''-R {Ppol_genome} {bam_string}'''\n",
    "                  '''--heterozygosity 0.005 --genotyping_mode DISCOVERY -ERC GVCF -o {sample}/{chrom}.g.vcf -L {chrom}''').format(Ppol_genome=Ppol_genome,sample=sample,bam_string=bam_string,chrom=chrom)\n",
    "        if chrom == \"chrX\" and sex == 'M':\n",
    "            GVCF_CMD = GVCF_CMD + ' -ploidy 1'\n",
    "        #slurm = make_slurm(run=True,id=('%s.%s.hapcal' % (sample,chrom)),cmd_string=GVCF_CMD,mem='5000',time='02:00:00',cmd_path = 'cmds',log_path='logs')\n",
    "        \n",
    "os.chdir('../')"
   ]
  },
  {
   "cell_type": "markdown",
   "metadata": {},
   "source": [
    "Very quick check to see which things have not completed successfully"
   ]
  },
  {
   "cell_type": "code",
   "execution_count": 18,
   "metadata": {},
   "outputs": [
    {
     "name": "stdout",
     "output_type": "stream",
     "text": [
      "ABM5\n",
      "ABM5\n",
      "ABM5\n",
      "ABM5\n",
      "ABM5\n",
      "ABM5\n",
      "ABM5\n",
      "ABM5\n",
      "ABM5\n",
      "ABM5\n",
      "ABM5\n",
      "ABM5\n",
      "ABM5\n",
      "ABM5\n",
      "ABM5\n",
      "ABM5\n",
      "ABM5\n",
      "ABM5\n",
      "ABM5\n",
      "ABM5\n",
      "ABM5\n",
      "ABM5\n",
      "ABM5\n",
      "ABM5\n",
      "SABM24\n",
      "SABM24\n",
      "SABM24\n",
      "SABM24\n",
      "SABM24\n",
      "SABM24\n",
      "SABM24\n",
      "SABM24\n",
      "SABM24\n",
      "SABM24\n",
      "SABM24\n",
      "SABM24\n",
      "SABM24\n",
      "SABM24\n",
      "SABM24\n",
      "SABM24\n",
      "SABM24\n",
      "SABM24\n",
      "SABM24\n",
      "SABM24\n",
      "SABM24\n",
      "SABM24\n",
      "SABM24\n",
      "SABM24\n",
      "VSD2\n",
      "VSD2\n",
      "VSD2\n",
      "VSD2\n",
      "VSD2\n",
      "VSD2\n",
      "VSD2\n",
      "VSD2\n",
      "VSD2\n",
      "VSD2\n",
      "VSD2\n",
      "VSD2\n",
      "VSD2\n",
      "VSD2\n",
      "VSD2\n",
      "VSD2\n",
      "VSD2\n",
      "VSD2\n",
      "VSD2\n",
      "VSD2\n",
      "VSD2\n",
      "VSD2\n",
      "VSD2\n",
      "VSD2\n",
      "VSD7\n",
      "VSD7\n",
      "VSD7\n",
      "VSD7\n",
      "VSD7\n",
      "VSD7\n",
      "VSD7\n",
      "VSD7\n",
      "VSD7\n",
      "VSD7\n",
      "VSD7\n",
      "VSD7\n",
      "VSD7\n",
      "VSD7\n",
      "VSD7\n",
      "VSD7\n",
      "VSD7\n",
      "VSD7\n",
      "VSD7\n",
      "VSD7\n",
      "VSD7\n",
      "VSD7\n",
      "VSD7\n",
      "VSD7\n",
      "PKBM104\n",
      "PKBM104\n",
      "PKBM104\n",
      "PKBM104\n",
      "PKBM104\n",
      "PKBM104\n",
      "PKBM104\n",
      "PKBM104\n",
      "PKBM104\n",
      "PKBM104\n",
      "PKBM104\n",
      "PKBM104\n",
      "PKBM104\n",
      "PKBM104\n",
      "PKBM104\n",
      "PKBM104\n",
      "PKBM104\n",
      "PKBM104\n",
      "PKBM104\n",
      "PKBM104\n",
      "PKBM104\n",
      "PKBM104\n",
      "PKBM104\n",
      "PKBM104\n"
     ]
    }
   ],
   "source": [
    "os.chdir('/n/hoekstra_lab_tier1/Users/Users/brock/polionotus/vcfs')\n",
    "for sample in seqcapture_map.keys():\n",
    "    for chrom in Ppol_sizes.keys():\n",
    "        if len(glob.glob('%s/%s.g.vcf' % (sample,chrom))) == 0:\n",
    "            print('%s' % (sample))\n",
    "            continue\n",
    "        continue"
   ]
  },
  {
   "cell_type": "markdown",
   "metadata": {},
   "source": [
    "# Joint genotyping"
   ]
  },
  {
   "cell_type": "markdown",
   "metadata": {},
   "source": [
    "## For WGS data"
   ]
  },
  {
   "cell_type": "markdown",
   "metadata": {},
   "source": [
    "Set up groups"
   ]
  },
  {
   "cell_type": "code",
   "execution_count": 40,
   "metadata": {
    "ExecuteTime": {
     "end_time": "2022-05-04T19:38:42.063364Z",
     "start_time": "2022-05-04T19:38:42.057446Z"
    }
   },
   "outputs": [],
   "source": [
    "groups = {'polionotus':wgs_map.keys()}"
   ]
  },
  {
   "cell_type": "markdown",
   "metadata": {},
   "source": [
    "Run joint genotyping"
   ]
  },
  {
   "cell_type": "code",
   "execution_count": 43,
   "metadata": {
    "ExecuteTime": {
     "end_time": "2022-05-04T19:38:57.545930Z",
     "start_time": "2022-05-04T19:38:57.350614Z"
    }
   },
   "outputs": [],
   "source": [
    "os.chdir('/n/hoekstra_lab_tier1/Users/brock/polionotus/vcfs/')\n",
    "!mkdir -p cmds logs\n",
    "\n",
    "module_cmd = 'module load centos6/0.0.1-fasrc01\\nmodule load java\\n'\n",
    "base_cmd=('''java -Xmx40G -XX:ParallelGCThreads=1 -Djava.io.tmpdir=`pwd`/tmp -jar ~/Software/GATK/GenomeAnalysisTK-3.8.jar -T GenotypeGVCFs '''\n",
    "          '''-R {ref_genome} '''\n",
    "          '''-newQual -allSites ''').format(ref_genome=Ppol_genome)\n",
    "\n",
    "allsites = True\n",
    "\n",
    "# Now loop through the groups and create commands\n",
    "for grp,samples in groups.items():\n",
    "    for chrom in Ppol_sizes.keys():\n",
    "        gvcf_string = ''\n",
    "        for sample in samples:\n",
    "            gvcf_string = gvcf_string + ' --variant /n/hoekstra_lab_tier1/Users/brock/polionotus/vcfs/' + sample + '/' + chrom + '.g.vcf'\n",
    "        gatk_cmd = base_cmd + gvcf_string + ' -o %s.allSites.vcf\\n' % chrom \n",
    "        zip_cmd = 'bash /n/home11/twooldridge/scripts/zip_index_vcf.sh %s.allSites.vcf\\n' % chrom\n",
    "        full_cmd = module_cmd + gatk_cmd + zip_cmd\n",
    "        #SLURM = make_slurm(echo=True,id='%s.jointgenotype' % (chrom),cmd_string=full_cmd,mem='50000',time='250:00:00',n=2,p='hoekstra,commons')\n",
    "\n"
   ]
  },
  {
   "cell_type": "markdown",
   "metadata": {},
   "source": [
    "## For seqcapture data"
   ]
  },
  {
   "cell_type": "code",
   "execution_count": 47,
   "metadata": {
    "ExecuteTime": {
     "end_time": "2022-05-04T19:39:37.231116Z",
     "start_time": "2022-05-04T19:39:36.847330Z"
    }
   },
   "outputs": [],
   "source": [
    "!mkdir -p /n/hoekstra_lab_tier1/Users/brock/polionotus/vcfs/seqcapture\n",
    "os.chdir('/n/hoekstra_lab_tier1/Users/brock/polionotus/vcfs/seqcapture')\n",
    "!mkdir -p cmds logs\n",
    "\n",
    "module_cmd = 'module load centos6/0.0.1-fasrc01\\nmodule load java\\n'\n",
    "base_cmd=('''java -Xmx40G -XX:ParallelGCThreads=1 -Djava.io.tmpdir=`pwd`/tmp -jar ~/Software/GATK/GenomeAnalysisTK-3.8.jar -T GenotypeGVCFs '''\n",
    "          '''-R {ref_genome} '''\n",
    "          '''-newQual --disable_auto_index_creation_and_locking_when_reading_rods''').format(ref_genome=Ppol_genome)\n",
    "\n",
    "allsites = True\n",
    "\n",
    "#Now loop through the groups and create commands\n",
    "\n",
    "for chrom in Ppol_sizes.keys():\n",
    "    gvcf_string = ''\n",
    "    for sample in seqcapture_map.keys():\n",
    "        gvcf_string = gvcf_string + ' --variant /n/hoekstra_lab_tier1/Users/brock/polionotus/vcfs/%s/%s.g.vcf' % (sample,chrom)\n",
    "    gatk_cmd = base_cmd + gvcf_string + ' -o %s.vcf\\n' % chrom \n",
    "    zip_cmd = 'bash /n/home11/twooldridge/scripts/zip_index_vcf.sh %s.vcf\\n' % chrom\n",
    "    full_cmd = module_cmd + gatk_cmd + zip_cmd\n",
    "    #SLURM = make_slurm(echo=True,id='%s.jointgenotype' % (chrom),cmd_string=full_cmd,mem='50000',time='100:00:00',n=2,p='hoekstra,commons')\n",
    "\n"
   ]
  },
  {
   "cell_type": "markdown",
   "metadata": {},
   "source": [
    "# Variant filtering"
   ]
  },
  {
   "cell_type": "markdown",
   "metadata": {},
   "source": [
    "## For WGS data"
   ]
  },
  {
   "cell_type": "code",
   "execution_count": 3,
   "metadata": {
    "collapsed": true
   },
   "outputs": [],
   "source": [
    "os.chdir('/n/hoekstra_lab_tier1/Users/brock/polionotus/vcfs/')\n",
    "for chrom in Pman_sizes.keys():\n",
    "    cmd = ('''/n/home11/twooldridge/scripts/vcf_filter_pipeline.sh '''\n",
    "           '''{chrom}.allSites.vcf.gz '''\n",
    "           '''{Pman_genome} '''\n",
    "           '''{chrom}''').format(chrom=chrom,Ppol_genome = Ppol_genome)\n",
    "    #print(cmd)"
   ]
  },
  {
   "cell_type": "markdown",
   "metadata": {},
   "source": [
    "## For seqcapture data"
   ]
  },
  {
   "cell_type": "code",
   "execution_count": 5,
   "metadata": {},
   "outputs": [
    {
     "name": "stdout",
     "output_type": "stream",
     "text": [
      "Submitted batch job 26914060\n",
      "Submitted batch job 26914064\n",
      "Submitted batch job 26914069\n",
      "Submitted batch job 26914073\n",
      "Submitted batch job 26914077\n",
      "Submitted batch job 26914086\n",
      "Submitted batch job 26914091\n",
      "Submitted batch job 26914094\n",
      "Submitted batch job 26914102\n",
      "Submitted batch job 26914106\n",
      "Submitted batch job 26914111\n",
      "Submitted batch job 26914118\n",
      "Submitted batch job 26914122\n",
      "Submitted batch job 26914127\n",
      "Submitted batch job 26914130\n",
      "Submitted batch job 26914138\n",
      "Submitted batch job 26914142\n",
      "Submitted batch job 26914147\n",
      "Submitted batch job 26914152\n",
      "Submitted batch job 26914160\n",
      "Submitted batch job 26914163\n",
      "Submitted batch job 26914170\n",
      "Submitted batch job 26914176\n",
      "Submitted batch job 26914179\n"
     ]
    }
   ],
   "source": [
    "os.chdir('/n/hoekstra_lab_tier1/Users/brock/polionotus/vcfs/seqcapture/')\n",
    "for chrom in Ppol_sizes.keys():\n",
    "    cmd = ('''/n/home11/twooldridge/scripts/vcf_filter_pipeline.sh '''\n",
    "           '''{chrom}.vcf '''\n",
    "           '''{Ppol_genome} '''\n",
    "           '''{chrom}''').format(chrom=chrom,Ppol_genome=Ppol_genome)\n",
    "    #print(cmd)"
   ]
  },
  {
   "cell_type": "markdown",
   "metadata": {},
   "source": [
    "# Combine WGS and seqcapture data"
   ]
  },
  {
   "cell_type": "markdown",
   "metadata": {},
   "source": [
    "Get sites from seqcapture data that are at least 50% genotyped. Anything less I'm probably not interested in"
   ]
  },
  {
   "cell_type": "code",
   "execution_count": 63,
   "metadata": {
    "collapsed": true
   },
   "outputs": [],
   "source": [
    "outdir = '/n/hoekstra_lab_tier1/Users/brock/polionotus/popgen_vcfs/'\n",
    "os.chdir(outdir)\n",
    "!mkdir -p cmds logs vars\n",
    "for chrom in Ppol_sizes.keys():\n",
    "    cmd=('''module load vcftools\\n'''\n",
    "         '''vcftools --gzvcf /n/hoekstra_lab_tier1/Users/brock/polionotus/vcfs/seqcapture/hf.{chrom}.vcf.gz '''\n",
    "         '''--max-missing 0.5 --kept-sites --out vars/{chrom}''').format(chrom=chrom)\n",
    "    slurm = make_slurm(echo=True,id='%s.sites' % chrom,cmd_string=cmd,mem='1000',time='01:00:00')"
   ]
  },
  {
   "cell_type": "markdown",
   "metadata": {},
   "source": [
    "Now grab these same sites from the whole genome data"
   ]
  },
  {
   "cell_type": "code",
   "execution_count": 5,
   "metadata": {
    "ExecuteTime": {
     "end_time": "2021-07-14T22:47:22.015538Z",
     "start_time": "2021-07-14T22:46:47.802103Z"
    }
   },
   "outputs": [
    {
     "name": "stdout",
     "output_type": "stream",
     "text": [
      "Submitted batch job 33456829\n",
      "Submitted batch job 33456830\n",
      "Submitted batch job 33456831\n",
      "Submitted batch job 33456832\n",
      "Submitted batch job 33456833\n",
      "Submitted batch job 33456834\n",
      "Submitted batch job 33456835\n",
      "Submitted batch job 33456837\n",
      "Submitted batch job 33456838\n",
      "Submitted batch job 33456839\n",
      "Submitted batch job 33456840\n",
      "Submitted batch job 33456841\n",
      "Submitted batch job 33456842\n",
      "Submitted batch job 33456843\n",
      "Submitted batch job 33456844\n",
      "Submitted batch job 33456845\n",
      "Submitted batch job 33456846\n",
      "Submitted batch job 33456847\n",
      "Submitted batch job 33456848\n",
      "Submitted batch job 33456849\n",
      "Submitted batch job 33456850\n",
      "Submitted batch job 33456851\n",
      "Submitted batch job 33456852\n",
      "Submitted batch job 33456853\n"
     ]
    }
   ],
   "source": [
    "outdir = '/n/holylfs03/LABS/hoekstra_lab/Users/brock/polionotus/popgen_vcfs/'\n",
    "os.chdir(outdir)\n",
    "!mkdir -p cmds logs vars\n",
    "\n",
    "for chrom in Ppol_sizes.keys():\n",
    "    cmd=('''module load bcftools;module load vcftools\\n'''\n",
    "         '''vcftools --gzvcf /n/hoekstra_lab_tier1/Users/brock/polionotus/vcfs/polionotus/{chrom}.allSites.vcf.gz '''\n",
    "         '''--remove-filtered-all --positions <(tail -n +2 vars/{chrom}.kept.sites) --recode --recode-INFO-all --stdout > '''\n",
    "         '''vars/WGS.{chrom}.vcf\\n'''\n",
    "         '''/n/home11/twooldridge/scripts/misc/zip_index_vcf.sh vars/WGS.{chrom}.vcf''').format(chrom=chrom)\n",
    "    slurm = make_slurm(echo=True,id='%s.WGSfilter' % chrom,cmd_string = cmd,mem='5000',time='03:00:00')"
   ]
  },
  {
   "cell_type": "markdown",
   "metadata": {},
   "source": [
    "And from the NUBITERRAE (outgroup) data"
   ]
  },
  {
   "cell_type": "code",
   "execution_count": 6,
   "metadata": {
    "ExecuteTime": {
     "end_time": "2021-07-14T22:47:52.253089Z",
     "start_time": "2021-07-14T22:47:22.018479Z"
    }
   },
   "outputs": [
    {
     "name": "stdout",
     "output_type": "stream",
     "text": [
      "Submitted batch job 33456854\n",
      "Submitted batch job 33456855\n",
      "Submitted batch job 33456856\n",
      "Submitted batch job 33456857\n",
      "Submitted batch job 33456858\n",
      "Submitted batch job 33456859\n",
      "Submitted batch job 33456860\n",
      "Submitted batch job 33456861\n",
      "Submitted batch job 33456862\n",
      "Submitted batch job 33456863\n",
      "Submitted batch job 33456864\n",
      "Submitted batch job 33456865\n",
      "Submitted batch job 33456866\n",
      "Submitted batch job 33456867\n",
      "Submitted batch job 33456868\n",
      "Submitted batch job 33456869\n",
      "Submitted batch job 33456870\n",
      "Submitted batch job 33456871\n",
      "Submitted batch job 33456872\n",
      "Submitted batch job 33456880\n",
      "Submitted batch job 33456881\n",
      "Submitted batch job 33456882\n",
      "Submitted batch job 33456883\n",
      "Submitted batch job 33456884\n"
     ]
    }
   ],
   "source": [
    "outdir = '/n/hoekstra_lab_tier1/Users/brock/polionotus/popgen_vcfs/'\n",
    "os.chdir(outdir)\n",
    "!mkdir -p cmds logs vars\n",
    "\n",
    "for chrom in Ppol_sizes.keys():\n",
    "    cmd=('''module load vcftools\\n'''\n",
    "         '''vcftools --gzvcf /n/hoekstra_lab_tier1/Users/brock/polionotus/ancestral/01_NUB/{chrom}.allSites.vcf.gz '''\n",
    "         '''--remove-filtered-all --positions <(tail -n +2 vars/{chrom}.kept.sites) --recode --recode-INFO-all --stdout > '''\n",
    "         '''vars/NUB.{chrom}.vcf\\n'''\n",
    "         '''/n/home11/twooldridge/scripts/misc/zip_index_vcf.sh vars/NUB.{chrom}.vcf''').format(chrom=chrom)\n",
    "    slurm = make_slurm(run=True,id='%s.NUBfilter' % chrom,cmd_string = cmd,mem='5000',time='03:00:00')"
   ]
  },
  {
   "cell_type": "markdown",
   "metadata": {},
   "source": [
    "Finally, retrieve these sites form the seqcapture data"
   ]
  },
  {
   "cell_type": "code",
   "execution_count": 69,
   "metadata": {
    "collapsed": true
   },
   "outputs": [],
   "source": [
    "outdir = '/n/hoekstra_lab_tier1/Users/brock/polionotus/popgen_vcfs/'\n",
    "os.chdir(outdir)\n",
    "!mkdir -p cmds logs vars\n",
    "\n",
    "for chrom in Ppol_sizes.keys():\n",
    "    cmd=('''module load vcftools\\n'''\n",
    "         '''vcftools --gzvcf /n/hoekstra_lab_tier1/Users/brock/polionotus/vcfs/seqcapture/hf.{chrom}.vcf.gz '''\n",
    "         '''--remove-filtered-all --positions <(tail -n +2 vars/{chrom}.kept.sites) --recode --recode-INFO-all --stdout > '''\n",
    "         '''vars/SEQ.{chrom}.vcf\\n'''\n",
    "         '''/n/home11/twooldridge/scripts/misc/zip_index_vcf.sh vars/SEQ.{chrom}.vcf''').format(chrom=chrom)\n",
    "    slurm = make_slurm(run=True,id='%s.SEQfilter' % chrom,cmd_string = cmd,mem='5000',time='01:00:00')"
   ]
  },
  {
   "cell_type": "markdown",
   "metadata": {},
   "source": [
    "Now use vcftools merge to combine the data. I'm running this with default params, which means that if no data exists for an individual at a site (as will happen with a SEQCAPTURE individual), then we'll just assume a missing `./.` genotype. "
   ]
  },
  {
   "cell_type": "code",
   "execution_count": 7,
   "metadata": {
    "ExecuteTime": {
     "end_time": "2021-07-14T23:02:18.880143Z",
     "start_time": "2021-07-14T23:02:11.983780Z"
    }
   },
   "outputs": [
    {
     "name": "stdout",
     "output_type": "stream",
     "text": [
      "ERROR! Session/line number was not unique in database. History logging moved to new session 1480\n",
      "Submitted batch job 33457235\n",
      "Submitted batch job 33457236\n",
      "Submitted batch job 33457237\n",
      "Submitted batch job 33457238\n",
      "Submitted batch job 33457239\n",
      "Submitted batch job 33457240\n",
      "Submitted batch job 33457241\n",
      "Submitted batch job 33457242\n",
      "Submitted batch job 33457243\n",
      "Submitted batch job 33457244\n",
      "Submitted batch job 33457245\n",
      "Submitted batch job 33457246\n",
      "Submitted batch job 33457247\n",
      "Submitted batch job 33457248\n",
      "Submitted batch job 33457249\n",
      "Submitted batch job 33457250\n",
      "Submitted batch job 33457251\n",
      "Submitted batch job 33457252\n",
      "Submitted batch job 33457253\n",
      "Submitted batch job 33457254\n",
      "Submitted batch job 33457255\n",
      "Submitted batch job 33457256\n",
      "Submitted batch job 33457257\n",
      "Submitted batch job 33457258\n"
     ]
    }
   ],
   "source": [
    "outdir = '/n/hoekstra_lab_tier1/Users/brock/polionotus/popgen_vcfs/'\n",
    "os.chdir(outdir)\n",
    "!mkdir -p cmds logs vars\n",
    "\n",
    "for chrom in Ppol_sizes.keys():\n",
    "    cmd=('''module load vcftools\\n'''\n",
    "         '''vcf-merge '''\n",
    "         '''vars/WGS.{chrom}.vcf.gz '''\n",
    "         '''vars/NUB.{chrom}.vcf.gz '''\n",
    "         '''vars/SEQ.{chrom}.vcf.gz > '''\n",
    "         '''vars/ALL.{chrom}.vcf\\n'''\n",
    "         '''/n/home11/twooldridge/scripts/misc/zip_index_vcf.sh vars/ALL.{chrom}.vcf''').format(chrom=chrom)\n",
    "    slurm = make_slurm(run=True,id='%s.merge' % chrom,cmd_string = cmd,mem='1000',time='01:00:00')"
   ]
  },
  {
   "cell_type": "markdown",
   "metadata": {},
   "source": [
    "Finally, combine all vcfs"
   ]
  },
  {
   "cell_type": "code",
   "execution_count": 10,
   "metadata": {
    "collapsed": true
   },
   "outputs": [],
   "source": [
    "os.chdir('/n/hoekstra_lab_tier1/Users/brock/polionotus/popgen_vcfs/')\n",
    "vcf_string = ''\n",
    "for chrom in Ppol_sizes.keys():\n",
    "    vcf_string = vcf_string + 'vars/ALL.%s.vcf.gz ' % chrom\n",
    "cmd = ('''module load vcftools\\n'''\n",
    "       '''vcf-concat %s > vars/ALL.vcf\\n'''\n",
    "       '''/n/home11/twooldridge/scripts/zip_index_vcf.sh vars/ALL.vcf''' % vcf_string )\n",
    "slurm = make_slurm(run=True,id='concat',cmd_string = cmd,mem='5000',time='01:00:00')"
   ]
  },
  {
   "cell_type": "markdown",
   "metadata": {},
   "source": [
    "## Look at site depth in seqcapture data"
   ]
  },
  {
   "cell_type": "markdown",
   "metadata": {},
   "source": [
    "First, look at vcfs"
   ]
  },
  {
   "cell_type": "code",
   "execution_count": 21,
   "metadata": {
    "collapsed": true
   },
   "outputs": [],
   "source": [
    "outdir = '/n/hoekstra_lab_tier1/Users/brock/polionotus/vcfs/seqcapture'\n",
    "for chrom in Ppol_sizes.keys():\n",
    "    cmd = ('''module load bcftools\\n'''\n",
    "           '''bcftools query -f '%CHROM %POS %REF %ALT %AC %AN\\\\n' '''\n",
    "           '''/n/hoekstra_lab_tier1/Users/brock/polionotus/popgen_vcfs/vars/ALL.{chrom}.vcf.gz > {outdir}/{chrom}.counts.txt''').format(chrom=chrom,outdir=outdir)\n",
    "    slurm = make_slurm(run=True,id='%s.query' % chrom,cmd_string=cmd,mem='1000',time='00:05:00')\n",
    "    "
   ]
  },
  {
   "cell_type": "markdown",
   "metadata": {},
   "source": [
    "Combine files"
   ]
  },
  {
   "cell_type": "code",
   "execution_count": 22,
   "metadata": {
    "collapsed": true
   },
   "outputs": [],
   "source": [
    "%%bash\n",
    "cd /n/holylfs03/LABS/hoekstra_lab/Users/brock/polionotus/vcfs/seqcapture/\n",
    "cat chr*counts.txt > all.counts.txt"
   ]
  },
  {
   "cell_type": "markdown",
   "metadata": {},
   "source": [
    "Look at site depth from bam files"
   ]
  },
  {
   "cell_type": "code",
   "execution_count": 93,
   "metadata": {
    "collapsed": true
   },
   "outputs": [],
   "source": [
    "for sample in seqcapture_map.keys():\n",
    "    bam = glob.glob('../bams/%s.mdup2500.bam' % sample)\n",
    "    if len(bam) != 1:\n",
    "        print(sample)\n",
    "    bam = bam[0]\n",
    "    cmd = ('''module load samtools\\n'''\n",
    "           '''samtools depth -a -b ../beds/agouti_mc1r_extended.bed '''\n",
    "           '''{bam} > ../bams/{sample}.depth.txt''').format(sample=sample,bam=bam)\n",
    "    slurm = make_slurm(run=True,id='%s.depth' % sample,cmd_string = cmd,mem='10000',time='00:10:00')"
   ]
  },
  {
   "cell_type": "markdown",
   "metadata": {},
   "source": [
    "Combine files"
   ]
  },
  {
   "cell_type": "code",
   "execution_count": 99,
   "metadata": {},
   "outputs": [
    {
     "name": "stderr",
     "output_type": "stream",
     "text": [
      "rm: cannot remove ‘../bams/agouti_mc1r_depth.txt’: No such file or directory\n"
     ]
    }
   ],
   "source": [
    "%%bash\n",
    "rm ../bams/agouti_mc1r_depth.txt\n",
    "touch ../bams/agouti_mc1r_depth.txt\n",
    "for file in ../bams/*.depth.txt;do\n",
    "    sample=$(basename $file | sed 's|.depth.txt||');\n",
    "    #echo $file;echo $sample;\n",
    "    cat <(sed -e \"s/$/\\t$sample/\" $file) >> ../bams/agouti_mc1r_depth.txt \n",
    "done"
   ]
  },
  {
   "cell_type": "code",
   "execution_count": 90,
   "metadata": {},
   "outputs": [
    {
     "name": "stdout",
     "output_type": "stream",
     "text": [
      "#!/bin/bash\n",
      "#SBATCH -p hoekstra,commons,shared\n",
      "#SBATCH -t 02:00:00\n",
      "#SBATCH --mem=10000\n",
      "#SBATCH -n 1\n",
      "#SBATCH -e ./logs/VSD142.depth.e\n",
      "#SBATCH -o ./logs/VSD142.depth.o\n",
      "#SBATCH -c 1\n",
      "#SBATCH -N 1\n",
      "#SBATCH -J VSD142.depth\n",
      "\n",
      "mosdepth -b /n/holylfs03/LABS/hoekstra_lab/Users/brock/polionotus/beds/agouti_mc1r_extended.bed --fast-mode ../bams/VSD142 ../bams/VSD142.mdup2500.bam\n",
      "\n",
      "#!/bin/bash\n",
      "#SBATCH -p hoekstra,commons,shared\n",
      "#SBATCH -t 02:00:00\n",
      "#SBATCH --mem=10000\n",
      "#SBATCH -n 1\n",
      "#SBATCH -e ./logs/VSD143.depth.e\n",
      "#SBATCH -o ./logs/VSD143.depth.o\n",
      "#SBATCH -c 1\n",
      "#SBATCH -N 1\n",
      "#SBATCH -J VSD143.depth\n",
      "\n",
      "mosdepth -b /n/holylfs03/LABS/hoekstra_lab/Users/brock/polionotus/beds/agouti_mc1r_extended.bed --fast-mode ../bams/VSD143 ../bams/VSD143.mdup2500.bam\n",
      "\n",
      "#!/bin/bash\n",
      "#SBATCH -p hoekstra,commons,shared\n",
      "#SBATCH -t 02:00:00\n",
      "#SBATCH --mem=10000\n",
      "#SBATCH -n 1\n",
      "#SBATCH -e ./logs/VSD195.depth.e\n",
      "#SBATCH -o ./logs/VSD195.depth.o\n",
      "#SBATCH -c 1\n",
      "#SBATCH -N 1\n",
      "#SBATCH -J VSD195.depth\n",
      "\n",
      "mosdepth -b /n/holylfs03/LABS/hoekstra_lab/Users/brock/polionotus/beds/agouti_mc1r_extended.bed --fast-mode ../bams/VSD195 ../bams/VSD195.mdup2500.bam\n",
      "\n",
      "#!/bin/bash\n",
      "#SBATCH -p hoekstra,commons,shared\n",
      "#SBATCH -t 02:00:00\n",
      "#SBATCH --mem=10000\n",
      "#SBATCH -n 1\n",
      "#SBATCH -e ./logs/VSD196.depth.e\n",
      "#SBATCH -o ./logs/VSD196.depth.o\n",
      "#SBATCH -c 1\n",
      "#SBATCH -N 1\n",
      "#SBATCH -J VSD196.depth\n",
      "\n",
      "mosdepth -b /n/holylfs03/LABS/hoekstra_lab/Users/brock/polionotus/beds/agouti_mc1r_extended.bed --fast-mode ../bams/VSD196 ../bams/VSD196.mdup2500.bam\n",
      "\n",
      "#!/bin/bash\n",
      "#SBATCH -p hoekstra,commons,shared\n",
      "#SBATCH -t 02:00:00\n",
      "#SBATCH --mem=10000\n",
      "#SBATCH -n 1\n",
      "#SBATCH -e ./logs/VSD197.depth.e\n",
      "#SBATCH -o ./logs/VSD197.depth.o\n",
      "#SBATCH -c 1\n",
      "#SBATCH -N 1\n",
      "#SBATCH -J VSD197.depth\n",
      "\n",
      "mosdepth -b /n/holylfs03/LABS/hoekstra_lab/Users/brock/polionotus/beds/agouti_mc1r_extended.bed --fast-mode ../bams/VSD197 ../bams/VSD197.mdup2500.bam\n",
      "\n",
      "#!/bin/bash\n",
      "#SBATCH -p hoekstra,commons,shared\n",
      "#SBATCH -t 02:00:00\n",
      "#SBATCH --mem=10000\n",
      "#SBATCH -n 1\n",
      "#SBATCH -e ./logs/VSD198.depth.e\n",
      "#SBATCH -o ./logs/VSD198.depth.o\n",
      "#SBATCH -c 1\n",
      "#SBATCH -N 1\n",
      "#SBATCH -J VSD198.depth\n",
      "\n",
      "mosdepth -b /n/holylfs03/LABS/hoekstra_lab/Users/brock/polionotus/beds/agouti_mc1r_extended.bed --fast-mode ../bams/VSD198 ../bams/VSD198.mdup2500.bam\n",
      "\n",
      "#!/bin/bash\n",
      "#SBATCH -p hoekstra,commons,shared\n",
      "#SBATCH -t 02:00:00\n",
      "#SBATCH --mem=10000\n",
      "#SBATCH -n 1\n",
      "#SBATCH -e ./logs/VSD199.depth.e\n",
      "#SBATCH -o ./logs/VSD199.depth.o\n",
      "#SBATCH -c 1\n",
      "#SBATCH -N 1\n",
      "#SBATCH -J VSD199.depth\n",
      "\n",
      "mosdepth -b /n/holylfs03/LABS/hoekstra_lab/Users/brock/polionotus/beds/agouti_mc1r_extended.bed --fast-mode ../bams/VSD199 ../bams/VSD199.mdup2500.bam\n",
      "\n",
      "#!/bin/bash\n",
      "#SBATCH -p hoekstra,commons,shared\n",
      "#SBATCH -t 02:00:00\n",
      "#SBATCH --mem=10000\n",
      "#SBATCH -n 1\n",
      "#SBATCH -e ./logs/VSD200.depth.e\n",
      "#SBATCH -o ./logs/VSD200.depth.o\n",
      "#SBATCH -c 1\n",
      "#SBATCH -N 1\n",
      "#SBATCH -J VSD200.depth\n",
      "\n",
      "mosdepth -b /n/holylfs03/LABS/hoekstra_lab/Users/brock/polionotus/beds/agouti_mc1r_extended.bed --fast-mode ../bams/VSD200 ../bams/VSD200.mdup2500.bam\n",
      "\n",
      "#!/bin/bash\n",
      "#SBATCH -p hoekstra,commons,shared\n",
      "#SBATCH -t 02:00:00\n",
      "#SBATCH --mem=10000\n",
      "#SBATCH -n 1\n",
      "#SBATCH -e ./logs/VSD201.depth.e\n",
      "#SBATCH -o ./logs/VSD201.depth.o\n",
      "#SBATCH -c 1\n",
      "#SBATCH -N 1\n",
      "#SBATCH -J VSD201.depth\n",
      "\n",
      "mosdepth -b /n/holylfs03/LABS/hoekstra_lab/Users/brock/polionotus/beds/agouti_mc1r_extended.bed --fast-mode ../bams/VSD201 ../bams/VSD201.mdup2500.bam\n",
      "\n",
      "#!/bin/bash\n",
      "#SBATCH -p hoekstra,commons,shared\n",
      "#SBATCH -t 02:00:00\n",
      "#SBATCH --mem=10000\n",
      "#SBATCH -n 1\n",
      "#SBATCH -e ./logs/VSD202.depth.e\n",
      "#SBATCH -o ./logs/VSD202.depth.o\n",
      "#SBATCH -c 1\n",
      "#SBATCH -N 1\n",
      "#SBATCH -J VSD202.depth\n",
      "\n",
      "mosdepth -b /n/holylfs03/LABS/hoekstra_lab/Users/brock/polionotus/beds/agouti_mc1r_extended.bed --fast-mode ../bams/VSD202 ../bams/VSD202.mdup2500.bam\n",
      "\n",
      "#!/bin/bash\n",
      "#SBATCH -p hoekstra,commons,shared\n",
      "#SBATCH -t 02:00:00\n",
      "#SBATCH --mem=10000\n",
      "#SBATCH -n 1\n",
      "#SBATCH -e ./logs/VSD203.depth.e\n",
      "#SBATCH -o ./logs/VSD203.depth.o\n",
      "#SBATCH -c 1\n",
      "#SBATCH -N 1\n",
      "#SBATCH -J VSD203.depth\n",
      "\n",
      "mosdepth -b /n/holylfs03/LABS/hoekstra_lab/Users/brock/polionotus/beds/agouti_mc1r_extended.bed --fast-mode ../bams/VSD203 ../bams/VSD203.mdup2500.bam\n",
      "\n",
      "#!/bin/bash\n",
      "#SBATCH -p hoekstra,commons,shared\n",
      "#SBATCH -t 02:00:00\n",
      "#SBATCH --mem=10000\n",
      "#SBATCH -n 1\n",
      "#SBATCH -e ./logs/VSD204.depth.e\n",
      "#SBATCH -o ./logs/VSD204.depth.o\n",
      "#SBATCH -c 1\n",
      "#SBATCH -N 1\n",
      "#SBATCH -J VSD204.depth\n",
      "\n",
      "mosdepth -b /n/holylfs03/LABS/hoekstra_lab/Users/brock/polionotus/beds/agouti_mc1r_extended.bed --fast-mode ../bams/VSD204 ../bams/VSD204.mdup2500.bam\n",
      "\n",
      "#!/bin/bash\n",
      "#SBATCH -p hoekstra,commons,shared\n",
      "#SBATCH -t 02:00:00\n",
      "#SBATCH --mem=10000\n",
      "#SBATCH -n 1\n",
      "#SBATCH -e ./logs/VSD205.depth.e\n",
      "#SBATCH -o ./logs/VSD205.depth.o\n",
      "#SBATCH -c 1\n",
      "#SBATCH -N 1\n",
      "#SBATCH -J VSD205.depth\n",
      "\n",
      "mosdepth -b /n/holylfs03/LABS/hoekstra_lab/Users/brock/polionotus/beds/agouti_mc1r_extended.bed --fast-mode ../bams/VSD205 ../bams/VSD205.mdup2500.bam\n",
      "\n",
      "#!/bin/bash\n",
      "#SBATCH -p hoekstra,commons,shared\n",
      "#SBATCH -t 02:00:00\n",
      "#SBATCH --mem=10000\n",
      "#SBATCH -n 1\n",
      "#SBATCH -e ./logs/VSD207.depth.e\n",
      "#SBATCH -o ./logs/VSD207.depth.o\n",
      "#SBATCH -c 1\n",
      "#SBATCH -N 1\n",
      "#SBATCH -J VSD207.depth\n",
      "\n",
      "mosdepth -b /n/holylfs03/LABS/hoekstra_lab/Users/brock/polionotus/beds/agouti_mc1r_extended.bed --fast-mode ../bams/VSD207 ../bams/VSD207.mdup2500.bam\n",
      "\n",
      "#!/bin/bash\n",
      "#SBATCH -p hoekstra,commons,shared\n",
      "#SBATCH -t 02:00:00\n",
      "#SBATCH --mem=10000\n",
      "#SBATCH -n 1\n",
      "#SBATCH -e ./logs/VSD208.depth.e\n",
      "#SBATCH -o ./logs/VSD208.depth.o\n",
      "#SBATCH -c 1\n",
      "#SBATCH -N 1\n",
      "#SBATCH -J VSD208.depth\n",
      "\n",
      "mosdepth -b /n/holylfs03/LABS/hoekstra_lab/Users/brock/polionotus/beds/agouti_mc1r_extended.bed --fast-mode ../bams/VSD208 ../bams/VSD208.mdup2500.bam\n",
      "\n",
      "#!/bin/bash\n",
      "#SBATCH -p hoekstra,commons,shared\n",
      "#SBATCH -t 02:00:00\n",
      "#SBATCH --mem=10000\n",
      "#SBATCH -n 1\n",
      "#SBATCH -e ./logs/VSD209.depth.e\n",
      "#SBATCH -o ./logs/VSD209.depth.o\n",
      "#SBATCH -c 1\n",
      "#SBATCH -N 1\n",
      "#SBATCH -J VSD209.depth\n",
      "\n",
      "mosdepth -b /n/holylfs03/LABS/hoekstra_lab/Users/brock/polionotus/beds/agouti_mc1r_extended.bed --fast-mode ../bams/VSD209 ../bams/VSD209.mdup2500.bam\n",
      "\n",
      "#!/bin/bash\n",
      "#SBATCH -p hoekstra,commons,shared\n",
      "#SBATCH -t 02:00:00\n",
      "#SBATCH --mem=10000\n",
      "#SBATCH -n 1\n",
      "#SBATCH -e ./logs/VSD210.depth.e\n",
      "#SBATCH -o ./logs/VSD210.depth.o\n",
      "#SBATCH -c 1\n",
      "#SBATCH -N 1\n",
      "#SBATCH -J VSD210.depth\n",
      "\n",
      "mosdepth -b /n/holylfs03/LABS/hoekstra_lab/Users/brock/polionotus/beds/agouti_mc1r_extended.bed --fast-mode ../bams/VSD210 ../bams/VSD210.mdup2500.bam\n",
      "\n",
      "#!/bin/bash\n",
      "#SBATCH -p hoekstra,commons,shared\n",
      "#SBATCH -t 02:00:00\n",
      "#SBATCH --mem=10000\n",
      "#SBATCH -n 1\n",
      "#SBATCH -e ./logs/VSD211.depth.e\n",
      "#SBATCH -o ./logs/VSD211.depth.o\n",
      "#SBATCH -c 1\n",
      "#SBATCH -N 1\n",
      "#SBATCH -J VSD211.depth\n",
      "\n",
      "mosdepth -b /n/holylfs03/LABS/hoekstra_lab/Users/brock/polionotus/beds/agouti_mc1r_extended.bed --fast-mode ../bams/VSD211 ../bams/VSD211.mdup2500.bam\n",
      "\n",
      "#!/bin/bash\n",
      "#SBATCH -p hoekstra,commons,shared\n",
      "#SBATCH -t 02:00:00\n",
      "#SBATCH --mem=10000\n",
      "#SBATCH -n 1\n",
      "#SBATCH -e ./logs/VSD212.depth.e\n",
      "#SBATCH -o ./logs/VSD212.depth.o\n",
      "#SBATCH -c 1\n",
      "#SBATCH -N 1\n",
      "#SBATCH -J VSD212.depth\n",
      "\n",
      "mosdepth -b /n/holylfs03/LABS/hoekstra_lab/Users/brock/polionotus/beds/agouti_mc1r_extended.bed --fast-mode ../bams/VSD212 ../bams/VSD212.mdup2500.bam\n",
      "\n",
      "#!/bin/bash\n",
      "#SBATCH -p hoekstra,commons,shared\n",
      "#SBATCH -t 02:00:00\n",
      "#SBATCH --mem=10000\n",
      "#SBATCH -n 1\n",
      "#SBATCH -e ./logs/VSD214.depth.e\n",
      "#SBATCH -o ./logs/VSD214.depth.o\n",
      "#SBATCH -c 1\n",
      "#SBATCH -N 1\n",
      "#SBATCH -J VSD214.depth\n",
      "\n",
      "mosdepth -b /n/holylfs03/LABS/hoekstra_lab/Users/brock/polionotus/beds/agouti_mc1r_extended.bed --fast-mode ../bams/VSD214 ../bams/VSD214.mdup2500.bam\n",
      "\n",
      "#!/bin/bash\n",
      "#SBATCH -p hoekstra,commons,shared\n",
      "#SBATCH -t 02:00:00\n",
      "#SBATCH --mem=10000\n",
      "#SBATCH -n 1\n",
      "#SBATCH -e ./logs/VSD215.depth.e\n",
      "#SBATCH -o ./logs/VSD215.depth.o\n",
      "#SBATCH -c 1\n",
      "#SBATCH -N 1\n",
      "#SBATCH -J VSD215.depth\n",
      "\n",
      "mosdepth -b /n/holylfs03/LABS/hoekstra_lab/Users/brock/polionotus/beds/agouti_mc1r_extended.bed --fast-mode ../bams/VSD215 ../bams/VSD215.mdup2500.bam\n",
      "\n",
      "#!/bin/bash\n",
      "#SBATCH -p hoekstra,commons,shared\n",
      "#SBATCH -t 02:00:00\n",
      "#SBATCH --mem=10000\n",
      "#SBATCH -n 1\n",
      "#SBATCH -e ./logs/VSD216.depth.e\n",
      "#SBATCH -o ./logs/VSD216.depth.o\n",
      "#SBATCH -c 1\n",
      "#SBATCH -N 1\n",
      "#SBATCH -J VSD216.depth\n",
      "\n",
      "mosdepth -b /n/holylfs03/LABS/hoekstra_lab/Users/brock/polionotus/beds/agouti_mc1r_extended.bed --fast-mode ../bams/VSD216 ../bams/VSD216.mdup2500.bam\n",
      "\n",
      "#!/bin/bash\n",
      "#SBATCH -p hoekstra,commons,shared\n",
      "#SBATCH -t 02:00:00\n",
      "#SBATCH --mem=10000\n",
      "#SBATCH -n 1\n",
      "#SBATCH -e ./logs/VSD217.depth.e\n",
      "#SBATCH -o ./logs/VSD217.depth.o\n",
      "#SBATCH -c 1\n",
      "#SBATCH -N 1\n",
      "#SBATCH -J VSD217.depth\n",
      "\n",
      "mosdepth -b /n/holylfs03/LABS/hoekstra_lab/Users/brock/polionotus/beds/agouti_mc1r_extended.bed --fast-mode ../bams/VSD217 ../bams/VSD217.mdup2500.bam\n",
      "\n",
      "#!/bin/bash\n",
      "#SBATCH -p hoekstra,commons,shared\n",
      "#SBATCH -t 02:00:00\n",
      "#SBATCH --mem=10000\n",
      "#SBATCH -n 1\n",
      "#SBATCH -e ./logs/VSD218.depth.e\n",
      "#SBATCH -o ./logs/VSD218.depth.o\n",
      "#SBATCH -c 1\n",
      "#SBATCH -N 1\n",
      "#SBATCH -J VSD218.depth\n",
      "\n",
      "mosdepth -b /n/holylfs03/LABS/hoekstra_lab/Users/brock/polionotus/beds/agouti_mc1r_extended.bed --fast-mode ../bams/VSD218 ../bams/VSD218.mdup2500.bam\n",
      "\n",
      "#!/bin/bash\n",
      "#SBATCH -p hoekstra,commons,shared\n",
      "#SBATCH -t 02:00:00\n",
      "#SBATCH --mem=10000\n",
      "#SBATCH -n 1\n",
      "#SBATCH -e ./logs/VSD219.depth.e\n",
      "#SBATCH -o ./logs/VSD219.depth.o\n",
      "#SBATCH -c 1\n",
      "#SBATCH -N 1\n",
      "#SBATCH -J VSD219.depth\n",
      "\n",
      "mosdepth -b /n/holylfs03/LABS/hoekstra_lab/Users/brock/polionotus/beds/agouti_mc1r_extended.bed --fast-mode ../bams/VSD219 ../bams/VSD219.mdup2500.bam\n",
      "\n",
      "#!/bin/bash\n",
      "#SBATCH -p hoekstra,commons,shared\n",
      "#SBATCH -t 02:00:00\n",
      "#SBATCH --mem=10000\n",
      "#SBATCH -n 1\n",
      "#SBATCH -e ./logs/VSD220.depth.e\n",
      "#SBATCH -o ./logs/VSD220.depth.o\n",
      "#SBATCH -c 1\n",
      "#SBATCH -N 1\n",
      "#SBATCH -J VSD220.depth\n",
      "\n",
      "mosdepth -b /n/holylfs03/LABS/hoekstra_lab/Users/brock/polionotus/beds/agouti_mc1r_extended.bed --fast-mode ../bams/VSD220 ../bams/VSD220.mdup2500.bam\n",
      "\n",
      "#!/bin/bash\n",
      "#SBATCH -p hoekstra,commons,shared\n",
      "#SBATCH -t 02:00:00\n",
      "#SBATCH --mem=10000\n",
      "#SBATCH -n 1\n",
      "#SBATCH -e ./logs/VSD221.depth.e\n",
      "#SBATCH -o ./logs/VSD221.depth.o\n",
      "#SBATCH -c 1\n",
      "#SBATCH -N 1\n",
      "#SBATCH -J VSD221.depth\n",
      "\n",
      "mosdepth -b /n/holylfs03/LABS/hoekstra_lab/Users/brock/polionotus/beds/agouti_mc1r_extended.bed --fast-mode ../bams/VSD221 ../bams/VSD221.mdup2500.bam\n",
      "\n",
      "#!/bin/bash\n",
      "#SBATCH -p hoekstra,commo"
     ]
    },
    {
     "data": {
      "text/html": [
       "<b>limit_output extension: Maximum message size of 10000 exceeded with 47232 characters</b>"
      ]
     },
     "metadata": {},
     "output_type": "display_data"
    }
   ],
   "source": [
    "for sample in seqcapture_map.keys():\n",
    "    bam = glob.glob('../bams/%s.mdup2500.bam' % sample)\n",
    "    if len(bam) != 1:\n",
    "        print(sample)\n",
    "    bam = bam[0]\n",
    "    cmd = ('''mosdepth -b /n/holylfs03/LABS/hoekstra_lab/Users/brock/polionotus/beds/agouti_mc1r_extended.bed '''\n",
    "           '''--fast-mode ../bams/{sample} {bam}''').format(sample=sample,bam=bam)\n",
    "    slurm = make_slurm(echo=True,id='%s.depth' % sample,cmd_string = cmd,mem='10000',time='02:00:00')"
   ]
  },
  {
   "cell_type": "code",
   "execution_count": 79,
   "metadata": {
    "collapsed": true
   },
   "outputs": [],
   "source": [
    "cmd = ('''module load vcftools\\n '''\n",
    "       '''vcftools --gzvcf vars/ALL.vcf.gz --site-depth --out all''')\n",
    "slurm = make_slurm(run=True,id='depth',cmd_string = cmd,mem='10000',time='02:00:00')"
   ]
  },
  {
   "cell_type": "markdown",
   "metadata": {},
   "source": [
    "# Generating data to test effects of coverage "
   ]
  },
  {
   "cell_type": "markdown",
   "metadata": {},
   "source": [
    "## Downsample WGS data"
   ]
  },
  {
   "cell_type": "code",
   "execution_count": 17,
   "metadata": {
    "collapsed": true
   },
   "outputs": [],
   "source": [
    "os.chdir('/n/holylfs03/LABS/hoekstra_lab/Users/brock/polionotus/bams/downsample/')\n",
    "for pop, samples in pop_sample_map.items():\n",
    "    for sample in samples:\n",
    "        bam = '/n/holylfs03/LABS/hoekstra_lab/Users/brock/polionotus/bams/%s.combined.mdup2500.SM.bam' % sample\n",
    "        cmd = ('''source activate py36\\n'''\n",
    "               '''sambamba view -h -f bam -t 8 -s 0.10 {bam} > {sample}.DS.bam\\n'''\n",
    "               '''sambamba index {sample}.DS.bam''').format(bam=bam,sample=sample)\n",
    "        slurm = make_slurm(run=True,id='%s.downsample' % sample,cmd_string=cmd,mem='5000',time='06:00:00',n=8)"
   ]
  },
  {
   "cell_type": "markdown",
   "metadata": {},
   "source": [
    "Use samtools mpileup and bcftools call to get potentailly quicker variant calls"
   ]
  },
  {
   "cell_type": "code",
   "execution_count": 8,
   "metadata": {
    "collapsed": true
   },
   "outputs": [],
   "source": [
    "!mkdir -p cmds logs\n",
    "for chrom in Ppol_sizes.keys():\n",
    "    sample_string = ''\n",
    "    for sample in flatten(pop_sample_map.values()):\n",
    "        sample_string = sample_string + '/n/holylfs03/LABS/hoekstra_lab/Users/brock/polionotus/bams/downsample/%s.DS.bam ' % sample\n",
    "    cmd = ('''module load samtools bcftools\\n'''\n",
    "           '''samtools mpileup -r {chrom} -v {sample_string} -f {ref_genome} | /n/home11/twooldridge/Software/bcftools-1.3.1/bcftools call -m -v > vcfs/{chrom}.DS.vcf ''').format(chrom=chrom,sample_string=sample_string,ref_genome = Ppol_genome)\n",
    "    slurm = make_slurm(run=True,id='%s.DS.call' % chrom,cmd_string=cmd,mem='30000',time='72:00:00')"
   ]
  },
  {
   "cell_type": "markdown",
   "metadata": {},
   "source": [
    "Grab seqcapture sites from these new files"
   ]
  },
  {
   "cell_type": "code",
   "execution_count": 5,
   "metadata": {
    "collapsed": true
   },
   "outputs": [],
   "source": [
    "outdir = '/n/holylfs03/LABS/hoekstra_lab/Users/brock/polionotus/popgen_vcfs/'\n",
    "os.chdir(outdir)\n",
    "!mkdir -p cmds logs vars\n",
    "\n",
    "for chrom in Ppol_sizes.keys():\n",
    "    cmd=('''module load bcftools;module load vcftools\\n'''\n",
    "         '''vcftools --gzvcf /n/holylfs03/LABS/hoekstra_lab/Users/brock/polionotus/vcfs/{chrom}.DS.vcf.gz '''\n",
    "         '''--remove-filtered-all --positions <(tail -n +2 vars/{chrom}.kept.sites) --recode --recode-INFO-all --stdout > '''\n",
    "         '''vars/WGS.DS.{chrom}.vcf\\n'''\n",
    "         '''/n/home11/twooldridge/scripts/zip_index_vcf.sh vars/WGS.DS.{chrom}.vcf''').format(chrom=chrom)\n",
    "    slurm = make_slurm(run=True,id='%s.WGSfilter' % chrom,cmd_string = cmd,mem='5000',time='03:00:00')"
   ]
  },
  {
   "cell_type": "markdown",
   "metadata": {},
   "source": [
    "Now merge w/ seqcapture vcfs"
   ]
  },
  {
   "cell_type": "code",
   "execution_count": 7,
   "metadata": {
    "collapsed": true
   },
   "outputs": [],
   "source": [
    "outdir = '/n/holylfs03/LABS/hoekstra_lab/Users/brock/polionotus/popgen_vcfs/'\n",
    "os.chdir(outdir)\n",
    "!mkdir -p cmds logs vars\n",
    "\n",
    "for chrom in Ppol_sizes.keys():\n",
    "    cmd=('''module load vcftools\\n'''\n",
    "         '''vcf-merge '''\n",
    "         '''vars/WGS.DS.{chrom}.vcf.gz '''\n",
    "         '''vars/NUB.{chrom}.vcf.gz '''\n",
    "         '''vars/SEQ.{chrom}.vcf.gz > '''\n",
    "         '''vars/NUB.DS.{chrom}.vcf\\n'''\n",
    "         '''/n/home11/twooldridge/scripts/zip_index_vcf.sh vars/NUB.DS.{chrom}.vcf''').format(chrom=chrom)\n",
    "    slurm = make_slurm(run=True,id='%s.merge' % chrom,cmd_string = cmd,mem='1000',time='01:00:00')"
   ]
  },
  {
   "cell_type": "markdown",
   "metadata": {},
   "source": [
    "Finally, combine all chromosomes into one file"
   ]
  },
  {
   "cell_type": "code",
   "execution_count": 9,
   "metadata": {
    "collapsed": true
   },
   "outputs": [],
   "source": [
    "os.chdir('/n/holylfs03/LABS/hoekstra_lab/Users/brock/polionotus/popgen_vcfs/')\n",
    "vcf_string = ''\n",
    "for chrom in Ppol_sizes.keys():\n",
    "    vcf_string = vcf_string + 'vars/NUB.DS.%s.vcf.gz ' % chrom\n",
    "cmd = ('''module load vcftools\\n'''\n",
    "       '''vcf-concat %s > vars/NUB.DS.vcf\\n'''\n",
    "       '''/n/home11/twooldridge/scripts/zip_index_vcf.sh vars/NUB.DS.vcf''' % vcf_string )\n",
    "slurm = make_slurm(run=True,id='concat',cmd_string = cmd,mem='5000',time='01:00:00')"
   ]
  }
 ],
 "metadata": {
  "kernelspec": {
   "display_name": "Python 3",
   "language": "python",
   "name": "python3"
  },
  "language_info": {
   "codemirror_mode": {
    "name": "ipython",
    "version": 3
   },
   "file_extension": ".py",
   "mimetype": "text/x-python",
   "name": "python",
   "nbconvert_exporter": "python",
   "pygments_lexer": "ipython3",
   "version": "3.7.12"
  },
  "toc": {
   "base_numbering": 1,
   "nav_menu": {},
   "number_sections": true,
   "sideBar": true,
   "skip_h1_title": false,
   "title_cell": "Table of Contents",
   "title_sidebar": "Contents",
   "toc_cell": false,
   "toc_position": {
    "height": "calc(100% - 180px)",
    "left": "10px",
    "top": "150px",
    "width": "360px"
   },
   "toc_section_display": true,
   "toc_window_display": true
  }
 },
 "nbformat": 4,
 "nbformat_minor": 2
}
