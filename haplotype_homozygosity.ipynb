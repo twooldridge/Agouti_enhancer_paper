{
 "cells": [
  {
   "cell_type": "markdown",
   "metadata": {},
   "source": [
    "# Info"
   ]
  },
  {
   "cell_type": "markdown",
   "metadata": {},
   "source": [
    "This notebook contains the code for:<br>\n",
    "a) phasing the sequence-capture samples<br>\n",
    "b) calculating various haplotype homozygosity stats (e.g. IHS) with the R package REHH"
   ]
  },
  {
   "cell_type": "markdown",
   "metadata": {},
   "source": [
    "# Setup"
   ]
  },
  {
   "cell_type": "markdown",
   "metadata": {},
   "source": [
    "Python"
   ]
  },
  {
   "cell_type": "code",
   "execution_count": 1,
   "metadata": {
    "ExecuteTime": {
     "end_time": "2022-05-17T16:55:25.068404Z",
     "start_time": "2022-05-17T16:55:12.261596Z"
    }
   },
   "outputs": [],
   "source": [
    "%run '~/jupyter/py3_functions.py'\n",
    "%run '/n/home11/twooldridge/scripts/polionotus_project/polionotus_setup.py'\n",
    "setupWorkspace('/n/hoekstra_lab_tier1/Users/brock/polionotus/haplotypes')\n",
    "\n",
    "\n",
    "## R\n",
    "from rpy2 import rinterface\n",
    "#from jupyter_helpers import rpy2_autocompletion\n",
    "%load_ext rpy2.ipython"
   ]
  },
  {
   "cell_type": "markdown",
   "metadata": {},
   "source": [
    "R libraries & setup"
   ]
  },
  {
   "cell_type": "code",
   "execution_count": 8,
   "metadata": {
    "ExecuteTime": {
     "end_time": "2022-05-17T17:19:17.117986Z",
     "start_time": "2022-05-17T17:19:17.041674Z"
    }
   },
   "outputs": [],
   "source": [
    "%%R\n",
    "library(tidyverse)\n",
    "library(magrittr)\n",
    "library(rehh)\n",
    "source('~/scripts/R/R_3.5_functions.R')\n",
    "source('~/scripts/polionotus_project/R_polionotus_setup.R')\n",
    "setupWorkspace('/n/hoekstra_lab_tier1/Users/brock/polionotus/haplotypes')\n",
    "pops = ID_POP_MAP %>% pull(POP) %>% unique %>% .[!grepl(\"UNK|NUB\",.)]"
   ]
  },
  {
   "cell_type": "markdown",
   "metadata": {},
   "source": [
    "# fastPHASE"
   ]
  },
  {
   "cell_type": "markdown",
   "metadata": {},
   "source": [
    "## Input data"
   ]
  },
  {
   "cell_type": "markdown",
   "metadata": {},
   "source": [
    "Create input vcf. This is involves taking the vcf, and RETAINING:\n",
    "- All individuals\n",
    "- All sequenced loci (no X chromosome though)\n",
    "- Biallelc variants (SNP or INDEL)\n",
    "- MAF > 0.01\n",
    "- No more than 50% missing individuals at a given site"
   ]
  },
  {
   "cell_type": "code",
   "execution_count": 2,
   "metadata": {
    "ExecuteTime": {
     "end_time": "2022-05-17T17:00:55.565706Z",
     "start_time": "2022-05-17T17:00:55.441478Z"
    }
   },
   "outputs": [],
   "source": [
    "for chrom in Ppol_sizes.keys():\n",
    "    if chrom == 'chrX': continue\n",
    "    cmd = ('''module load bcftools vcftools\\n'''\n",
    "            '''bcftools view -r {chrom} -m2 -M2 /n/holylfs03/LABS/hoekstra_lab/Users/brock/polionotus/popgen_vcfs/vars/ALL.vcf.gz | '''\n",
    "            '''vcftools --vcf - --max-missing 0.5 --maf 0.01 --stdout --recode --recode-INFO-all | sed 's|\\\\t.:|\\\\t./.:|g'  > '''\n",
    "            '''input/all.vars.{chrom}.vcf\\n''').format(pop=pop,chrom=chrom)\n",
    "    slurm = make_slurm(run=False,id = '%s.select' % chrom,cmd_string=cmd,mem='1000',time='00:20:00')"
   ]
  },
  {
   "cell_type": "markdown",
   "metadata": {},
   "source": [
    "Convert vcf to fastPhase format using very helpful script from https://github.com/lstevison/vcf-conversion-tools"
   ]
  },
  {
   "cell_type": "code",
   "execution_count": 18,
   "metadata": {},
   "outputs": [
    {
     "name": "stdout",
     "output_type": "stream",
     "text": [
      "Reading in VCF file...done.\n",
      "Now printing output...done.\n",
      "Reading in VCF file...done.\n",
      "Now printing output...done.\n",
      "Reading in VCF file...done.\n",
      "Now printing output...done.\n",
      "Reading in VCF file...done.\n",
      "Now printing output...done.\n",
      "Reading in VCF file...done.\n",
      "Now printing output...done.\n",
      "Reading in VCF file...done.\n",
      "Now printing output...done.\n",
      "Reading in VCF file...done.\n",
      "Now printing output...done.\n",
      "Reading in VCF file...done.\n",
      "Now printing output...done.\n",
      "Reading in VCF file...done.\n",
      "Now printing output...done.\n",
      "Reading in VCF file...done.\n",
      "Now printing output...done.\n",
      "Reading in VCF file...done.\n",
      "Now printing output...done.\n",
      "Reading in VCF file...done.\n",
      "Now printing output...done.\n",
      "Reading in VCF file...done.\n",
      "Now printing output...done.\n",
      "Reading in VCF file...done.\n",
      "Now printing output...done.\n",
      "Reading in VCF file...done.\n",
      "Now printing output...done.\n",
      "Reading in VCF file...done.\n",
      "Now printing output...done.\n",
      "Reading in VCF file...done.\n",
      "Now printing output...done.\n",
      "Reading in VCF file...done.\n",
      "Now printing output...done.\n",
      "Reading in VCF file...done.\n",
      "Now printing output...done.\n",
      "Reading in VCF file...done.\n",
      "Now printing output...done.\n",
      "Reading in VCF file...done.\n",
      "Now printing output...done.\n",
      "Reading in VCF file...done.\n",
      "Now printing output...done.\n",
      "Reading in VCF file...done.\n",
      "Now printing output...done.\n"
     ]
    }
   ],
   "source": [
    "numsamples = subprocess.run('module load bcftools;bcftools query -l input/all.vcf | wc -l',shell=True,stdout=subprocess.PIPE,stderr=subprocess.PIPE)\n",
    "numsamples = numsamples.stdout.decode('utf-8').strip()\n",
    "for chrom in Ppol_sizes.keys():\n",
    "    if chrom == 'chrX': continue\n",
    "    cmd=('''~/Software/vcf-conversion-tools/vcf2fastPHASE.pl input/all.vars.{chrom}.vcf input/all.vars.{chrom}.inp input/all.vars.{chrom}.positions {numsamples} ''').format(numsamples=numsamples,chrom=chrom)\n",
    "    #!$cmd"
   ]
  },
  {
   "cell_type": "markdown",
   "metadata": {},
   "source": [
    "I also need to get population order, print on single tab-delimited row"
   ]
  },
  {
   "cell_type": "code",
   "execution_count": 19,
   "metadata": {
    "collapsed": true
   },
   "outputs": [],
   "source": [
    "%%bash\n",
    "module load bcftools\n",
    "POPSTRING=\"\"\n",
    "while read SAMPLE;do\n",
    "    POP=$(awk -v var=$SAMPLE '{OFS=\"\\t\"} ($1 == var) {print $2}' ../poplists/wgs_seq_pops_alternate.txt | cut -f2) ;\n",
    "    if [[ $POP == \"\" ]];then echo \"$SAMPLE\";if [[ $SAMPLE == *\"JNW\"* ]];then echo \"found JNW sample\";POP=\"JNW\";fi;fi;\n",
    "    POPSTRING=\"$POPSTRING\\t$POP\";\n",
    "done< <(bcftools query -l input/all.vars.chr1.vcf)\n",
    "echo -e $POPSTRING | sed 's/^\\t//' > popheader.txt"
   ]
  },
  {
   "cell_type": "markdown",
   "metadata": {},
   "source": [
    "These population labels need to be replaced with integers, so I construct a sed string to do this"
   ]
  },
  {
   "cell_type": "code",
   "execution_count": 20,
   "metadata": {
    "collapsed": true
   },
   "outputs": [],
   "source": [
    "sedstring = 'sed \\''\n",
    "for i,POP in enumerate(list(pop_sample_map.keys()) + ['JNW']):\n",
    "    i = i +1\n",
    "    sedstring = sedstring + 's/\\<%s\\>/%s/g;' % (POP,i)\n",
    "sedstring = sedstring + '\\''\n",
    "cmd = '%s popheader.txt > subpoplabels.inp' % sedstring\n",
    "!$cmd"
   ]
  },
  {
   "cell_type": "markdown",
   "metadata": {},
   "source": [
    "## Run fastPhase"
   ]
  },
  {
   "cell_type": "markdown",
   "metadata": {},
   "source": [
    "Now run fastPHASE on the whole dataset"
   ]
  },
  {
   "cell_type": "code",
   "execution_count": 3,
   "metadata": {
    "ExecuteTime": {
     "end_time": "2022-05-17T17:05:09.281720Z",
     "start_time": "2022-05-17T17:05:09.172220Z"
    }
   },
   "outputs": [],
   "source": [
    "for chrom in Ppol_sizes.keys():\n",
    "    if chrom == 'chrX': continue\n",
    "    cmd=('''~/Software/fastPHASE -T20 -H50 -F -oall.vars{chrom} -usubpoplabels.inp input/all.vars.{chrom}.inp\\n '''\n",
    "         '''mv all.vars.{chrom}* output/ ''').format(chrom=chrom)\n",
    "    slurm = make_slurm(run=False,id='fp.%s' % chrom,cmd_string=cmd,mem='120000',time='120:00:00')"
   ]
  },
  {
   "cell_type": "markdown",
   "metadata": {},
   "source": [
    "## Convert output back to vcf"
   ]
  },
  {
   "cell_type": "code",
   "execution_count": 4,
   "metadata": {
    "ExecuteTime": {
     "end_time": "2022-05-17T17:05:31.753349Z",
     "start_time": "2022-05-17T17:05:30.376772Z"
    }
   },
   "outputs": [],
   "source": [
    "numsamples = subprocess.run('module load bcftools;bcftools query -l input/all.vcf | wc -l',shell=True,stdout=subprocess.PIPE,stderr=subprocess.PIPE)\n",
    "numsamples = numsamples.stdout.decode('utf-8').strip()\n",
    "for chrom in Ppol_sizes.keys():\n",
    "    if chrom == 'chrX': continue\n",
    "    cmd=('''~/Software/vcf-conversion-tools/fastPHASE2VCF.pl '''\n",
    "         '''input/all.{chrom}.inp '''\n",
    "         '''output/all.{chrom}_hapguess_switch.out '''\n",
    "         '''input/all.{chrom}.vcf '''\n",
    "         '''output/{chrom}.phased.vcf '''\n",
    "         '''{chrom}\\n'''\n",
    "         '''/n/home11/twooldridge/scripts/zip_index_vcf.sh output/{chrom}.phased.vcf''').format(chrom=chrom)\n",
    "    #!$cmd"
   ]
  },
  {
   "cell_type": "markdown",
   "metadata": {},
   "source": [
    "Now split the phased vcf into different populations"
   ]
  },
  {
   "cell_type": "code",
   "execution_count": 5,
   "metadata": {
    "ExecuteTime": {
     "end_time": "2022-05-17T17:08:59.311759Z",
     "start_time": "2022-05-17T17:08:57.786466Z"
    }
   },
   "outputs": [],
   "source": [
    "for chrom in Ppol_sizes.keys():\n",
    "    if chrom == 'chrX': continue\n",
    "    for pop in pop_sample_map.keys():\n",
    "        #cmd = ('''module load vcftools\\n'''\n",
    "        #       '''vcftools --gzvcf output/{chrom}.phased.vcf.gz --keep ../poplists/{pop}.poplist.txt --stdout --recode --recode-INFO-all | sed 's/0|0:\\.:\\.:\\./.|\\.:\\.:\\./g' > output/{pop}.{chrom}.phased.vcf\\n'''\n",
    "        #       '''/n/home11/twooldridge/scripts/zip_index_vcf.sh output/{pop}.{chrom}.phased.vcf''').format(chrom=chrom,pop=pop)\n",
    "        cmd = ('''module load vcftools\\n'''\n",
    "               '''vcftools --gzvcf output/{chrom}.phased.vcf.gz --keep ../poplists/{pop}.poplist.txt --stdout --recode --recode-INFO-all > output/{pop}.{chrom}.phased.vcf\\n'''\n",
    "               '''/n/home11/twooldridge/scripts/misc/zip_index_vcf.sh output/{pop}.{chrom}.phased.vcf''').format(chrom=chrom,pop=pop)\n",
    "        slurm = make_slurm(echo=False,id='%s.%s.subset' % (pop,chrom),cmd_string=cmd,mem='500',time='00:02:00')"
   ]
  },
  {
   "cell_type": "markdown",
   "metadata": {},
   "source": [
    "# REHH"
   ]
  },
  {
   "cell_type": "markdown",
   "metadata": {},
   "source": [
    "Convert to rehh format using script I wrote (hap2rehh.py)"
   ]
  },
  {
   "cell_type": "code",
   "execution_count": 6,
   "metadata": {
    "ExecuteTime": {
     "end_time": "2022-05-17T17:09:49.685572Z",
     "start_time": "2022-05-17T17:09:47.900300Z"
    }
   },
   "outputs": [],
   "source": [
    "!mkdir -p rehh\n",
    "for chrom in Ppol_sizes.keys():\n",
    "    if chrom == 'chrX': continue\n",
    "    for pop,samples in pop_sample_map.items():\n",
    "        cmd = ('''python3 /n/home11/twooldridge/scripts/misc/rehh/hap2rehh.py '''\n",
    "               '''--vcf output/{pop}.{chrom}.phased.vcf.gz '''\n",
    "               '''--ref {ref_genome} '''\n",
    "               '''--out rehh/{pop}.{chrom}.refpol ''').format(ref_genome=ref_genome,pop=pop,chrom=chrom)\n",
    "        slurm = make_slurm(run=False,id='%s.%s.hap2rehh' % (pop,chrom),cmd_string=cmd,mem='1000',time='00:40:00')"
   ]
  },
  {
   "cell_type": "markdown",
   "metadata": {},
   "source": [
    "Read in haplotype files for REHH to partse, using the reference genome here as the ancestor just for simplicity's sake. When I run the same thing using an outgroup (e.g. P. maniculatus nubiterrae) or an inferred ancestral sequence, I get the same result in terms of absolute IHS values, just the polarity changes (e.g. -2.2 instead of 2.2). This is because ancestral vs. derived allele might change, but the homozygosity patterns stay the same"
   ]
  },
  {
   "cell_type": "code",
   "execution_count": 11,
   "metadata": {
    "ExecuteTime": {
     "end_time": "2022-05-19T12:52:34.778092Z",
     "start_time": "2022-05-19T12:52:02.026467Z"
    }
   },
   "outputs": [],
   "source": [
    "%%R\n",
    "pops = ID_POP_MAP %>% pull(POP) %>% unique %>% .[!grepl(\"UNK|NUB\",.)]\n",
    "#pops = c('POALB')\n",
    "haplohh =\n",
    "lapply(pops,\n",
    "       function(pop){hhlist = lapply(Ppol_chroms %>% .[!grepl(\"chrX\",.)] ,\n",
    "                                     function(chrom){\n",
    "                                             data2haplohh(hap_file = paste0('rehh/',pop,'.',chrom,'.refpol.thap'),\n",
    "                                             map_file = paste0('rehh/',pop,'.',chrom,'.refpol.inp'), \n",
    "                                             allele_coding = 'map', \n",
    "                                             haplotype.in.columns = TRUE,\n",
    "                                             verbose = FALSE)\n",
    "                            });names(hhlist) = Ppol_chroms %>% .[!grepl(\"chrX\",.)];return(hhlist)})\n",
    "names(haplohh) = pops"
   ]
  },
  {
   "cell_type": "markdown",
   "metadata": {},
   "source": [
    "Calculate IHS"
   ]
  },
  {
   "cell_type": "code",
   "execution_count": 13,
   "metadata": {
    "ExecuteTime": {
     "end_time": "2022-05-19T12:54:00.311125Z",
     "start_time": "2022-05-19T12:53:36.478171Z"
    }
   },
   "outputs": [
    {
     "name": "stdout",
     "output_type": "stream",
     "text": [
      "Discard focal markers with Minor Allele Frequency equal to or below 0.05 .\n",
      "11114 markers discarded.\n",
      "3226 markers remaining.\n",
      "Discard focal markers with Minor Allele Frequency equal to or below 0.05 .\n",
      "7625 markers discarded.\n",
      "6715 markers remaining.\n",
      "Discard focal markers with Minor Allele Frequency equal to or below 0.05 .\n",
      "10477 markers discarded.\n",
      "3863 markers remaining.\n",
      "Discard focal markers with Minor Allele Frequency equal to or below 0.05 .\n",
      "10410 markers discarded.\n",
      "3930 markers remaining.\n",
      "Discard focal markers with Minor Allele Frequency equal to or below 0.05 .\n",
      "8457 markers discarded.\n",
      "5883 markers remaining.\n",
      "Discard focal markers with Minor Allele Frequency equal to or below 0.05 .\n",
      "9401 markers discarded.\n",
      "4939 markers remaining.\n",
      "Discard focal markers with Minor Allele Frequency equal to or below 0.05 .\n",
      "10983 markers discarded.\n",
      "3357 markers remaining.\n",
      "Discard focal markers with Minor Allele Frequency equal to or below 0.05 .\n",
      "10872 markers discarded.\n",
      "3468 markers remaining.\n",
      "Discard focal markers with Minor Allele Frequency equal to or below 0.05 .\n",
      "11673 markers discarded.\n",
      "2667 markers remaining.\n",
      "Discard focal markers with Minor Allele Frequency equal to or below 0.05 .\n",
      "8175 markers discarded.\n",
      "6165 markers remaining.\n",
      "Discard focal markers with Minor Allele Frequency equal to or below 0.05 .\n",
      "9952 markers discarded.\n",
      "4388 markers remaining.\n",
      "Discard focal markers with Minor Allele Frequency equal to or below 0.05 .\n",
      "8226 markers discarded.\n",
      "6114 markers remaining.\n",
      "Discard focal markers with Minor Allele Frequency equal to or below 0.05 .\n",
      "10667 markers discarded.\n",
      "3673 markers remaining.\n"
     ]
    }
   ],
   "source": [
    "%%R\n",
    "scans =\n",
    "lapply(haplohh,\n",
    "       function(popdataset){lapply(popdataset, \n",
    "                            function(popbychrom){scan_hh(popbychrom,discard_integration_at_border = FALSE, maxgap = 2000, polarized=TRUE)})})\n",
    "\n",
    "popscans =\n",
    "lapply(scans, \n",
    "       function(popdataset){rbindlist(popdataset)})\n",
    "names(popscans) = pops\n",
    "\n",
    "\n",
    "# IHS\n",
    "ihs =\n",
    "lapply(popscans,function(popscan){ihh2ihs(popscan,min_maf = 0.05, p.adjust.method=\"none\")})\n",
    "names(ihs) = pops\n",
    "\n",
    "ihs = rbindlist(lapply(names(ihs),function(popname){ihs[[popname]]$ihs %>% mutate(pop=popname)}))"
   ]
  },
  {
   "cell_type": "markdown",
   "metadata": {},
   "source": [
    "## Albifrons"
   ]
  },
  {
   "cell_type": "markdown",
   "metadata": {
    "ExecuteTime": {
     "end_time": "2022-05-19T13:00:36.745805Z",
     "start_time": "2022-05-19T13:00:36.738106Z"
    }
   },
   "source": [
    "Any outliers around focal region in POALB?"
   ]
  },
  {
   "cell_type": "code",
   "execution_count": 20,
   "metadata": {
    "ExecuteTime": {
     "end_time": "2022-05-19T13:00:27.195036Z",
     "start_time": "2022-05-19T13:00:27.061343Z"
    }
   },
   "outputs": [
    {
     "name": "stdout",
     "output_type": "stream",
     "text": [
      "     CHR POSITION      IHS LOGPVALUE   pop\n",
      " 1: chr4  9844849 1.986423  1.328028 POALB\n",
      " 2: chr4  9844930 2.854648  2.365678 POALB\n",
      " 3: chr4  9844954 2.638249  2.079171 POALB\n",
      " 4: chr4  9845040 2.736975  2.207559 POALB\n",
      " 5: chr4  9845116 2.536478  1.950884 POALB\n",
      " 6: chr4  9845152 2.481483  1.883270 POALB\n",
      " 7: chr4  9845301 2.414497  1.802528 POALB\n",
      " 8: chr4  9845470 2.334834  1.708807 POALB\n",
      " 9: chr4  9846254 2.193923  1.549121 POALB\n",
      "10: chr4  9846286 2.835768  2.339935 POALB\n",
      "11: chr4  9846292 2.865009  2.379867 POALB\n",
      "12: chr4  9846293 2.732454  2.201595 POALB\n",
      "13: chr4  9846308 3.091811  2.701279 POALB\n",
      "14: chr4  9846815 3.282624  2.987814 POALB\n",
      "15: chr4  9846908 3.756085  3.762979 POALB\n",
      "16: chr4  9846954 3.047962  2.637519 POALB\n",
      "17: chr4  9846977 2.419287  1.808242 POALB\n",
      "18: chr4  9847023 2.563728  1.984830 POALB\n"
     ]
    }
   ],
   "source": [
    "%%R\n",
    "ihs %>% \n",
    "    filter(pop == \"POALB\",CHR == \"chr4\", POSITION > 9840000, POSITION < 9850000, IHS > 1.96)"
   ]
  },
  {
   "cell_type": "markdown",
   "metadata": {},
   "source": [
    "Distribution of IHS values from full dataset, compared to pPC1-associated SNPs"
   ]
  },
  {
   "cell_type": "code",
   "execution_count": 31,
   "metadata": {
    "ExecuteTime": {
     "end_time": "2022-05-19T13:08:04.029820Z",
     "start_time": "2022-05-19T13:08:03.834457Z"
    }
   },
   "outputs": [
    {
     "name": "stderr",
     "output_type": "stream",
     "text": [
      "R[write to console]: `stat_bin()` using `bins = 30`. Pick better value with `binwidth`.\n",
      "\n"
     ]
    },
    {
     "data": {
      "image/png": "[encoded data removed]"
     },
     "metadata": {},
     "output_type": "display_data"
    }
   ],
   "source": [
    "%%R\n",
    "s = ihs %>% filter(pop == \"POALB\")\n",
    "#s %<>% filter(POSITION %in% c(9845152,9845301,9846908))\n",
    "ggplot() +\n",
    "    geom_histogram(data = s, aes(x = IHS), color = 'black', fill = 'gray') +\n",
    "    geom_vline(data = s %>% filter(POSITION %in% c(9845152,9845301,9846908)), aes(xintercept = IHS), lty = 2, color = 'red' ) +\n",
    "    theme_classic()"
   ]
  },
  {
   "cell_type": "markdown",
   "metadata": {},
   "source": [
    "Haplotype homozygosity at top associated SNP"
   ]
  },
  {
   "cell_type": "code",
   "execution_count": 15,
   "metadata": {
    "ExecuteTime": {
     "end_time": "2022-05-19T12:55:05.560955Z",
     "start_time": "2022-05-19T12:55:05.501480Z"
    }
   },
   "outputs": [
    {
     "name": "stdout",
     "output_type": "stream",
     "text": [
      "    CHR POSITION    FREQ_A    FREQ_D NHAPLO_A NHAPLO_D    IHH_A    IHH_D\n",
      "1: chr4  9845301 0.8630952 0.1369048      290       46 4175.339 1163.428\n",
      "        IES     INES\n",
      "1: 2945.445 4091.113\n"
     ]
    }
   ],
   "source": [
    "%%R\n",
    "head(popscans[['POALB']] %>% filter(POSITION == 9845301))"
   ]
  },
  {
   "cell_type": "markdown",
   "metadata": {},
   "source": [
    "EHH from focal  SNP. Light allele is coded as 'A' (Ancestral)"
   ]
  },
  {
   "cell_type": "code",
   "execution_count": 17,
   "metadata": {
    "ExecuteTime": {
     "end_time": "2022-05-19T12:55:41.855823Z",
     "start_time": "2022-05-19T12:55:41.451389Z"
    }
   },
   "outputs": [
    {
     "data": {
      "image/png": "[encoded data removed]"
     },
     "metadata": {},
     "output_type": "display_data"
    }
   ],
   "source": [
    "%%R\n",
    "focal_ehh = calc_ehh(haplohh[[\"POALB\"]][[\"chr4\"]], mrk='chr4_9845301',limehh=0.01)\n",
    "ehhplottable = focal_ehh$ehh %>% pivot_longer(-POSITION, names_to = \"EHH\", values_to = \"VALUE\")\n",
    "\n",
    "ggplot(ehhplottable) +\n",
    "    geom_point(aes(x=POSITION,y=VALUE,shape = EHH),size=2) +\n",
    "    geom_line(aes(x=POSITION,y=VALUE, linetype= EHH)) +\n",
    "    scale_shape_manual(values=c(15,0)) +\n",
    "    ylab(\"EHH\") +\n",
    "    xlab(\"Position (bp)\") +\n",
    "    theme_classic() +\n",
    "    #ggtitle(\"Extended haplotype homozygosity (EHH) around 9,845,301 bp\") +\n",
    "    theme(legend.title=element_blank(),legend.position = c(0.15,0.8), plot.title = element_text(size=10,hjust = 0.5)) +\n",
    "    xlim(c(9840000,9850000)) +\n",
    "    guides(linetype=\"none\")"
   ]
  },
  {
   "cell_type": "markdown",
   "metadata": {},
   "source": [
    "Bifurcation diagrams"
   ]
  },
  {
   "cell_type": "code",
   "execution_count": 18,
   "metadata": {
    "ExecuteTime": {
     "end_time": "2022-05-19T12:57:22.214261Z",
     "start_time": "2022-05-19T12:57:21.565553Z"
    }
   },
   "outputs": [
    {
     "data": {
      "image/png": "[encoded data removed]"
     },
     "metadata": {},
     "output_type": "display_data"
    }
   ],
   "source": [
    "%%R\n",
    "f <- calc_furcation(haplohh[[\"POALB\"]][4][[1]], mrk = \"chr4_9846908\")\n",
    "options(repr.plot.height=5,repr.plot.width=5)\n",
    "buffer = 2000\n",
    "plot(f,\n",
    "     # increase line width\n",
    "     lwd = 0.1,\n",
    "     # set habplotype identifiers as labels\n",
    "     hap.names = hap.names(haplohh[[\"POALB\"]][4][[1]]),\n",
    "     # find a place for the legend ...\n",
    "     #legend.xy.coords = c(1, 0.2),\n",
    "     xlim = c(9846908-buffer,9846908+buffer),\n",
    "     col = wes_palette(\"Zissou1\")[c(4,1)],\n",
    "     main = \"\",\n",
    "     #xlab = \"\",\n",
    "     #axes = FALSE\n",
    ")"
   ]
  },
  {
   "cell_type": "markdown",
   "metadata": {},
   "source": [
    "Albifrons IHS outliers (Z-score > 1.96) around focal region:"
   ]
  },
  {
   "cell_type": "code",
   "execution_count": 19,
   "metadata": {
    "ExecuteTime": {
     "end_time": "2022-05-19T12:59:26.220287Z",
     "start_time": "2022-05-19T12:59:26.090070Z"
    }
   },
   "outputs": [
    {
     "name": "stdout",
     "output_type": "stream",
     "text": [
      "     CHR POSITION      IHS LOGPVALUE   pop\n",
      " 1: chr4  9844849 1.986423  1.328028 POALB\n",
      " 2: chr4  9844930 2.854648  2.365678 POALB\n",
      " 3: chr4  9844954 2.638249  2.079171 POALB\n",
      " 4: chr4  9845040 2.736975  2.207559 POALB\n",
      " 5: chr4  9845116 2.536478  1.950884 POALB\n",
      " 6: chr4  9845152 2.481483  1.883270 POALB\n",
      " 7: chr4  9845301 2.414497  1.802528 POALB\n",
      " 8: chr4  9845470 2.334834  1.708807 POALB\n",
      " 9: chr4  9846254 2.193923  1.549121 POALB\n",
      "10: chr4  9846286 2.835768  2.339935 POALB\n",
      "11: chr4  9846292 2.865009  2.379867 POALB\n",
      "12: chr4  9846293 2.732454  2.201595 POALB\n",
      "13: chr4  9846308 3.091811  2.701279 POALB\n",
      "14: chr4  9846815 3.282624  2.987814 POALB\n",
      "15: chr4  9846908 3.756085  3.762979 POALB\n",
      "16: chr4  9846954 3.047962  2.637519 POALB\n",
      "17: chr4  9846977 2.419287  1.808242 POALB\n",
      "18: chr4  9847023 2.563728  1.984830 POALB\n"
     ]
    }
   ],
   "source": [
    "%%R\n",
    "ihs %>% \n",
    "    filter(pop == \"POALB\",CHR == \"chr4\", POSITION > 9840000, POSITION < 9850000, IHS > 1.96)"
   ]
  },
  {
   "cell_type": "markdown",
   "metadata": {},
   "source": [
    "## Figure 5 left side"
   ]
  },
  {
   "cell_type": "code",
   "execution_count": 35,
   "metadata": {
    "ExecuteTime": {
     "end_time": "2022-05-19T13:09:49.236693Z",
     "start_time": "2022-05-19T13:09:48.798546Z"
    }
   },
   "outputs": [
    {
     "data": {
      "image/png": "[encoded data removed]"
     },
     "metadata": {},
     "output_type": "display_data"
    }
   ],
   "source": [
    "%%R\n",
    "visbuffer = 5e2\n",
    "gene_chrom = as.character(agouti$chr)\n",
    "gene_start = agouti$start\n",
    "gene_end = agouti$end\n",
    "\n",
    "ihsplottable = ihs %>% filter(pop %in% c(\"POALB\"), CHR == gene_chrom, POSITION > gene_start, POSITION < gene_end)\n",
    "sigpos = c(9845152,9845301,9846908)\n",
    "ihsplottable %<>% mutate(GWAS = ifelse(POSITION %in% sigpos,\"Y\",\"N\"))\n",
    "\n",
    "focal_ehh = calc_ehh(haplohh[[\"POALB\"]][[\"chr4\"]], mrk='chr4_9845301',limehh=0.01)\n",
    "ehhplottable = focal_ehh$ehh %>% dplyr::rename(\"Reference\"=\"EHH_A\",\"Alternate\"=\"EHH_D\") %>% pivot_longer(-POSITION, names_to = \"EHH\", values_to = \"VALUE\")\n",
    "\n",
    "ptsize = 3\n",
    "ihsplot = \n",
    "    ggplot() +\n",
    "    geom_point(data = ihsplottable %>% filter(GWAS == \"N\"), aes(x=POSITION, y = IHS), alpha = 0.7, color = \"black\", size = ptsize) +\n",
    "    geom_point(data = ihsplottable %>% filter(GWAS == \"Y\"), aes(x=POSITION, y = IHS), alpha = 0.7, color = \"red\", size = ptsize) +\n",
    "    geom_hline(aes(yintercept=1.96),lty=2) +\n",
    "    geom_hline(aes(yintercept=-1.96),lty=2) +\n",
    "    #geom_rect(data = outliers %>% filter(pop %in% plotpops) %>% dplyr::select(CHR,START,END,pop) %>% distinct,aes(xmin=START+1 - visbuffer,xmax=END+ visbuffer,ymin=-Inf,ymax=Inf, fill = pop),alpha=0.2,size=10) +\n",
    "    theme_classic() +\n",
    "    #ggtitle(\"Integrated haplotype score (IHS) for POALB\") +\n",
    "    theme(plot.title = element_text(size=10,hjust = 0.5), axis.text.x = element_blank()) +\n",
    "    xlab(\"\") + \n",
    "    ylim(c(-4,4)) +\n",
    "    xlim(c(9840000,9850000))\n",
    "\n",
    "ehhplot = \n",
    "    ggplot(ehhplottable) +\n",
    "    geom_point(aes(x=POSITION,y=VALUE,shape = EHH),size=2) +\n",
    "    geom_line(aes(x=POSITION,y=VALUE, linetype= EHH)) +\n",
    "    scale_shape_manual(values=c(15,0),labels = c(\"Dark allele\",\"Light allele\")) +\n",
    "    ylab(\"EHH\") +\n",
    "    xlab(\"Position (bp)\") +\n",
    "    theme_classic() +\n",
    "    #ggtitle(\"Extended haplotype homozygosity (EHH) around 9,845,301 bp\") +\n",
    "    theme(legend.title=element_blank(),legend.position = c(0.15,0.8), plot.title = element_text(size=10,hjust = 0.5)) +\n",
    "    xlim(c(9840000,9850000)) +\n",
    "    guides(linetype=\"none\")\n",
    "\n",
    "plot_grid(ihsplot,ehhplot,ncol=1, align = \"v\", axis = \"lr\", rel_heights = c(1,1))\n",
    "#ggsave('~/temp/polionotus/haplotypeplot.svg')"
   ]
  }
 ],
 "metadata": {
  "kernelspec": {
   "display_name": "Python 3",
   "language": "python",
   "name": "python3"
  },
  "language_info": {
   "codemirror_mode": {
    "name": "ipython",
    "version": 3
   },
   "file_extension": ".py",
   "mimetype": "text/x-python",
   "name": "python",
   "nbconvert_exporter": "python",
   "pygments_lexer": "ipython3",
   "version": "3.7.12"
  },
  "toc": {
   "base_numbering": 1,
   "nav_menu": {},
   "number_sections": true,
   "sideBar": true,
   "skip_h1_title": false,
   "title_cell": "Table of Contents",
   "title_sidebar": "Contents",
   "toc_cell": false,
   "toc_position": {
    "height": "calc(100% - 180px)",
    "left": "10px",
    "top": "150px",
    "width": "324px"
   },
   "toc_section_display": true,
   "toc_window_display": true
  }
 },
 "nbformat": 4,
 "nbformat_minor": 2
}
