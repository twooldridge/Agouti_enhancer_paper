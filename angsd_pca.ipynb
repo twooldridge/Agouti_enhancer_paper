{
 "cells": [
  {
   "cell_type": "markdown",
   "metadata": {},
   "source": [
    "# Info"
   ]
  },
  {
   "cell_type": "markdown",
   "metadata": {},
   "source": [
    "This notebook contains the code for:\n",
    "- analyzing sequencing data (both WGS and sequence capture) with ANGSD\n",
    "- generating genetic PCAs"
   ]
  },
  {
   "cell_type": "markdown",
   "metadata": {},
   "source": [
    "# Setup"
   ]
  },
  {
   "cell_type": "markdown",
   "metadata": {},
   "source": [
    "Python"
   ]
  },
  {
   "cell_type": "code",
   "execution_count": 2,
   "metadata": {
    "ExecuteTime": {
     "end_time": "2022-05-19T13:23:42.049640Z",
     "start_time": "2022-05-19T13:23:25.673942Z"
    }
   },
   "outputs": [],
   "source": [
    "## Import some useful functions and data ## \n",
    "%run '~/jupyter/py3_functions.py'\n",
    "%run '~/scripts/polionotus_project/polionotus_setup.py'\n",
    "setupWorkspace('/n/hoekstra_lab_tier1/Users/brock/polionotus/angsd')\n",
    "\n",
    "from rpy2 import rinterface\n",
    "#from jupyter_helpers import rpy2_autocompletion\n",
    "%load_ext rpy2.ipython"
   ]
  },
  {
   "cell_type": "markdown",
   "metadata": {},
   "source": [
    "R"
   ]
  },
  {
   "cell_type": "code",
   "execution_count": 4,
   "metadata": {
    "ExecuteTime": {
     "end_time": "2022-05-19T13:24:14.228442Z",
     "start_time": "2022-05-19T13:24:14.211540Z"
    }
   },
   "outputs": [],
   "source": [
    "%%R\n",
    "library(tidyverse)\n",
    "library(magrittr)\n",
    "library(data.table)\n",
    "library(ggplot2)\n",
    "library(gridExtra)\n",
    "library(wesanderson)\n",
    "library(RColorBrewer)\n",
    "library(ggrepel)\n",
    "library(repr)\n",
    "library(ape)\n",
    "library(ggtree)\n",
    "library(treeio)\n",
    "setwd(\"/n/hoekstra_lab_tier1/Users/brock/polionotus/angsd\")\n",
    "hab_colors = wes_palette(\"Zissou1\")[c(1,4)]\n",
    "names(hab_colors) = c(\"LO\",\"PO\")"
   ]
  },
  {
   "cell_type": "markdown",
   "metadata": {},
   "source": [
    "# Generate SAF files from bams\n",
    "Bams are filtered by:\n",
    "1. mapping quality (>=30)\n",
    "2. Base quality (>=20)\n",
    "3. C 50 (higher map Q for excessive mismatches)\n",
    "4. BAQ 1 (base alignment quality)"
   ]
  },
  {
   "cell_type": "markdown",
   "metadata": {},
   "source": [
    "## Standard - generate Saf files\n",
    "Currently running this as unfolded for Ppol, at seqcapture sites ONLY"
   ]
  },
  {
   "cell_type": "code",
   "execution_count": 10,
   "metadata": {
    "ExecuteTime": {
     "end_time": "2022-05-13T15:55:16.454323Z",
     "start_time": "2022-05-13T15:55:16.263008Z"
    }
   },
   "outputs": [
    {
     "name": "stdout",
     "output_type": "stream",
     "text": [
      "#!/bin/bash\n",
      "#SBATCH -p hoekstra,commons,shared\n",
      "#SBATCH -t 48:00:00\n",
      "#SBATCH --mem=40000\n",
      "#SBATCH -n 16\n",
      "#SBATCH --array=1-1%1\n",
      "#SBATCH -e ./logs/LO.bam2saf.e\n",
      "#SBATCH -o ./logs/LO.bam2saf.o\n",
      "#SBATCH -c 1\n",
      "#SBATCH -N 1\n",
      "#SBATCH -J LO.bam2saf\n",
      "\n",
      "\n",
      "~/Software/angsd/angsd -gl 2 -doSaf 1 -fold 0 -minMapQ 30 -minQ 20 -C 50 -baq 1 -anc /n/hoekstra_lab_tier1/Lab/PUBLIC/GENOMES/Ppol1.3_chr_NCBI/Ppol_1.3.3.chromosomes-unplaced_scaffolds.fasta -ref /n/hoekstra_lab_tier1/Lab/PUBLIC/GENOMES/Ppol1.3_chr_NCBI/Ppol_1.3.3.chromosomes-unplaced_scaffolds.fasta -bam LO.bamlist.txt -P 16 -rf /n/hoekstra_lab_tier1/Users/akautt/projects/Peromyscus_polionotus/lists/all_seqcap.minreads_5_in_minsamples_50.wo_exons_1kb_padding.regions.txt -out seqcap/LO\n",
      "\n",
      "\n"
     ]
    }
   ],
   "source": [
    "!mkdir -p seqcap\n",
    "for pop in ['LO']:\n",
    "    cmd = ('''~/Software/angsd/angsd -gl 2 -doSaf 1 -fold 0 '''\n",
    "           '''-minMapQ 30 -minQ 20 -C 50 -baq 1 '''\n",
    "           '''-anc {ref_genome} ''' \n",
    "           '''-ref {ref_genome} '''\n",
    "           '''-bam {pop}.bamlist.txt '''\n",
    "           '''-P 16 -rf {seqcap_regions_file} '''\n",
    "           '''-out seqcap/{pop}\\n''').format(seqcap_regions_file=seqcap_regions_file,ref_genome=ref_genome,pop=pop)\n",
    "    slurm = make_slurm(echo=True,id='%s.bam2saf' % (pop),cmd_string=cmd,mem='40000',time='48:00:00',n=16)"
   ]
  },
  {
   "cell_type": "markdown",
   "metadata": {},
   "source": [
    "## Straight to beagle"
   ]
  },
  {
   "cell_type": "markdown",
   "metadata": {},
   "source": [
    "Now do this for all populations (and Nubiterrae)"
   ]
  },
  {
   "cell_type": "code",
   "execution_count": 68,
   "metadata": {},
   "outputs": [
    {
     "name": "stdout",
     "output_type": "stream",
     "text": [
      "Submitted batch job 56181347\n"
     ]
    }
   ],
   "source": [
    "!mkdir -p seqcap\n",
    "cmd = ('''~/Software/angsd/angsd -gl 2 -doGlf 2  -doMajorMinor 1 -doMaf 1 -SNP_pval 1e-6 '''\n",
    "       '''-bam all.bamlist.txt '''\n",
    "       '''-nThreads 36 -rf {seqcap_regions_file} -out seqcap/all\\n''').format(seqcap_regions_file=seqcap_regions_file)\n",
    "slurm = make_slurm(run=True,id='all.bam2beagle',cmd_string=cmd,mem='160000',time='72:00:00',n=36)"
   ]
  },
  {
   "cell_type": "markdown",
   "metadata": {},
   "source": [
    "Run for individual populations, don't bother separating by chromosome"
   ]
  },
  {
   "cell_type": "code",
   "execution_count": 6,
   "metadata": {
    "collapsed": true
   },
   "outputs": [],
   "source": [
    "for pop in seqcapture_pops:\n",
    "    cmd = ('''~/Software/angsd/angsd -gl 2 -doSaf 1 -fold 0 '''\n",
    "           '''-minMapQ 30 -minQ 20 -C 50 -baq 1 '''\n",
    "           '''-anc {anc_genome} ''' \n",
    "           '''-ref {ref_genome} '''\n",
    "           '''-bam {pop}.bamlist.txt '''\n",
    "           '''-P 24 -out bam_based/{pop}\\n''').format(pop=pop,ref_genome=ref_genome,anc_genome=anc_genome)\n",
    "    slurm = make_slurm(run=True,id='%s.bam2saf' % (pop),cmd_string=cmd,mem='40000',time='120:00:00',n=24)"
   ]
  },
  {
   "cell_type": "markdown",
   "metadata": {},
   "source": [
    "# SFS\n",
    "## 1D SFS\n",
    "Get global SFS from each pop"
   ]
  },
  {
   "cell_type": "code",
   "execution_count": 71,
   "metadata": {},
   "outputs": [
    {
     "name": "stdout",
     "output_type": "stream",
     "text": [
      "Submitted batch job 56239138\n",
      "Submitted batch job 56239139\n"
     ]
    }
   ],
   "source": [
    "for pop in ['PO','LO']:\n",
    "    sfs_cmd  = '~/Software/angsd_new/misc/realSFS seqcap/{pop}.saf.idx -P 12 > seqcap/{pop}.global.sfs'.format(pop=pop)\n",
    "    slurm = make_slurm(run=True,id=('%s.sfs' % pop),cmd_string=sfs_cmd,mem='10000',time='72:00:00',n=12)"
   ]
  },
  {
   "cell_type": "markdown",
   "metadata": {},
   "source": [
    "## 2D SFS\n",
    "Pairwise SFS for WGS data"
   ]
  },
  {
   "cell_type": "code",
   "execution_count": 30,
   "metadata": {},
   "outputs": [
    {
     "name": "stdout",
     "output_type": "stream",
     "text": [
      "#!/bin/bash\n",
      "#SBATCH -p hoekstra,commons\n",
      "#SBATCH -t 300:00:00\n",
      "#SBATCH --mem=150000\n",
      "#SBATCH -n 24\n",
      "#SBATCH -e ./logs/PO.LO.sfs.e\n",
      "#SBATCH -o ./logs/PO.LO.sfs.o\n",
      "#SBATCH -c 1\n",
      "#SBATCH -N 1\n",
      "#SBATCH -J PO.LO.sfs\n",
      "\n",
      "~/Software/angsd_new/misc/realSFS bam_based/PO.saf.idx bam_based/LO.saf.idx -nSites 10000000 -bootstrap 100 -P 24 > bam_based/PO.LO.boot.sfs\n",
      "\n"
     ]
    }
   ],
   "source": [
    "pop1=\"PO\"\n",
    "pop2=\"LO\"\n",
    "sfs_cmd = '~/Software/angsd_new/misc/realSFS bam_based/{pop1}.saf.idx bam_based/{pop2}.saf.idx -nSites 10000000 -bootstrap 100 -P 24 > bam_based/{pop1}.{pop2}.boot.sfs'.format(pop1=pop1,pop2=pop2)\n",
    "slurm = make_slurm(echo=True,id=('%s.%s.sfs' % (pop1,pop2)),cmd_string=sfs_cmd,mem='150000',time='300:00:00',n=24,p='hoekstra,commons')"
   ]
  },
  {
   "cell_type": "markdown",
   "metadata": {},
   "source": [
    "Pairwise SFS with sequence capture data"
   ]
  },
  {
   "cell_type": "code",
   "execution_count": 78,
   "metadata": {},
   "outputs": [
    {
     "name": "stdout",
     "output_type": "stream",
     "text": [
      "Submitted batch job 56240005\n",
      "Submitted batch job 56240016\n",
      "Submitted batch job 56240017\n",
      "Submitted batch job 56240028\n",
      "Submitted batch job 56240049\n",
      "Submitted batch job 56240080\n",
      "Submitted batch job 56240091\n",
      "Submitted batch job 56240106\n",
      "Submitted batch job 56240121\n",
      "Submitted batch job 56240162\n",
      "Submitted batch job 56240192\n",
      "Submitted batch job 56240223\n",
      "Submitted batch job 56240234\n"
     ]
    }
   ],
   "source": [
    "pairwise_combos = list(itertools.combinations(flatten([pops,seqcapture_pops]),2))\n",
    "for pair in pairwise_combos:\n",
    "    pop1,pop2 = pair\n",
    "    sfs_cmd = '~/Software/angsd_new/misc/realSFS seqcap/{pop1}.saf.idx seqcap/{pop2}.saf.idx -P 8 > seqcap/{pop1}.{pop2}.sfs'.format(pop1=pop1,pop2=pop2)\n",
    "    slurm = make_slurm(echo = True,id=('%s.%s.sfs' % (pop1,pop2)),cmd_string=sfs_cmd,mem='20000',time='100:00:00',n=8,p='hoekstra,shared,commons')"
   ]
  },
  {
   "cell_type": "markdown",
   "metadata": {},
   "source": [
    "# Get thetas"
   ]
  },
  {
   "cell_type": "markdown",
   "metadata": {},
   "source": [
    "Again, using unfolded folded approach"
   ]
  },
  {
   "cell_type": "markdown",
   "metadata": {},
   "source": [
    "First, I want to get a single-line, global SFS as input. I can do this by summing up the multi-line SFS produced by moving in windows of 10e6 sites across the genome"
   ]
  },
  {
   "cell_type": "code",
   "execution_count": 29,
   "metadata": {
    "collapsed": true
   },
   "outputs": [],
   "source": [
    "for pop in seqcapture_pops:\n",
    "    r = np.loadtxt('/n/hoekstra_lab_tier1/Users/brock/polionotus/angsd/bam_based/%s.sfs' % pop)\n",
    "    s = np.sum(r,axis=0)\n",
    "    np.savetxt('bam_based/%s.single.sfs' % pop,s,newline = \" \")"
   ]
  },
  {
   "cell_type": "code",
   "execution_count": 4,
   "metadata": {},
   "outputs": [
    {
     "name": "stdout",
     "output_type": "stream",
     "text": [
      "PO\n",
      "Submitted batch job 56907294\n",
      "LO\n",
      "Submitted batch job 56907298\n",
      "ABM\n",
      "CBM\n",
      "PKBM\n",
      "POALB\n",
      "POPOL\n",
      "POSUB_O\n",
      "POSUB_A\n",
      "POSUB_T\n",
      "SABM\n",
      "SEBM\n",
      "SRIBM\n",
      "NUB\n"
     ]
    }
   ],
   "source": [
    "os.chdir('/n/hoekstra_lab_tier1/Users/brock/polionotus/angsd/')\n",
    "for pop in flatten([pops,seqcapture_pops]):\n",
    "    print(pop)\n",
    "    if pop not in ['PO','LO']: continue\n",
    "    thetas_cmd = ('''~/Software/angsd/angsd '''\n",
    "                  '''-bam {pop}.bamlist.txt '''\n",
    "                  '''-out seqcap/{pop} '''\n",
    "                  '''-doThetas 1 '''\n",
    "                  '''-doSaf 1 '''\n",
    "                  '''-fold 0 '''\n",
    "                  '''-pest seqcap/{pop}.global.sfs '''\n",
    "                  '''-anc {anc_genome} '''\n",
    "                  ''' -ref {ref_genome} '''\n",
    "                  '''-GL 2 '''\n",
    "                  '''-P 12 ''').format(pop=pop,anc_genome=anc_genome,ref_genome=ref_genome)\n",
    "    slurm = make_slurm(echo=True,id='%s.thetas' % (pop),cmd_string=thetas_cmd,mem='120000',time='167:00:00',n=12)"
   ]
  },
  {
   "cell_type": "code",
   "execution_count": 12,
   "metadata": {},
   "outputs": [
    {
     "name": "stdout",
     "output_type": "stream",
     "text": [
      "Submitted batch job 57546673\n",
      "Submitted batch job 57546675\n",
      "Submitted batch job 57546686\n",
      "Submitted batch job 57546697\n",
      "Submitted batch job 57546698\n",
      "Submitted batch job 57546699\n",
      "Submitted batch job 57546700\n",
      "Submitted batch job 57546701\n",
      "Submitted batch job 57546702\n",
      "Submitted batch job 57546703\n",
      "Submitted batch job 57546704\n",
      "Submitted batch job 57546705\n",
      "Submitted batch job 57546706\n",
      "Submitted batch job 57546707\n"
     ]
    }
   ],
   "source": [
    "os.chdir('/n/hoekstra_lab_tier1/Users/brock/polionotus/angsd/')\n",
    "for pop in flatten([pops,seqcapture_pops]):\n",
    "    theta_windows_cmd = ('''~/Software/angsd/misc/thetaStat do_stat '''\n",
    "                            '''seqcap/{pop}.thetas.idx -win 1000 -step 500 -outnames seqcap/{pop}.theta.window.gz''').format(pop=pop,chrom=chrom)\n",
    "    slurm = make_slurm(echo=True,id='%s.theta.window' % (pop),cmd_string=theta_windows_cmd,mem='10000',time='00:20:00',p='hoekstra,shared')"
   ]
  },
  {
   "cell_type": "markdown",
   "metadata": {},
   "source": [
    "Filter windowed results by sequenced regions (it's bullshit that I even need to do this)"
   ]
  },
  {
   "cell_type": "code",
   "execution_count": 21,
   "metadata": {},
   "outputs": [
    {
     "name": "stdout",
     "output_type": "stream",
     "text": [
      "Submitted batch job 57556640\n",
      "Submitted batch job 57556641\n",
      "Submitted batch job 57556642\n",
      "Submitted batch job 57556643\n",
      "Submitted batch job 57556644\n",
      "Submitted batch job 57556645\n",
      "Submitted batch job 57556646\n",
      "Submitted batch job 57556648\n",
      "Submitted batch job 57556649\n",
      "Submitted batch job 57556650\n",
      "Submitted batch job 57556651\n",
      "Submitted batch job 57556652\n",
      "Submitted batch job 57556653\n",
      "Submitted batch job 57556655\n"
     ]
    }
   ],
   "source": [
    "p2 = \"<(sed 's/:/\\\\t/;s/-/\\\\t/' %s)\" % seqcap_regions_file\n",
    "for pop in flatten([pops,seqcapture_pops]):\n",
    "    FILE = 'seqcap/%s.theta.window.gz.pestPG' % pop\n",
    "    p1 = ('''<(paste <(awk '{{OFS=\"\\\\t\"}} {{print $2,$3-1,$3}}' {FILE} | tail -n+2) <(cut -f4- {FILE} | tail -n+2))''').format(FILE=FILE)\n",
    "    outfile = 'seqcap/%s.theta.regioned' % pop\n",
    "    cmd = ('''bedtools intersect -wa -wb -a {p1} -b {p2} > {outfile}''').format(p1=p1,p2=p2,outfile=outfile)\n",
    "    slurm = make_slurm(run=True,id='%s.thetafilter' % pop,cmd_string=cmd,mem='5000',time='00:20:00')"
   ]
  },
  {
   "cell_type": "markdown",
   "metadata": {},
   "source": [
    "# Fst"
   ]
  },
  {
   "cell_type": "markdown",
   "metadata": {},
   "source": [
    "With seqcapture data"
   ]
  },
  {
   "cell_type": "code",
   "execution_count": 98,
   "metadata": {},
   "outputs": [
    {
     "name": "stdout",
     "output_type": "stream",
     "text": [
      "Submitted batch job 56251110\n",
      "Submitted batch job 56251111\n",
      "Submitted batch job 56251112\n",
      "Submitted batch job 56251113\n",
      "Submitted batch job 56251114\n",
      "Submitted batch job 56251115\n",
      "Submitted batch job 56251116\n",
      "Submitted batch job 56251117\n",
      "Submitted batch job 56251119\n",
      "Submitted batch job 56251120\n",
      "Submitted batch job 56251121\n",
      "Submitted batch job 56251124\n",
      "Submitted batch job 56251128\n"
     ]
    }
   ],
   "source": [
    "# The code below assumes that the 2dsfs has already been calculated\n",
    "pairwise_combos = list(itertools.combinations(flatten([pops,seqcapture_pops]),2))\n",
    "for pair in pairwise_combos:\n",
    "    if 'LO' not in pair: continue\n",
    "    pop1, pop2 = pair\n",
    "    fst_idx_cmd = ('''~/Software/angsd_new/misc/realSFS fst index '''\n",
    "               '''seqcap/{pop1}.saf.idx seqcap/{pop2}.saf.idx '''\n",
    "               '''-sfs seqcap/{pop1}.{pop2}.sfs '''\n",
    "               '''-fstout seqcap/{pop1}.{pop2}\\n''').format(pop1=pop1,pop2=pop2)\n",
    "    fst_global_cmd = ('''~/Software/angsd_new/misc/realSFS fst stats seqcap/{pop1}.{pop2}.fst.idx > seqcap/{pop1}.{pop2}.fst.global\\n''').format(pop1=pop1,pop2=pop2)\n",
    "    fst_window_cmd = ('''~/Software/angsd_new/misc/realSFS fst stats2 seqcap/{pop1}.{pop2}.fst.idx -win 1000 -step 500 > seqcap/{pop1}.{pop2}.fst.100kwindow\\n''').format(pop1=pop1,pop2=pop2)\n",
    "    full_cmd = fst_idx_cmd + fst_global_cmd + fst_window_cmd\n",
    "    slurm = make_slurm(echo=True,id=('%s.%s.fst' % (pop1,pop2)),cmd_string=full_cmd,mem='2000',time='01:00:00')"
   ]
  },
  {
   "cell_type": "markdown",
   "metadata": {},
   "source": [
    "Quick and dirty with vcftools"
   ]
  },
  {
   "cell_type": "markdown",
   "metadata": {},
   "source": [
    "setup vcf"
   ]
  },
  {
   "cell_type": "code",
   "execution_count": 14,
   "metadata": {
    "collapsed": true
   },
   "outputs": [],
   "source": [
    "cmd = ('''module load bcftools vcftools\\n'''\n",
    "       '''bcftools view '''\n",
    "       '''-T^../beds/agouti_mc1r_cov_bounds.txt '''\n",
    "       '''-m2 -M2 -v snps '''\n",
    "       '''../popgen_vcfs/vars/ALL.vcf.gz > ../popgen_vcfs/vars/not_agouti_mc1r.vcf\\n'''\n",
    "       '''/n/home11/twooldridge/scripts/zip_index_vcf.sh ../popgen_vcfs/vars/not_agouti_mc1r.vcf''')\n",
    "slurm = make_slurm(echo=True,id='filter',cmd_string = cmd,mem='5000',time='00:30:00')"
   ]
  },
  {
   "cell_type": "code",
   "execution_count": 11,
   "metadata": {},
   "outputs": [
    {
     "name": "stdout",
     "output_type": "stream",
     "text": [
      "Submitted batch job 55235200\n",
      "Submitted batch job 55235204\n",
      "Submitted batch job 55235208\n",
      "Submitted batch job 55235212\n",
      "Submitted batch job 55235217\n",
      "Submitted batch job 55235221\n",
      "Submitted batch job 55235227\n",
      "Submitted batch job 55235233\n",
      "Submitted batch job 55235236\n",
      "Submitted batch job 55235243\n",
      "Submitted batch job 55235250\n",
      "Submitted batch job 55235253\n",
      "Submitted batch job 55235256\n",
      "Submitted batch job 55235259\n",
      "Submitted batch job 55235261\n",
      "Submitted batch job 55235263\n",
      "Submitted batch job 55235265\n",
      "Submitted batch job 55235271\n",
      "Submitted batch job 55235275\n",
      "Submitted batch job 55235277\n",
      "Submitted batch job 55235280\n",
      "Submitted batch job 55235282\n",
      "Submitted batch job 55235303\n",
      "Submitted batch job 55235310\n",
      "Submitted batch job 55235314\n",
      "Submitted batch job 55235316\n",
      "Submitted batch job 55235320\n",
      "Submitted batch job 55235329\n",
      "Submitted batch job 55235332\n",
      "Submitted batch job 55235334\n",
      "Submitted batch job 55235348\n",
      "Submitted batch job 55235350\n",
      "Submitted batch job 55235353\n",
      "Submitted batch job 55235354\n",
      "Submitted batch job 55235356\n",
      "Submitted batch job 55235358\n",
      "Submitted batch job 55235361\n",
      "Submitted batch job 55235364\n",
      "Submitted batch job 55235366\n",
      "Submitted batch job 55235372\n",
      "Submitted batch job 55235377\n",
      "Submitted batch job 55235381\n",
      "Submitted batch job 55235389\n",
      "Submitted batch job 55235393\n",
      "Submitted batch job 55235397\n",
      "Submitted batch job 55235406\n",
      "Submitted batch job 55235407\n",
      "Submitted batch job 55235409\n",
      "Submitted batch job 55235413\n",
      "Submitted batch job 55235415\n",
      "Submitted batch job 55235421\n",
      "Submitted batch job 55235424\n",
      "Submitted batch job 55235429\n",
      "Submitted batch job 55235432\n",
      "Submitted batch job 55235450\n",
      "Submitted batch job 55235454\n",
      "Submitted batch job 55235461\n",
      "Submitted batch job 55235464\n",
      "Submitted batch job 55235467\n",
      "Submitted batch job 55235468\n",
      "Submitted batch job 55235470\n",
      "Submitted batch job 55235475\n",
      "Submitted batch job 55235479\n",
      "Submitted batch job 55235484\n",
      "Submitted batch job 55235488\n",
      "Submitted batch job 55235493\n",
      "Submitted batch job 55235500\n",
      "Submitted batch job 55235504\n",
      "Submitted batch job 55235506\n",
      "Submitted batch job 55235511\n",
      "Submitted batch job 55235515\n",
      "Submitted batch job 55235521\n",
      "Submitted batch job 55235523\n",
      "Submitted batch job 55235525\n",
      "Submitted batch job 55235528\n",
      "Submitted batch job 55235531\n",
      "Submitted batch job 55235534\n",
      "Submitted batch job 55235538\n"
     ]
    }
   ],
   "source": [
    "!mkdir -p fst\n",
    "pairwise_combos = list(itertools.combinations(flatten([pops,seqcapture_pops]),2))\n",
    "for pair in pairwise_combos:\n",
    "    pop1,pop2 = pair\n",
    "    cmd = ('''module load vcftools\\n'''\n",
    "           '''vcftools --gzvcf ../popgen_vcfs/vars/not_agouti_mc1r.vcf.gz '''\n",
    "           '''--weir-fst-pop ../poplists/{pop1}.poplist.txt --weir-fst-pop ../poplists/{pop2}.poplist.txt '''\n",
    "           '''--out fst/{pop1}.{pop2} ''').format(pop1=pop1,pop2=pop2)\n",
    "    slurm = make_slurm(echo=True,id='%s.%s.vcftoolsFST' % (pop1,pop2),cmd_string = cmd,mem='1000',time='00:05:00')"
   ]
  },
  {
   "cell_type": "markdown",
   "metadata": {},
   "source": [
    "# PCA"
   ]
  },
  {
   "cell_type": "markdown",
   "metadata": {},
   "source": [
    "## WGS data only"
   ]
  },
  {
   "cell_type": "markdown",
   "metadata": {},
   "source": [
    "VCF 2 beagle. Can use the same vcfs I used for SMC"
   ]
  },
  {
   "cell_type": "code",
   "execution_count": 15,
   "metadata": {
    "collapsed": true
   },
   "outputs": [],
   "source": [
    "!mkdir -p beagle\n",
    "vcfs = glob.glob('/n/scratchlfs/hoekstra_lab/brock/polionotus/SMC/vcfs/*vcf.gz')\n",
    "for vcf in vcfs:\n",
    "    chrom = os.path.basename(vcf)\n",
    "    chrom = re.sub(\".snps.vcf.gz|PO.|LO.\",\"\",chrom)\n",
    "    outname = re.sub(\".vcf.gz\",\"\",os.path.basename(vcf))\n",
    "    cmd =('''module load vcftools\\n'''\n",
    "          '''vcftools --gzvcf {vcf} --chr {chrom} --BEAGLE-PL --out beagle/{outname}\\n'''\n",
    "          '''/n/home11/twooldridge/Software/tabix/bgzip -fc beagle/{outname}.BEAGLE.PL > beagle/{outname}.BEAGLE.PL.gz\\n'''\n",
    "          '''/n/home11/twooldridge/Software/tabix/tabix -f beagle/{outname}.BEAGLE.PL.gz\\n''').format(vcf=vcf,chrom=chrom,outname=outname)\n",
    "    slurm = make_slurm(echo=True,id='%s.2beagle' % os.path.basename(vcf),cmd_string=cmd,mem='5000',time='00:30:00')"
   ]
  },
  {
   "cell_type": "markdown",
   "metadata": {},
   "source": [
    "Combine beagle files"
   ]
  },
  {
   "cell_type": "code",
   "execution_count": 25,
   "metadata": {
    "collapsed": true
   },
   "outputs": [],
   "source": [
    "for grp in ['LO.','PO.','']:\n",
    "    cat_string = 'cat '\n",
    "    for chrom in Ppol_sizes.keys():\n",
    "        if chrom == 'chr1':\n",
    "            cat_string = cat_string + 'beagle/%s%s.snps.BEAGLE.PL ' % (grp,chrom)\n",
    "        else:\n",
    "            cat_string = cat_string + '<(tail -n+2 beagle/%s%s.snps.BEAGLE.PL) ' % (grp,chrom)\n",
    "    cat_string = cat_string + '> beagle/%ssnps.BEAGLE.PL' % grp\n",
    "    slurm = make_slurm(id='%sCAT' % grp,cmd_string=cat_string,mem='30000',time='02:00:00')\n",
    "        "
   ]
  },
  {
   "cell_type": "markdown",
   "metadata": {},
   "source": [
    "Run pcaangsd"
   ]
  },
  {
   "cell_type": "code",
   "execution_count": 32,
   "metadata": {
    "collapsed": true
   },
   "outputs": [],
   "source": [
    "!mkdir -p covar\n",
    "for grp in ['LO.','PO.','']:\n",
    "    cmd=('''python2 /n/home11/twooldridge/Software/pcangsd/pcangsd.py '''\n",
    "         '''-beagle beagle/{grp}snps.BEAGLE.PL.gz -o covar/{grp} -threads 24''').format(grp=grp)\n",
    "    slurm = make_slurm(run=True,id='%sPCA' % grp,cmd_string=cmd,mem='40000',time='24:00:00',n=24)"
   ]
  },
  {
   "cell_type": "markdown",
   "metadata": {},
   "source": [
    "Alternative: go straight to beagle files from bam"
   ]
  },
  {
   "cell_type": "code",
   "execution_count": 13,
   "metadata": {
    "collapsed": true
   },
   "outputs": [],
   "source": [
    "!mkdir -p bam_based\n",
    "for pop in pops:\n",
    "    cmd = ('''~/Software/angsd/angsd -GL 1 -doGlf 2 -doMajorMinor 1 -doMaf 2 -SNP_pval 1e-6 -fold 1 '''\n",
    "           '''-minMapQ 30 -minQ 20 -C 50 -baq 1 -minHWEpval 0.01 '''\n",
    "           '''-anc /n/scratchlfs/hoekstra_lab/brock/polionotus/Ppol_1.3.3.chromosomes-unplaced_scaffolds.fasta ''' \n",
    "           '''-ref /n/scratchlfs/hoekstra_lab/brock/polionotus/Ppol_1.3.3.chromosomes-unplaced_scaffolds.fasta '''\n",
    "           '''-bam /n/scratchlfs/hoekstra_lab/brock/polionotus/poplists/{pop}.bamlist.txt '''\n",
    "           '''-nThreads 24 -out /n/holylfs/bam_based/{pop}.beagle\\n''').format(pop=pop)\n",
    "    slurm = make_slurm(id='%s.bam2beagle' % (pop),cmd_string=cmd,mem='40000',time='120:00:00',n=24,run=True)"
   ]
  },
  {
   "cell_type": "markdown",
   "metadata": {},
   "source": [
    "## Including seqcapture data"
   ]
  },
  {
   "cell_type": "markdown",
   "metadata": {},
   "source": [
    "### Only POALB: ANGSD-produced beagle file"
   ]
  },
  {
   "cell_type": "markdown",
   "metadata": {},
   "source": [
    "This is a little convoluted, but it is my workaround solution since running ANGSD can sometimes take a while, especially for the albifrons dataset. Because I happened to have a 'beagle' file for albifrons produced for the whole genome (not just seqcapture sites), there were tons of useless sites. So I decided to post-hoc filter this beagle file based on sites that were well-genotyped in the vcf, thinking that it would be quicker/easier then re-running ANGSD with the site restrictions. So here's what I did. **First** get high quality sites:"
   ]
  },
  {
   "cell_type": "code",
   "execution_count": 11,
   "metadata": {},
   "outputs": [
    {
     "name": "stderr",
     "output_type": "stream",
     "text": [
      "\n",
      "VCFtools - 0.1.15\n",
      "\n",
      "VCFtools - 0.1.15\n",
      "(C) Adam Auton and Anthony Marcketta 2009\n",
      "\n",
      "Parameters as interpreted:\n",
      "\t--vcf [stdin]\n",
      "\t--max-alleles 2\n",
      "\t--hwe 0.001\n",
      "\t--kept-sites\n",
      "\n",
      "(C) Adam Auton and Anthony Marcketta 2009\n",
      "\n",
      "Parameters as interpreted:\n",
      "\t--vcf [stdin]\n",
      "\t--recode-INFO-all\n",
      "\t--maf 0.05\n",
      "\t--max-missing 0.8\n",
      "\t--recode\n",
      "\t--stdout\n",
      "\n",
      "After filtering, kept 168 out of 168 Individuals\n",
      "Outputting VCF file...\n",
      "After filtering, kept 168 out of 168 Individuals\n",
      "Outputting Kept Sites...\n",
      "After filtering, kept 4600 out of a possible 22699 Sites\n",
      "Run Time = 15.00 seconds\n",
      "After filtering, kept 3977 out of a possible 4600 Sites\n",
      "Run Time = 15.00 seconds\n"
     ]
    }
   ],
   "source": [
    "%%bash\n",
    "module load bcftools vcftools\n",
    "bcftools view /n/hoekstra_lab_tier1/Users/brock/polionotus/popgen_vcfs/vars/ALL.vcf.gz -S ../poplists/POALB.poplist.txt | bcftools view -M2 --min-ac 1 -i 'ALT !~ \"*\"  && STRLEN(REF) == 1 && STRLEN(ALT) == 1'  | vcftools --vcf - --max-missing 0.8 --maf 0.05 --stdout --recode --recode-INFO-all | vcftools --vcf - --hwe 0.001 --kept-sites\n",
    "mv out.kept.sites POALB_biallelic_maf_missing_sites.txt"
   ]
  },
  {
   "cell_type": "markdown",
   "metadata": {},
   "source": [
    "**Second** read in beagle file and 'good sites' file to do some post-hoc filtering of the POALB beagle"
   ]
  },
  {
   "cell_type": "code",
   "execution_count": 2,
   "metadata": {
    "collapsed": true
   },
   "outputs": [],
   "source": [
    "# good sites\n",
    "goodsites = {}\n",
    "with open('POALB_biallelic_maf_missing_sites_filtered.txt','r') as data:\n",
    "    for line in data:\n",
    "        line = line.strip('\\n')\n",
    "        if 'CHROM' in line: continue\n",
    "        chrom, pos = line.split('\\t')\n",
    "        if chrom not in goodsites.keys():\n",
    "            goodsites[chrom] = [pos]\n",
    "        else:\n",
    "            goodsites[chrom].append(pos)\n",
    "data.close()\n",
    "\n",
    "# Process beagle\n",
    "newbeagle = []\n",
    "with open('bam_based/POALB.filtered.beagle','w') as outfile:\n",
    "    with gzip.open('POALB.beagle.gz','rt') as data:\n",
    "        for line in data:\n",
    "            if 'marker' in line: \n",
    "                newbeagle.append(line)\n",
    "                continue\n",
    "            #line = line.strip('\\n')\n",
    "            ID = line.split('\\t')[0]\n",
    "            Bchrom,Bpos = ID.split('_')\n",
    "            if Bpos in goodsites[Bchrom]:\n",
    "                newbeagle.append(line)\n",
    "                outfile.write(line)\n",
    "    data.close()\n",
    "outfile.close()"
   ]
  },
  {
   "cell_type": "markdown",
   "metadata": {},
   "source": [
    "**Third** Submit PCAangsd job"
   ]
  },
  {
   "cell_type": "code",
   "execution_count": 10,
   "metadata": {
    "ExecuteTime": {
     "end_time": "2022-05-19T13:35:10.706351Z",
     "start_time": "2022-05-19T13:35:10.341768Z"
    }
   },
   "outputs": [],
   "source": [
    "!mkdir -p covar\n",
    "cmd=('''python2 /n/home11/twooldridge/Software/pcangsd/pcangsd.py '''\n",
    "        '''-beagle bam_based/POALB.filtered.beagle.gz -o covar/POALB -threads 16''')\n",
    "slurm = make_slurm(run=False,id='PCA',cmd_string=cmd,mem='40000',time='02:00:00',n=16)"
   ]
  },
  {
   "cell_type": "markdown",
   "metadata": {},
   "source": [
    "Vis"
   ]
  },
  {
   "cell_type": "code",
   "execution_count": 14,
   "metadata": {
    "ExecuteTime": {
     "end_time": "2022-05-19T13:43:31.580755Z",
     "start_time": "2022-05-19T13:43:31.315635Z"
    }
   },
   "outputs": [
    {
     "name": "stdout",
     "output_type": "stream",
     "text": [
      "Joining, by = \"samples\"\n"
     ]
    },
    {
     "data": {
      "image/png": "[encoded data removed]"
     },
     "metadata": {},
     "output_type": "display_data"
    }
   ],
   "source": [
    "%%R -w 600 -h 600\n",
    "get_pca = function(covariance_matrix_path){\n",
    "    mat = read.table(covariance_matrix_path)\n",
    "    pca = eigen(as.matrix(mat))\n",
    "    return(pca)\n",
    "}\n",
    "\n",
    "get_info = function(sample_list_path,pop_strings,pop_ids){\n",
    "    info = read.table(sample_list_path) %>% set_colnames(\"samples\")\n",
    "    info %<>% mutate(pop = NA)\n",
    "    stopifnot(length(pop_strings)==length(pop_ids))\n",
    "    for (i in 1:length(pop_strings)){\n",
    "        cur_string = pop_strings[i]\n",
    "        cur_id = pop_ids[i]\n",
    "        info %<>% mutate(pop = ifelse(grepl(cur_string,samples),cur_id,pop))\n",
    "    }\n",
    "    return(info)\n",
    "}\n",
    "\n",
    "plot_pcs = function(pc_vec=c(1,2),data=pca,inf=info,label=FALSE){\n",
    "    names = sapply(pc_vec,function(x){paste0(\"PC\",x)})\n",
    "    comps = data.frame(data$vectors[,pc_vec]) %>% set_colnames(names)\n",
    "    loads = data$values/sum(data$values)\n",
    "    loads = sapply(loads[pc_vec],function(x){round(x,2)})\n",
    "    df = cbind(comps,inf)\n",
    "    ## Now plot ##\n",
    "    p = ggplot(df) + \n",
    "        geom_point(aes_string(x=names[1],y=names[2],color='pop'),size=3) +\n",
    "        scale_color_manual(name=\"\",values=hab_colors) +\n",
    "        xlab(paste0(names[1],\" (\",loads[1]*100,\"%)\")) +\n",
    "        ylab(paste0(names[2],\" (\",loads[2]*100,\"%)\")) +\n",
    "        theme_classic()\n",
    "    if (label==TRUE){p = p + geom_label_repel(aes_string(label = 'samples',x=names[1],y=names[2]))}\n",
    "    return(p)\n",
    "}\n",
    "\n",
    "ALB_info = get_info('/n/hoekstra_lab_tier1/Users/brock/polionotus/angsd/covar/POALB.sample.order.txt',pop_strings = c(\"POALB\"),pop_ids = c(\"POALB\")) %>% mutate(pop=\"POALB\")\n",
    "ALB_pca = get_pca('/n/hoekstra_lab_tier1/Users/brock/polionotus/angsd/covar/POALB.cov')\n",
    "pc_vec = c(1,2)\n",
    "data = ALB_pca\n",
    "label = FALSE\n",
    "inf = ALB_info\n",
    "\n",
    "names = sapply(pc_vec,function(x){paste0(\"PC\",x)})\n",
    "comps = data.frame(data$vectors[,pc_vec]) %>% set_colnames(names)\n",
    "loads = data$values/sum(data$values)\n",
    "loads = sapply(loads[pc_vec],function(x){round(x,2)})\n",
    "df = cbind(comps,inf)\n",
    "\n",
    "pheno = fread('/n/hoekstra_lab_tier1/Users/akautt/projects/Peromyscus_polionotus/results/association/pheno_master_miss50perc_withPCA.tsv')\n",
    "pca_pheno = left_join(df,pheno %>% dplyr::select(ANIMALID,PC1) %>% set_colnames(c(\"samples\",\"Phenotype_PC1\")))\n",
    "\n",
    "\n",
    "p = ggplot(pca_pheno) + \n",
    "    geom_point(aes_string(x=names[1],y=names[2],fill=\"Phenotype_PC1\"),size=3,alpha=0.8,pch=21,stroke=1) +\n",
    "    xlab(paste0(\"Genetic \",names[1],\" (\",loads[1]*100,\"%)\")) +\n",
    "    ylab(paste0(\"Genetic \",names[2],\" (\",loads[2]*100,\"%)\")) +\n",
    "    theme_classic() +\n",
    "    ggtitle('Genetic PCA of P. p. albifrons') +\n",
    "    theme(plot.title = element_text(hjust=0.5))\n",
    "if (label==TRUE){p = p + geom_label_repel(aes_string(label = 'samples',x=names[1],y=names[2]))}\n",
    "\n",
    "print(p)\n",
    "\n",
    "#ggsave('~/temp/polionotus/RAWFIGS/albifrons_geneticPCA_phenoPC1.svg',p,height=4,width=6)"
   ]
  },
  {
   "cell_type": "markdown",
   "metadata": {},
   "source": [
    "### All samples"
   ]
  },
  {
   "cell_type": "markdown",
   "metadata": {},
   "source": [
    "#### Straight from VCFs"
   ]
  },
  {
   "cell_type": "markdown",
   "metadata": {},
   "source": [
    "Convert to beagle, then PCAAngsd will be able to use the likelihoods, even if those likelihoods weren't generated by ANGSD proper"
   ]
  },
  {
   "cell_type": "code",
   "execution_count": 2,
   "metadata": {},
   "outputs": [
    {
     "name": "stdout",
     "output_type": "stream",
     "text": [
      "Submitted batch job 55955954\n",
      "Submitted batch job 55955955\n",
      "Submitted batch job 55955956\n",
      "Submitted batch job 55955957\n",
      "Submitted batch job 55955959\n",
      "Submitted batch job 55955960\n",
      "Submitted batch job 55955961\n",
      "Submitted batch job 55955963\n",
      "Submitted batch job 55955965\n",
      "Submitted batch job 55955966\n",
      "Submitted batch job 55955970\n",
      "Submitted batch job 55955971\n",
      "Submitted batch job 55955972\n",
      "Submitted batch job 55955973\n",
      "Submitted batch job 55955975\n",
      "Submitted batch job 55955977\n",
      "Submitted batch job 55955978\n",
      "Submitted batch job 55955979\n",
      "Submitted batch job 55955980\n",
      "Submitted batch job 55955981\n",
      "Submitted batch job 55955982\n",
      "Submitted batch job 55955983\n",
      "Submitted batch job 55955984\n",
      "Submitted batch job 55955985\n"
     ]
    }
   ],
   "source": [
    "!mkdir -p beagle\n",
    "for chrom in Ppol_sizes.keys():\n",
    "    cmd =('''module load vcftools\\n'''\n",
    "          '''vcftools --gzvcf /n/holylfs03/LABS/hoekstra_lab/Users/brock/polionotus/popgen_vcfs/vars/ALL.{chrom}.vcf.gz '''\n",
    "          '''--keep <(cut -f1 ../poplists/wgs_seq_pops_alternate.txt) '''\n",
    "          '''--exclude ../masks/hwe/seqcap/master.hwe.blacklist.txt '''\n",
    "          '''--thin 100 '''\n",
    "          '''--exclude-bed ../phylo/agouti_mc1r.bed --chr {chrom} --BEAGLE-PL --out beagle/{chrom}.ALL\\n'''\n",
    "          '''/n/home11/twooldridge/Software/tabix/bgzip -fc beagle/{chrom}.ALL.BEAGLE.PL > beagle/{chrom}.ALL.BEAGLE.PL.gz\\n'''\n",
    "          '''/n/home11/twooldridge/Software/tabix/tabix -f beagle/{chrom}.ALL.BEAGLE.PL.gz\\n''').format(chrom=chrom)\n",
    "    slurm = make_slurm(run=False,id='%s.2beagle' % chrom,cmd_string=cmd,mem='5000',time='00:30:00')"
   ]
  },
  {
   "cell_type": "markdown",
   "metadata": {},
   "source": [
    "Combine unzipped beagle files"
   ]
  },
  {
   "cell_type": "code",
   "execution_count": 3,
   "metadata": {},
   "outputs": [
    {
     "name": "stdout",
     "output_type": "stream",
     "text": [
      "Submitted batch job 55956006\n"
     ]
    }
   ],
   "source": [
    "cat_string = 'cat '\n",
    "for chrom in Ppol_sizes.keys():\n",
    "    if chrom == 'chr1':\n",
    "        cat_string = cat_string + 'beagle/%s.ALL.BEAGLE.PL ' % (chrom)\n",
    "    else:\n",
    "        cat_string = cat_string + '<(tail -n+2 beagle/%s.ALL.BEAGLE.PL) ' % (chrom)\n",
    "cat_string = cat_string + '> beagle/ALL.BEAGLE.PL\\n'\n",
    "zip_cmd = ('''/n/home11/twooldridge/Software/tabix/bgzip -fc beagle/ALL.BEAGLE.PL > beagle/ALL.BEAGLE.PL.gz\\n'''\n",
    "           '''/n/home11/twooldridge/Software/tabix/tabix -f beagle/ALL.BEAGLE.PL.gz\\n''').format(chrom=chrom)\n",
    "slurm = make_slurm(run=True,id='CAT',cmd_string=cat_string+zip_cmd,mem='30000',time='02:00:00')\n",
    "        "
   ]
  },
  {
   "cell_type": "markdown",
   "metadata": {},
   "source": [
    "Run PCAangsd -- has several defaults, including maf > 0.05"
   ]
  },
  {
   "cell_type": "code",
   "execution_count": 6,
   "metadata": {},
   "outputs": [
    {
     "name": "stdout",
     "output_type": "stream",
     "text": [
      "Submitted batch job 54556250\n"
     ]
    }
   ],
   "source": [
    "!mkdir -p covar\n",
    "cmd=('''python2 /n/home11/twooldridge/Software/pcangsd/pcangsd.py '''\n",
    "        '''-beagle beagle/ALL.BEAGLE.PL.gz -o covar/all -threads 16''')\n",
    "slurm = make_slurm(run=True,id='PCA',cmd_string=cmd,mem='40000',time='02:00:00',n=16)"
   ]
  },
  {
   "cell_type": "markdown",
   "metadata": {},
   "source": [
    "##### Viz"
   ]
  },
  {
   "cell_type": "code",
   "execution_count": 7,
   "metadata": {
    "ExecuteTime": {
     "end_time": "2022-05-19T13:26:20.951704Z",
     "start_time": "2022-05-19T13:26:20.540623Z"
    }
   },
   "outputs": [
    {
     "name": "stdout",
     "output_type": "stream",
     "text": [
      "Joining, by = \"pop\"\n",
      "Joining, by = \"pop\"\n"
     ]
    },
    {
     "data": {
      "image/png": "[encoded data removed]"
     },
     "metadata": {},
     "output_type": "display_data"
    }
   ],
   "source": [
    "%%R -w 800 -h 800\n",
    "pop_map = read.table('../polionotus_pop_data.csv',sep=\",\",header=T)\n",
    "pop_map %<>% \n",
    "    mutate(group = NA) %>%\n",
    "    mutate(group = ifelse(grepl(\"PO\",pop),\"Mainland\",group),\n",
    "           group = ifelse(pop == \"SEBM\",\"Atlantic Beach\",group),\n",
    "           group = ifelse(pop == \"POALB\",\"P. p. albifrons\",group),\n",
    "           group = ifelse(is.na(group), \"Gulf Beach\",group),\n",
    "           group = ifelse(pop == \"NUB\",\"Outgroup\",group))\n",
    "pop_map %<>% mutate(seq = ifelse(pop %in% c('PO','LO','NUB'),'WGS','CAP'))\n",
    "\n",
    "options(repr.plot.width=6,repr.plot.height=4)\n",
    "pc_vec = c(1,2)\n",
    "names = sapply(pc_vec,function(x){paste0(\"PC\",x)})\n",
    "# Setup plottable PC's\n",
    "mat = read.table(\"covar/all.cov\")\n",
    "pca = eigen(as.matrix(mat))\n",
    "comps = data.frame(pca$vectors[,pc_vec]) %>% set_colnames(names)\n",
    "# Get sample info \n",
    "info = read.table(\"covar/covar_order.txt\") %>% set_colnames(c(\"sample\",\"pop\"))\n",
    "info = left_join(info,pop_map %>% dplyr::select(pop,group)) %>% distinct\n",
    "# Get loadings\n",
    "loads = pca$values/sum(pca$values)\n",
    "loads = sapply(loads[pc_vec],function(x){round(x,2)})\n",
    "# Combine\n",
    "df = cbind(comps,info)\n",
    "df$PC1 = df$PC1 * -1\n",
    "# Pop labels\n",
    "labs = df %>%\n",
    "    group_by(pop) %>%\n",
    "    summarize(meanPC1 = mean(PC1),meanPC2=mean(PC2)) %>%\n",
    "    ungroup\n",
    "labs = left_join(labs, pop_map %>% dplyr::select(pop,sciname)) %>% distinct\n",
    "\n",
    "\n",
    "\n",
    "# Plot\n",
    "df$group = factor(df$group, levels = c('Gulf Beach', 'Atlantic Beach', 'Mainland','P. p. albifrons', 'Outgroup'))\n",
    "p = ggplot(df) + \n",
    "    geom_point(aes_string(x=names[1],y=names[2],fill=\"group\", color = 'group'),size=3,pch=21,alpha=0.8) +\n",
    "    #geom_label_repel(data=labs,aes(x=meanPC1,y=meanPC2,label=sciname),size=3,alpha = 0.8) +\n",
    "    #geom_point(data=labs,aes(x=meanPC1,y=meanPC2),pch=0) +\n",
    "    scale_fill_manual(values = c(wes_palette(\"Zissou1\")[c(4)],wes_palette(\"Darjeeling1\")[4], wes_palette(\"Zissou1\")[c(1)],'#91cf60',\"black\")) +\n",
    "    scale_colour_manual(values = c(wes_palette(\"Zissou1\")[c(4)],wes_palette(\"Darjeeling1\")[4], wes_palette(\"Zissou1\")[c(1)],'#91cf60',\"black\")) +    \n",
    "    xlab(paste0(names[1],\" (\",loads[1]*100,\"%)\")) +\n",
    "    ylab(paste0(names[2],\" (\",loads[2]*100,\"%)\")) +\n",
    "    theme_classic() +\n",
    "    theme(legend.title = element_blank(),legend.text = element_text(size=10), legend.position = c(0.2,0.3),legend.box.background = element_rect(colour = \"black\"),legend.background = element_blank())\n",
    "p\n",
    "#ggsave('~/temp/polionotus/RAWFIGS/PCA.svg',width = 6,height = 4,p)"
   ]
  },
  {
   "cell_type": "markdown",
   "metadata": {},
   "source": [
    "#### From ANGSD-produced beagle"
   ]
  },
  {
   "cell_type": "markdown",
   "metadata": {},
   "source": [
    "Straight from the probabilities generated by running ANGSD on all samples, at seqcapture sites only (see above)"
   ]
  },
  {
   "cell_type": "code",
   "execution_count": 15,
   "metadata": {
    "ExecuteTime": {
     "end_time": "2022-05-19T13:44:13.368244Z",
     "start_time": "2022-05-19T13:44:13.061106Z"
    }
   },
   "outputs": [],
   "source": [
    "!mkdir -p covar\n",
    "cmd=('''python2 /n/home11/twooldridge/Software/pcangsd/pcangsd.py '''\n",
    "        '''-beagle seqcap/all.beagle.gz -o covar/AB_all -threads 16''')\n",
    "slurm = make_slurm(run=False,id='PCA',cmd_string=cmd,mem='40000',time='24:00:00',n=16)"
   ]
  },
  {
   "cell_type": "markdown",
   "metadata": {},
   "source": [
    "Viz"
   ]
  },
  {
   "cell_type": "code",
   "execution_count": 95,
   "metadata": {
    "collapsed": true
   },
   "outputs": [],
   "source": [
    "%%bash\n",
    "rm -f covar/AB_all.order.txt\n",
    "cat all.bamlist.txt | while read path;do ID=$(basename $path | sed 's/\\..*//');pop=$(grep \"\\<$ID\\>\" ../poplists/wgs_seq_pops_alternate.txt | cut -f2);if [[ $pop == \"\" ]];then pop=$(grep \"$ID\" ../poplists/wgs_seq_pops_alternate.txt | cut -f2);fi;echo -e \"$ID\\t$pop\" >> covar/AB_all.order.txt;done"
   ]
  },
  {
   "cell_type": "code",
   "execution_count": 28,
   "metadata": {
    "ExecuteTime": {
     "end_time": "2022-05-19T14:42:19.799283Z",
     "start_time": "2022-05-19T14:42:19.406906Z"
    }
   },
   "outputs": [
    {
     "data": {
      "image/png": "[encoded data removed]"
     },
     "metadata": {},
     "output_type": "display_data"
    }
   ],
   "source": [
    "%%R\n",
    "pc_vec = c(1,2)\n",
    "names = sapply(pc_vec,function(x){paste0(\"PC\",x)})\n",
    "# Setup plottable PC's\n",
    "mat = read.table(\"covar/AB_all.cov\")\n",
    "pca = eigen(as.matrix(mat))\n",
    "comps = data.frame(pca$vectors[,pc_vec]) %>% set_colnames(names)\n",
    "# Get sample info \n",
    "info = read.table(\"covar/AB_all.order.txt\") %>% set_colnames(c(\"sample\",\"pop\"))\n",
    "info = left_join(info,pop_map %>% dplyr::select(altlabel,group), by = c('pop' = 'altlabel')) %>% distinct\n",
    "# Get loadings\n",
    "loads = pca$values/sum(pca$values)\n",
    "loads = sapply(loads[pc_vec],function(x){round(x,2)})\n",
    "# Combine\n",
    "df = cbind(comps,info)\n",
    "df$PC1 = df$PC1 * -1\n",
    "df$group = factor(df$group, levels = c('Gulf Beach', 'Atlantic Beach', 'Mainland','P. p. albifrons', 'Outgroup'))\n",
    "# Plot\n",
    "ggplot(df) + \n",
    "    geom_point(aes_string(x=names[1],y=names[2], color='group', fill = 'group'), size=3,pch=21,alpha=0.8) +\n",
    "    scale_fill_manual(values = c(wes_palette(\"Zissou1\")[c(4)],wes_palette(\"Darjeeling1\")[4], wes_palette(\"Zissou1\")[c(1)],'#91cf60',\"black\")) +\n",
    "    scale_colour_manual(values = c(wes_palette(\"Zissou1\")[c(4)],wes_palette(\"Darjeeling1\")[4], wes_palette(\"Zissou1\")[c(1)],'#91cf60',\"black\")) +    \n",
    "    xlab(paste0(names[1],\" (\",loads[1]*100,\"%)\")) +\n",
    "    ylab(paste0(names[2],\" (\",loads[2]*100,\"%)\")) +\n",
    "    theme_classic() +\n",
    "    theme(legend.title = element_blank(),legend.text = element_text(size=10), legend.position = c(0.8,0.3),legend.box.background = element_rect(colour = \"black\"),legend.background = element_blank())\n"
   ]
  }
 ],
 "metadata": {
  "kernelspec": {
   "display_name": "Python 3",
   "language": "python",
   "name": "python3"
  },
  "language_info": {
   "codemirror_mode": {
    "name": "ipython",
    "version": 3
   },
   "file_extension": ".py",
   "mimetype": "text/x-python",
   "name": "python",
   "nbconvert_exporter": "python",
   "pygments_lexer": "ipython3",
   "version": "3.7.12"
  },
  "toc": {
   "base_numbering": 1,
   "nav_menu": {},
   "number_sections": true,
   "sideBar": true,
   "skip_h1_title": false,
   "title_cell": "Table of Contents",
   "title_sidebar": "Contents",
   "toc_cell": false,
   "toc_position": {
    "height": "calc(100% - 180px)",
    "left": "10px",
    "top": "150px",
    "width": "335.996px"
   },
   "toc_section_display": true,
   "toc_window_display": true
  }
 },
 "nbformat": 4,
 "nbformat_minor": 2
}
