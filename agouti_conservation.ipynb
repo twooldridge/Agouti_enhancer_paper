{
 "cells": [
  {
   "cell_type": "markdown",
   "id": "2e33308a",
   "metadata": {},
   "source": [
    "## Info"
   ]
  },
  {
   "cell_type": "markdown",
   "id": "2e28f4c6",
   "metadata": {},
   "source": [
    "This notebook contains the code for analyzing sequence conservation around the regulatory element (e.g. phyloP)"
   ]
  },
  {
   "cell_type": "code",
   "execution_count": 1,
   "id": "2e3011d0",
   "metadata": {
    "ExecuteTime": {
     "end_time": "2022-05-19T14:48:45.545643Z",
     "start_time": "2022-05-19T14:48:26.622819Z"
    }
   },
   "outputs": [],
   "source": [
    "%run '~/jupyter/py3_functions.py'\n",
    "%run '/n/home11/twooldridge/scripts/polionotus_project/polionotus_setup.py'\n",
    "setupWorkspace('/n/hoekstra_lab_tier1/Users/brock/polionotus/conservation_plot/')\n",
    "\n",
    "\n",
    "#from Bio import SeqIO\n",
    "%matplotlib inline\n",
    "from IPython.display import display\n",
    "from bokeh.plotting import figure, show, save, output_notebook, output_file\n",
    "from bokeh.models import ColumnDataSource,HoverTool,CategoricalColorMapper,Range1d\n",
    "from bokeh.models import BoxSelectTool,BoxZoomTool,LassoSelectTool,Legend\n",
    "from bokeh.io import export_png\n",
    "from bokeh.layouts import column,gridplot\n",
    "\n",
    "## R\n",
    "from rpy2 import rinterface\n",
    "from jupyter_helpers import rpy2_autocompletion\n",
    "%load_ext rpy2.ipython\n"
   ]
  },
  {
   "cell_type": "markdown",
   "id": "cb1bb195",
   "metadata": {},
   "source": [
    "## Input data"
   ]
  },
  {
   "cell_type": "markdown",
   "id": "ef65e1c8",
   "metadata": {},
   "source": [
    "Download rodent Agouti sequences"
   ]
  },
  {
   "cell_type": "code",
   "execution_count": 1,
   "id": "bb20ec18",
   "metadata": {
    "ExecuteTime": {
     "end_time": "2022-05-19T15:03:03.142477Z",
     "start_time": "2022-05-19T15:03:01.736745Z"
    }
   },
   "outputs": [
    {
     "name": "stderr",
     "output_type": "stream",
     "text": [
      "Can't locate IO/Socket/SSL.pm in @INC (you may need to install the IO::Socket::SSL module) (@INC contains: /n/home11/twooldridge/edirect/aux/lib/perl5/x86_64-linux-thread-multi /n/home11/twooldridge/edirect/aux/lib/perl5 /n/home11/twooldridge/apps/perl /n/home11/twooldridge/apps/perl/lib/perl5/x86_64-linux-thread-multi /n/home11/twooldridge/apps/perl/lib/perl5 /n/home11/twooldridge/.conda/envs/doom/lib/perl5/5.32/site_perl /n/home11/twooldridge/.conda/envs/doom/lib/perl5/site_perl /n/home11/twooldridge/.conda/envs/doom/lib/perl5/5.32/vendor_perl /n/home11/twooldridge/.conda/envs/doom/lib/perl5/vendor_perl /n/home11/twooldridge/.conda/envs/doom/lib/perl5/5.32/core_perl /n/home11/twooldridge/.conda/envs/doom/lib/perl5/core_perl .) at /n/home11/twooldridge/edirect/edirect.pl line 70.\n",
      "BEGIN failed--compilation aborted at /n/home11/twooldridge/edirect/edirect.pl line 70.\n",
      "Can't locate IO/Socket/SSL.pm in @INC (you may need to install the IO::Socket::SSL module) (@INC contains: /n/home11/twooldridge/edirect/aux/lib/perl5/x86_64-linux-thread-multi /n/home11/twooldridge/edirect/aux/lib/perl5 /n/home11/twooldridge/apps/perl /n/home11/twooldridge/apps/perl/lib/perl5/x86_64-linux-thread-multi /n/home11/twooldridge/apps/perl/lib/perl5 /n/home11/twooldridge/.conda/envs/doom/lib/perl5/5.32/site_perl /n/home11/twooldridge/.conda/envs/doom/lib/perl5/site_perl /n/home11/twooldridge/.conda/envs/doom/lib/perl5/5.32/vendor_perl /n/home11/twooldridge/.conda/envs/doom/lib/perl5/vendor_perl /n/home11/twooldridge/.conda/envs/doom/lib/perl5/5.32/core_perl /n/home11/twooldridge/.conda/envs/doom/lib/perl5/core_perl .) at /n/home11/twooldridge/edirect/edirect.pl line 70.\n",
      "BEGIN failed--compilation aborted at /n/home11/twooldridge/edirect/edirect.pl line 70.\n"
     ]
    }
   ],
   "source": [
    "%%bash\n",
    "### only rodents\n",
    "\n",
    "### pull out gene coordinates for all rodent ASIP orthologs\n",
    "esearch -db gene -query \"ortholog_gene_434[group] AND rodents[orgn]\" \\\n",
    "    | esummary -db gene \\\n",
    "    | xtract -pattern DocumentSummary -element ScientificName -block LocationHist -element 'ChrAccVer,ChrStart,ChrStop' \\\n",
    "    | awk -F \"\\t\" 'BEGIN{OFS=\"\\t\"} {count=0; for (i=2;i<=NF;i++) if ($i~\"[A_Z]\") count++; if (count>1) print $1,$2,$(2+count)+1,$(2+count*2)+1; else print $1,$2,$3+1,$4+1}' \\\n",
    "    | sed 's/ /_/g' > NCBI.orthogroup_434.rodents.gene_coords.tsv\n",
    "## pull out all sequences\n",
    "while IFS=$'\\t' read SPC ACC START END\n",
    "\n",
    "do \n",
    "    efetch -db nucleotide -id \"$ACC\" -chr_start \"$START\" -chr_stop \"$END\" -format fasta\n",
    "\n",
    "done > NCBI.orthogroup_434.rodents.fasta < NCBI.orthogroup_434.rodents.gene_coords.tsv\n",
    "\n",
    "\n",
    "\n",
    "\n",
    "### add 15kb padding\n",
    "awk -v padding=\"15000\" 'BEGIN{OFS=\"\\t\"} {if ($3<$4) {start=$3-padding; end=$4+padding} else {start=$3+padding; end=$4-padding} \\\n",
    "    if (start<1) start=1; if (end<1) end=1; print $1,$2,start,end}' \\\n",
    "    NCBI.orthogroup_434.rodents.gene_coords.tsv > NCBI.orthogroup_434.rodents.gene_coords.15kb_pad.tsv\n",
    "\n",
    "\n",
    "\n",
    "\n",
    "### pull out sequences\n",
    "while IFS=$'\\t' read SPC ACC START END\n",
    "\n",
    "do \n",
    "    efetch -db nucleotide -id \"${ACC}\" -chr_start \"${START}\" -chr_stop \"${END}\" -format fasta \\\n",
    "    > ${SPC}.asip.15kb_pad.fasta\n",
    " \n",
    "done < NCBI.orthogroup_434.rodents.gene_coords.15kb_pad.tsv"
   ]
  },
  {
   "cell_type": "markdown",
   "id": "25f0fac7",
   "metadata": {},
   "source": [
    "Get rodent sequences together for alignment"
   ]
  },
  {
   "cell_type": "code",
   "execution_count": null,
   "id": "badc0719",
   "metadata": {},
   "outputs": [],
   "source": [
    "%%bash\n",
    "rm rodent_agouti.fasta;~/Software/newick-utils-1.6/src/nw_labels rodents_cladogram.nwk | cut -d '_' -f1 | sort -u | while read GENUS;do ls NCBI_sequences/$GENUS* | xargs -I {} cat {} >> rodent_agouti.fasta;done"
   ]
  },
  {
   "cell_type": "markdown",
   "id": "c5a40fba",
   "metadata": {},
   "source": [
    "Run alignment"
   ]
  },
  {
   "cell_type": "code",
   "execution_count": null,
   "id": "e415c742",
   "metadata": {},
   "outputs": [],
   "source": [
    "%%bash\n",
    "sbatch -e alignment.err -o alignment.out -J alignment --mem=30000 --time=24:00:00 -N 1 -n 1 -c 10 -p shared,hoekstra --wrap=\"mafft --thread 10 --keeplength --add rodent_agouti.fasta Ppol1.3.agouti.cactus_toend_with1kbupdown.fasta > NCBI.orthogroup_434.rodents.Ppol1.3.mafft_addfull_aligned.fasta\""
   ]
  },
  {
   "cell_type": "markdown",
   "id": "26a9321c",
   "metadata": {},
   "source": [
    "Make sure labels match between nwk tree and alignment"
   ]
  },
  {
   "cell_type": "code",
   "execution_count": 7,
   "id": "c347ce09",
   "metadata": {
    "ExecuteTime": {
     "end_time": "2021-06-15T12:40:12.788674Z",
     "start_time": "2021-06-15T12:40:12.512577Z"
    }
   },
   "outputs": [],
   "source": [
    "%%bash\n",
    "perl -pe 's/^>(.*?) />/;s/ /_/;s/ .*//;' NCBI.orthogroup_434.rodents.Ppol1.3.mafft_addfull_aligned.fasta > alignment_relabeled.fasta\n",
    "sed -i 's/chr4:9840443-9857015/Peromyscus_polionotus/' alignment_relabeled.fasta\n",
    "sed 's/Cricetulus_barabensis/Cricetulus_griseus/g;s/Grammomys_dolichurus/Grammomys_surdaster/' rodents_cladogram.nwk > rodents_cladogram_relabeled.nwk"
   ]
  },
  {
   "cell_type": "markdown",
   "id": "5b3976db",
   "metadata": {},
   "source": [
    "Check that there is no discordance between the two taxon sets"
   ]
  },
  {
   "cell_type": "code",
   "execution_count": 8,
   "id": "7fa7a3bf",
   "metadata": {
    "ExecuteTime": {
     "end_time": "2021-06-15T12:41:44.438493Z",
     "start_time": "2021-06-15T12:41:43.949363Z"
    }
   },
   "outputs": [
    {
     "name": "stdout",
     "output_type": "stream",
     "text": [
      "Labels unique to tree:\n",
      "Labels unique to alignment:\n"
     ]
    }
   ],
   "source": [
    "%%bash\n",
    "echo \"Labels unique to tree:\"\n",
    "comm -13 <(grep \">\" alignment_relabeled.fasta | sed 's/>//g' | sort) <(~/Software/newick-utils-1.6/src/nw_labels rodents_cladogram_relabeled.nwk | sort)\n",
    "echo \"Labels unique to alignment:\"\n",
    "comm -23 <(grep \">\" alignment_relabeled.fasta | sed 's/>//g' | sort) <(~/Software/newick-utils-1.6/src/nw_labels rodents_cladogram_relabeled.nwk | sort)"
   ]
  },
  {
   "cell_type": "markdown",
   "id": "be62ff8b",
   "metadata": {},
   "source": [
    "## PhyloP"
   ]
  },
  {
   "cell_type": "code",
   "execution_count": 10,
   "id": "49bf98d2",
   "metadata": {
    "ExecuteTime": {
     "end_time": "2021-06-15T12:51:38.904777Z",
     "start_time": "2021-06-15T12:44:35.787193Z"
    }
   },
   "outputs": [
    {
     "name": "stderr",
     "output_type": "stream",
     "text": [
      "Reading alignment from alignment_relabeled.fasta ...\n",
      "Extracting sufficient statistics ...\n",
      "Compacting sufficient statistics ...\n",
      "Fitting tree model to alignment_relabeled.fasta using REV ...\n",
      "numpar = 57\n",
      "Done.  log(likelihood) = -181954.785500 numeval=9505\n",
      "Writing model to phyloP_model.mod ...\n",
      "Done.\n"
     ]
    }
   ],
   "source": [
    "%%bash\n",
    "/n/home11/twooldridge/Software/phast/bin/phyloFit --tree rodents_cladogram_relabeled.nwk --subst-mod REV --out-root phyloP_model alignment_relabeled.fasta"
   ]
  },
  {
   "cell_type": "markdown",
   "id": "ad485645",
   "metadata": {},
   "source": [
    "By base pair"
   ]
  },
  {
   "cell_type": "code",
   "execution_count": 12,
   "id": "37d9aedb",
   "metadata": {
    "ExecuteTime": {
     "end_time": "2021-06-15T12:58:35.170260Z",
     "start_time": "2021-06-15T12:58:32.252051Z"
    }
   },
   "outputs": [],
   "source": [
    "%%bash\n",
    "/n/home11/twooldridge/Software/phast/bin/phyloP --mode CONACC --method LRT --wig-scores phyloP_model.mod alignment_relabeled.fasta > phyloPscores.wig"
   ]
  },
  {
   "cell_type": "markdown",
   "id": "7e909029",
   "metadata": {},
   "source": [
    "In 10bp windows"
   ]
  },
  {
   "cell_type": "code",
   "execution_count": 47,
   "id": "f2a81645",
   "metadata": {
    "ExecuteTime": {
     "end_time": "2021-06-15T13:50:50.534692Z",
     "start_time": "2021-06-15T13:50:47.755547Z"
    }
   },
   "outputs": [],
   "source": [
    "%%bash\n",
    "module load samtools\n",
    "samtools faidx Ppol1.3.agouti.cactus_toend_with1kbupdown.fasta\n",
    "bedtools makewindows -g <(cut -f1,2 Ppol1.3.agouti.cactus_toend_with1kbupdown.fasta.fai) -w 10 > 10bp_windows.bed\n",
    "/n/home11/twooldridge/Software/phast/bin/phyloP --mode CONACC --method LRT --features 10bp_windows.bed -g phyloP_model.mod alignment_relabeled.fasta > phyloPscores_10bp.wig"
   ]
  },
  {
   "cell_type": "markdown",
   "id": "b9811c02",
   "metadata": {
    "ExecuteTime": {
     "end_time": "2021-06-15T14:04:20.699061Z",
     "start_time": "2021-06-15T14:04:20.694062Z"
    }
   },
   "source": [
    "In 50bp windows"
   ]
  },
  {
   "cell_type": "code",
   "execution_count": 70,
   "id": "11c58752",
   "metadata": {
    "ExecuteTime": {
     "end_time": "2021-06-15T14:05:19.162807Z",
     "start_time": "2021-06-15T14:05:17.814384Z"
    }
   },
   "outputs": [],
   "source": [
    "%%bash\n",
    "module load samtools\n",
    "samtools faidx Ppol1.3.agouti.cactus_toend_with1kbupdown.fasta\n",
    "bedtools makewindows -g <(cut -f1,2 Ppol1.3.agouti.cactus_toend_with1kbupdown.fasta.fai) -w 50 > 50bp_windows.bed\n",
    "/n/home11/twooldridge/Software/phast/bin/phyloP --mode CONACC --method LRT --features 50bp_windows.bed -g phyloP_model.mod alignment_relabeled.fasta > phyloPscores_50bp.wig"
   ]
  },
  {
   "cell_type": "markdown",
   "id": "e1eee5fd",
   "metadata": {},
   "source": [
    "## Plot"
   ]
  },
  {
   "cell_type": "code",
   "execution_count": 87,
   "id": "162430c2",
   "metadata": {
    "ExecuteTime": {
     "end_time": "2021-06-15T15:18:17.953083Z",
     "start_time": "2021-06-15T15:18:17.941116Z"
    }
   },
   "outputs": [],
   "source": [
    "%%R\n",
    "library(tidyverse)\n",
    "library(data.table)\n",
    "library(magrittr)\n",
    "library(ggplot2)\n",
    "library(scales)"
   ]
  },
  {
   "cell_type": "markdown",
   "id": "6157a3a1",
   "metadata": {},
   "source": [
    "By bp"
   ]
  },
  {
   "cell_type": "code",
   "execution_count": 49,
   "id": "63b55221",
   "metadata": {
    "ExecuteTime": {
     "end_time": "2021-06-15T13:51:28.051076Z",
     "start_time": "2021-06-15T13:51:19.441421Z"
    },
    "code_folding": []
   },
   "outputs": [
    {
     "data": {
      "image/png": "[encoded data removed]"
     },
     "metadata": {},
     "output_type": "display_data"
    }
   ],
   "source": [
    "%%R -w 800 -h 200\n",
    "region_start = 9840443\n",
    "phyloP_scores = fread('phyloPscores.wig',skip =1, header = F) %>% set_colnames(c(\"phyloP\")) %>% mutate(bp = seq(1,nrow(.),1),corrected_bp = bp + region_start- 1)\n",
    "phyloP_scores %<>% mutate(phyloP_state = ifelse(phyloP > 0,\"conserved\",\"accelerated\"))\n",
    "\n",
    "SNPs = data.frame(SNP = c(9845152,9845301,9846908))\n",
    "\n",
    "ggplot(phyloP_scores) +\n",
    "    geom_bar(aes(x=corrected_bp, y = phyloP, fill = phyloP_state), stat = \"identity\") +\n",
    "    #geom_bar(data = phyloP_scores %>% filter(abs(phyloP) < 1.6), aes(x = corrected_bp, y = phyloP), stat = \"identity\", fill = \"gray\") +\n",
    "    geom_hline(aes(yintercept = 1.6), lty = 2) +\n",
    "    geom_hline(aes(yintercept = -1.6), lty = 2) +\n",
    "    theme_classic()"
   ]
  },
  {
   "cell_type": "markdown",
   "id": "2aa4513f",
   "metadata": {
    "ExecuteTime": {
     "end_time": "2021-06-15T13:51:37.557035Z",
     "start_time": "2021-06-15T13:51:37.547255Z"
    }
   },
   "source": [
    "By 10bp windows"
   ]
  },
  {
   "cell_type": "code",
   "execution_count": 66,
   "id": "9fd88a8a",
   "metadata": {
    "ExecuteTime": {
     "end_time": "2021-06-15T14:01:05.414210Z",
     "start_time": "2021-06-15T14:01:05.121133Z"
    }
   },
   "outputs": [
    {
     "data": {
      "image/png": "[encoded data removed]"
     },
     "metadata": {},
     "output_type": "display_data"
    }
   ],
   "source": [
    "%%R -w 800 -h 200\n",
    "region_start = 9840443\n",
    "phyloP_scores = \n",
    "    fread('phyloPscores_10bp.wig', header = F) %>% \n",
    "    dplyr::select(V4,V5,V6) %>% \n",
    "    set_colnames(c(\"start\",\"end\",\"phyloP\")) %>% \n",
    "    mutate(corrected_start = start + region_start- 1, corrected_end = end + region_start - 1)\n",
    "phyloP_scores %<>% mutate(phyloP_state = ifelse(phyloP > 0,\"conserved\",\"accelerated\"))\n",
    "\n",
    "ggplot(phyloP_scores) +\n",
    "    geom_rect(aes(xmin = corrected_start, xmax = corrected_end, ymin = 0, ymax = phyloP, fill = phyloP_state), stat = \"identity\") +\n",
    "    #geom_bar(data = phyloP_scores %>% filter(abs(phyloP) < 1.6), aes(x = corrected_bp, y = phyloP), stat = \"identity\", fill = \"gray\") +\n",
    "    geom_hline(aes(yintercept = 1.6), lty = 2) +\n",
    "    geom_hline(aes(yintercept = -1.6), lty = 2) +\n",
    "    geom_vline(data = SNPs, aes(xintercept = SNP)) +\n",
    "   # xlim(c(min(phyloP_scores$corrected_start), max(phyloP_scores$corrected_end))) + \n",
    "    theme_classic()\n"
   ]
  },
  {
   "cell_type": "code",
   "execution_count": 80,
   "id": "97cb37b3",
   "metadata": {
    "ExecuteTime": {
     "end_time": "2021-06-15T14:50:08.456534Z",
     "start_time": "2021-06-15T14:50:08.392138Z"
    }
   },
   "outputs": [
    {
     "name": "stdout",
     "output_type": "stream",
     "text": [
      "         V1      V2   V3\n",
      " 1: 9737779 9737905 exon\n",
      " 2: 9831100 9831184 exon\n",
      " 3: 9831224 9831321 exon\n",
      " 4: 9837604 9837757 exon\n",
      " 5: 9850098 9850152 exon\n",
      " 6: 9850932 9850941  utr\n",
      " 7: 9850942 9851101 exon\n",
      " 8: 9852831 9852919 exon\n",
      " 9: 9855628 9855798 exon\n",
      "10: 9855799 9856015  utr\n"
     ]
    }
   ],
   "source": [
    "%%R\n",
    "exons"
   ]
  },
  {
   "cell_type": "markdown",
   "id": "283f5070",
   "metadata": {},
   "source": [
    "Fig. 4 conservation panel"
   ]
  },
  {
   "cell_type": "code",
   "execution_count": 100,
   "id": "0232b07e",
   "metadata": {
    "ExecuteTime": {
     "end_time": "2021-06-15T15:48:23.087750Z",
     "start_time": "2021-06-15T15:48:22.828812Z"
    },
    "code_folding": []
   },
   "outputs": [
    {
     "data": {
      "image/png": "[encoded data removed]"
     },
     "metadata": {},
     "output_type": "display_data"
    }
   ],
   "source": [
    "%%R -w 800 -h 100\n",
    "region_start = 9840443\n",
    "focal_SNP = 9845301\n",
    "phyloP_scores = \n",
    "    fread('phyloPscores_50bp.wig', header = F) %>% \n",
    "    dplyr::select(V4,V5,V6) %>% \n",
    "    set_colnames(c(\"start\",\"end\",\"phyloP\")) %>% \n",
    "    mutate(corrected_start = start + region_start- 1, corrected_end = end + region_start - 1)\n",
    "phyloP_scores %<>% mutate(phyloP_state = ifelse(phyloP > 0,\"conserved\",\"accelerated\"))\n",
    "\n",
    "exons = fread('Ppol1.3.agouti.annotation.txt', header = F)\n",
    "exons %<>% set_colnames(c('start','end','id'))\n",
    "\n",
    "window_extension = 5000\n",
    "ggplot(phyloP_scores) +\n",
    "    geom_rect(aes(xmin = corrected_start, xmax = corrected_end, ymin = 0, ymax = phyloP, fill = phyloP_state), stat = \"identity\") +\n",
    "    geom_rect(data = exons, aes(xmin = start, xmax = end, ymin = -Inf, ymax = Inf), alpha = 0.5) +\n",
    "    #geom_hline(aes(yintercept = 1.6), lty = 2) +\n",
    "    #geom_hline(aes(yintercept = -1.6), lty = 2) +\n",
    "    geom_vline(data = SNPs, aes(xintercept = SNP)) +\n",
    "    scale_x_continuous(limits = c(focal_SNP - window_extension, focal_SNP + window_extension), breaks = pretty_breaks(10)) + \n",
    "    theme_classic() +\n",
    "    theme(axis.text.y = element_blank(), axis.ticks.y = element_blank(), axis.line.y = element_blank())\n",
    "    \n",
    "\n",
    "#ggsave('~/temp/polionotus/RAWFIGS/phyloP_plot.svg')"
   ]
  },
  {
   "cell_type": "markdown",
   "id": "702e949d",
   "metadata": {},
   "source": [
    "## Tree"
   ]
  },
  {
   "cell_type": "markdown",
   "id": "6a54cbc7",
   "metadata": {},
   "source": [
    "Plotting tree, for adding to the left side of the mVISTA plot to provide more context (Supplemental figure)"
   ]
  },
  {
   "cell_type": "code",
   "execution_count": null,
   "id": "380cbee7",
   "metadata": {},
   "outputs": [],
   "source": [
    "a = read.nexus('~/temp/polionotus/RAWFIGS/mammal_1000.nex')\n",
    "consensus_tree = ape::consensus(a)\n",
    "write.tree(consensus_tree, '../conservation_plot/rodents_cladogram.nwk')\n",
    "\n",
    "p = ggtree(consensus_tree, size = 1) + geom_tiplab(offset = 1) + ggplot2::xlim(c(0,100)) + geom_nodelab()\n",
    "#\n",
    "q = rotate(p, 31)\n",
    "q = rotate(q, 40)\n",
    "q = rotate(q, 41)\n",
    "q = rotate(q, 42)\n",
    "#\n",
    "q = rotate(q, 32)\n",
    "q = rotate(q, 37)\n",
    "#\n",
    "q = rotate(q, 51)\n",
    "q = rotate(q, 52)\n",
    "\n",
    "\n",
    "#pdf('~/temp/polionotus/RAWFIGS/fig5_tree.pdf', width = 2.5, height = 6)\n",
    "#q\n",
    "#dev.off()\n"
   ]
  }
 ],
 "metadata": {
  "kernelspec": {
   "display_name": "Python 3",
   "language": "python",
   "name": "python3"
  },
  "language_info": {
   "codemirror_mode": {
    "name": "ipython",
    "version": 3
   },
   "file_extension": ".py",
   "mimetype": "text/x-python",
   "name": "python",
   "nbconvert_exporter": "python",
   "pygments_lexer": "ipython3",
   "version": "3.7.12"
  },
  "toc": {
   "base_numbering": 1,
   "nav_menu": {},
   "number_sections": true,
   "sideBar": true,
   "skip_h1_title": false,
   "title_cell": "Table of Contents",
   "title_sidebar": "Contents",
   "toc_cell": false,
   "toc_position": {
    "height": "calc(100% - 180px)",
    "left": "10px",
    "top": "150px",
    "width": "165px"
   },
   "toc_section_display": true,
   "toc_window_display": true
  }
 },
 "nbformat": 4,
 "nbformat_minor": 5
}
